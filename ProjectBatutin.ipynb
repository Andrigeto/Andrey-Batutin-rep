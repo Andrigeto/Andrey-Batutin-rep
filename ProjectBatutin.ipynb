{
 "cells": [
  {
   "cell_type": "markdown",
   "metadata": {
    "toc": true
   },
   "source": [
    "<h1>Содержание<span class=\"tocSkip\"></span></h1>\n",
    "<div class=\"toc\"><ul class=\"toc-item\"><li><span><a href=\"#Подготовка-данных\" data-toc-modified-id=\"Подготовка-данных-1\"><span class=\"toc-item-num\">1&nbsp;&nbsp;</span>Подготовка данных</a></span></li><li><span><a href=\"#Исследование-задачи\" data-toc-modified-id=\"Исследование-задачи-2\"><span class=\"toc-item-num\">2&nbsp;&nbsp;</span>Исследование задачи</a></span></li><li><span><a href=\"#Борьба-с-дисбалансом\" data-toc-modified-id=\"Борьба-с-дисбалансом-3\"><span class=\"toc-item-num\">3&nbsp;&nbsp;</span>Борьба с дисбалансом</a></span></li><li><span><a href=\"#Тестирование-модели\" data-toc-modified-id=\"Тестирование-модели-4\"><span class=\"toc-item-num\">4&nbsp;&nbsp;</span>Тестирование модели</a></span></li></ul></div>"
   ]
  },
  {
   "cell_type": "markdown",
   "metadata": {},
   "source": [
    "# Отток клиентов"
   ]
  },
  {
   "cell_type": "markdown",
   "metadata": {},
   "source": [
    "Из «Бета-Банка» стали уходить клиенты. Каждый месяц. Немного, но заметно. Банковские маркетологи посчитали: сохранять текущих клиентов дешевле, чем привлекать новых.\n",
    "\n",
    "Нужно спрогнозировать, уйдёт клиент из банка в ближайшее время или нет. Вам предоставлены исторические данные о поведении клиентов и расторжении договоров с банком. \n",
    "\n",
    "Постройте модель с предельно большим значением *F1*-меры. Чтобы сдать проект успешно, нужно довести метрику до 0.59. Проверьте *F1*-меру на тестовой выборке самостоятельно.\n",
    "\n",
    "Дополнительно измеряйте *AUC-ROC*, сравнивайте её значение с *F1*-мерой.\n",
    "\n",
    "Источник данных: [https://www.kaggle.com/barelydedicated/bank-customer-churn-modeling](https://www.kaggle.com/barelydedicated/bank-customer-churn-modeling)"
   ]
  },
  {
   "cell_type": "markdown",
   "metadata": {},
   "source": [
    "Введение"
   ]
  },
  {
   "cell_type": "markdown",
   "metadata": {},
   "source": [
    "Перед нами предстоит датасет из 10тысяч клиентов.В нем отражено социально экономические портреты каждого клиента.Мы изучим данные,проведем исследовательский анализ данных и подготовим модель машинного обучения для предсказывания - уйдет ли клиент из банка или нет."
   ]
  },
  {
   "cell_type": "code",
   "execution_count": 1,
   "metadata": {},
   "outputs": [],
   "source": [
    "import pandas as pd\n",
    "import matplotlib.pyplot as plt\n",
    "from sklearn.model_selection import train_test_split\n",
    "from sklearn.ensemble import RandomForestClassifier\n",
    "from sklearn.tree import DecisionTreeClassifier\n",
    "from sklearn.linear_model import LogisticRegression\n",
    "from sklearn.metrics import accuracy_score\n",
    "import seaborn as sns\n",
    "from sklearn.preprocessing import OrdinalEncoder \n",
    "from sklearn.linear_model import LogisticRegression\n",
    "from sklearn.metrics import f1_score\n",
    "from sklearn.metrics import roc_auc_score\n",
    "from sklearn.metrics import confusion_matrix\n",
    "from sklearn.metrics import recall_score\n",
    "from sklearn.metrics import precision_score\n",
    "from sklearn.preprocessing import StandardScaler\n",
    "pd.options.mode.chained_assignment = None\n",
    "from sklearn.utils import shuffle"
   ]
  },
  {
   "cell_type": "markdown",
   "metadata": {},
   "source": [
    "## Подготовка данных"
   ]
  },
  {
   "cell_type": "code",
   "execution_count": 2,
   "metadata": {},
   "outputs": [],
   "source": [
    "df = pd.read_csv('/datasets/Churn.csv')"
   ]
  },
  {
   "cell_type": "code",
   "execution_count": 3,
   "metadata": {},
   "outputs": [
    {
     "data": {
      "text/html": [
       "<div>\n",
       "<style scoped>\n",
       "    .dataframe tbody tr th:only-of-type {\n",
       "        vertical-align: middle;\n",
       "    }\n",
       "\n",
       "    .dataframe tbody tr th {\n",
       "        vertical-align: top;\n",
       "    }\n",
       "\n",
       "    .dataframe thead th {\n",
       "        text-align: right;\n",
       "    }\n",
       "</style>\n",
       "<table border=\"1\" class=\"dataframe\">\n",
       "  <thead>\n",
       "    <tr style=\"text-align: right;\">\n",
       "      <th></th>\n",
       "      <th>RowNumber</th>\n",
       "      <th>CustomerId</th>\n",
       "      <th>Surname</th>\n",
       "      <th>CreditScore</th>\n",
       "      <th>Geography</th>\n",
       "      <th>Gender</th>\n",
       "      <th>Age</th>\n",
       "      <th>Tenure</th>\n",
       "      <th>Balance</th>\n",
       "      <th>NumOfProducts</th>\n",
       "      <th>HasCrCard</th>\n",
       "      <th>IsActiveMember</th>\n",
       "      <th>EstimatedSalary</th>\n",
       "      <th>Exited</th>\n",
       "    </tr>\n",
       "  </thead>\n",
       "  <tbody>\n",
       "    <tr>\n",
       "      <th>0</th>\n",
       "      <td>1</td>\n",
       "      <td>15634602</td>\n",
       "      <td>Hargrave</td>\n",
       "      <td>619</td>\n",
       "      <td>France</td>\n",
       "      <td>Female</td>\n",
       "      <td>42</td>\n",
       "      <td>2.0</td>\n",
       "      <td>0.00</td>\n",
       "      <td>1</td>\n",
       "      <td>1</td>\n",
       "      <td>1</td>\n",
       "      <td>101348.88</td>\n",
       "      <td>1</td>\n",
       "    </tr>\n",
       "    <tr>\n",
       "      <th>1</th>\n",
       "      <td>2</td>\n",
       "      <td>15647311</td>\n",
       "      <td>Hill</td>\n",
       "      <td>608</td>\n",
       "      <td>Spain</td>\n",
       "      <td>Female</td>\n",
       "      <td>41</td>\n",
       "      <td>1.0</td>\n",
       "      <td>83807.86</td>\n",
       "      <td>1</td>\n",
       "      <td>0</td>\n",
       "      <td>1</td>\n",
       "      <td>112542.58</td>\n",
       "      <td>0</td>\n",
       "    </tr>\n",
       "    <tr>\n",
       "      <th>2</th>\n",
       "      <td>3</td>\n",
       "      <td>15619304</td>\n",
       "      <td>Onio</td>\n",
       "      <td>502</td>\n",
       "      <td>France</td>\n",
       "      <td>Female</td>\n",
       "      <td>42</td>\n",
       "      <td>8.0</td>\n",
       "      <td>159660.80</td>\n",
       "      <td>3</td>\n",
       "      <td>1</td>\n",
       "      <td>0</td>\n",
       "      <td>113931.57</td>\n",
       "      <td>1</td>\n",
       "    </tr>\n",
       "    <tr>\n",
       "      <th>3</th>\n",
       "      <td>4</td>\n",
       "      <td>15701354</td>\n",
       "      <td>Boni</td>\n",
       "      <td>699</td>\n",
       "      <td>France</td>\n",
       "      <td>Female</td>\n",
       "      <td>39</td>\n",
       "      <td>1.0</td>\n",
       "      <td>0.00</td>\n",
       "      <td>2</td>\n",
       "      <td>0</td>\n",
       "      <td>0</td>\n",
       "      <td>93826.63</td>\n",
       "      <td>0</td>\n",
       "    </tr>\n",
       "    <tr>\n",
       "      <th>4</th>\n",
       "      <td>5</td>\n",
       "      <td>15737888</td>\n",
       "      <td>Mitchell</td>\n",
       "      <td>850</td>\n",
       "      <td>Spain</td>\n",
       "      <td>Female</td>\n",
       "      <td>43</td>\n",
       "      <td>2.0</td>\n",
       "      <td>125510.82</td>\n",
       "      <td>1</td>\n",
       "      <td>1</td>\n",
       "      <td>1</td>\n",
       "      <td>79084.10</td>\n",
       "      <td>0</td>\n",
       "    </tr>\n",
       "    <tr>\n",
       "      <th>...</th>\n",
       "      <td>...</td>\n",
       "      <td>...</td>\n",
       "      <td>...</td>\n",
       "      <td>...</td>\n",
       "      <td>...</td>\n",
       "      <td>...</td>\n",
       "      <td>...</td>\n",
       "      <td>...</td>\n",
       "      <td>...</td>\n",
       "      <td>...</td>\n",
       "      <td>...</td>\n",
       "      <td>...</td>\n",
       "      <td>...</td>\n",
       "      <td>...</td>\n",
       "    </tr>\n",
       "    <tr>\n",
       "      <th>9995</th>\n",
       "      <td>9996</td>\n",
       "      <td>15606229</td>\n",
       "      <td>Obijiaku</td>\n",
       "      <td>771</td>\n",
       "      <td>France</td>\n",
       "      <td>Male</td>\n",
       "      <td>39</td>\n",
       "      <td>5.0</td>\n",
       "      <td>0.00</td>\n",
       "      <td>2</td>\n",
       "      <td>1</td>\n",
       "      <td>0</td>\n",
       "      <td>96270.64</td>\n",
       "      <td>0</td>\n",
       "    </tr>\n",
       "    <tr>\n",
       "      <th>9996</th>\n",
       "      <td>9997</td>\n",
       "      <td>15569892</td>\n",
       "      <td>Johnstone</td>\n",
       "      <td>516</td>\n",
       "      <td>France</td>\n",
       "      <td>Male</td>\n",
       "      <td>35</td>\n",
       "      <td>10.0</td>\n",
       "      <td>57369.61</td>\n",
       "      <td>1</td>\n",
       "      <td>1</td>\n",
       "      <td>1</td>\n",
       "      <td>101699.77</td>\n",
       "      <td>0</td>\n",
       "    </tr>\n",
       "    <tr>\n",
       "      <th>9997</th>\n",
       "      <td>9998</td>\n",
       "      <td>15584532</td>\n",
       "      <td>Liu</td>\n",
       "      <td>709</td>\n",
       "      <td>France</td>\n",
       "      <td>Female</td>\n",
       "      <td>36</td>\n",
       "      <td>7.0</td>\n",
       "      <td>0.00</td>\n",
       "      <td>1</td>\n",
       "      <td>0</td>\n",
       "      <td>1</td>\n",
       "      <td>42085.58</td>\n",
       "      <td>1</td>\n",
       "    </tr>\n",
       "    <tr>\n",
       "      <th>9998</th>\n",
       "      <td>9999</td>\n",
       "      <td>15682355</td>\n",
       "      <td>Sabbatini</td>\n",
       "      <td>772</td>\n",
       "      <td>Germany</td>\n",
       "      <td>Male</td>\n",
       "      <td>42</td>\n",
       "      <td>3.0</td>\n",
       "      <td>75075.31</td>\n",
       "      <td>2</td>\n",
       "      <td>1</td>\n",
       "      <td>0</td>\n",
       "      <td>92888.52</td>\n",
       "      <td>1</td>\n",
       "    </tr>\n",
       "    <tr>\n",
       "      <th>9999</th>\n",
       "      <td>10000</td>\n",
       "      <td>15628319</td>\n",
       "      <td>Walker</td>\n",
       "      <td>792</td>\n",
       "      <td>France</td>\n",
       "      <td>Female</td>\n",
       "      <td>28</td>\n",
       "      <td>NaN</td>\n",
       "      <td>130142.79</td>\n",
       "      <td>1</td>\n",
       "      <td>1</td>\n",
       "      <td>0</td>\n",
       "      <td>38190.78</td>\n",
       "      <td>0</td>\n",
       "    </tr>\n",
       "  </tbody>\n",
       "</table>\n",
       "<p>10000 rows × 14 columns</p>\n",
       "</div>"
      ],
      "text/plain": [
       "      RowNumber  CustomerId    Surname  CreditScore Geography  Gender  Age  \\\n",
       "0             1    15634602   Hargrave          619    France  Female   42   \n",
       "1             2    15647311       Hill          608     Spain  Female   41   \n",
       "2             3    15619304       Onio          502    France  Female   42   \n",
       "3             4    15701354       Boni          699    France  Female   39   \n",
       "4             5    15737888   Mitchell          850     Spain  Female   43   \n",
       "...         ...         ...        ...          ...       ...     ...  ...   \n",
       "9995       9996    15606229   Obijiaku          771    France    Male   39   \n",
       "9996       9997    15569892  Johnstone          516    France    Male   35   \n",
       "9997       9998    15584532        Liu          709    France  Female   36   \n",
       "9998       9999    15682355  Sabbatini          772   Germany    Male   42   \n",
       "9999      10000    15628319     Walker          792    France  Female   28   \n",
       "\n",
       "      Tenure    Balance  NumOfProducts  HasCrCard  IsActiveMember  \\\n",
       "0        2.0       0.00              1          1               1   \n",
       "1        1.0   83807.86              1          0               1   \n",
       "2        8.0  159660.80              3          1               0   \n",
       "3        1.0       0.00              2          0               0   \n",
       "4        2.0  125510.82              1          1               1   \n",
       "...      ...        ...            ...        ...             ...   \n",
       "9995     5.0       0.00              2          1               0   \n",
       "9996    10.0   57369.61              1          1               1   \n",
       "9997     7.0       0.00              1          0               1   \n",
       "9998     3.0   75075.31              2          1               0   \n",
       "9999     NaN  130142.79              1          1               0   \n",
       "\n",
       "      EstimatedSalary  Exited  \n",
       "0           101348.88       1  \n",
       "1           112542.58       0  \n",
       "2           113931.57       1  \n",
       "3            93826.63       0  \n",
       "4            79084.10       0  \n",
       "...               ...     ...  \n",
       "9995         96270.64       0  \n",
       "9996        101699.77       0  \n",
       "9997         42085.58       1  \n",
       "9998         92888.52       1  \n",
       "9999         38190.78       0  \n",
       "\n",
       "[10000 rows x 14 columns]"
      ]
     },
     "execution_count": 3,
     "metadata": {},
     "output_type": "execute_result"
    }
   ],
   "source": [
    "df"
   ]
  },
  {
   "cell_type": "code",
   "execution_count": 187,
   "metadata": {
    "scrolled": true
   },
   "outputs": [
    {
     "data": {
      "text/plain": [
       "RowNumber            0\n",
       "CustomerId           0\n",
       "Surname              0\n",
       "CreditScore          0\n",
       "Geography            0\n",
       "Gender               0\n",
       "Age                  0\n",
       "Tenure             909\n",
       "Balance              0\n",
       "NumOfProducts        0\n",
       "HasCrCard            0\n",
       "IsActiveMember       0\n",
       "EstimatedSalary      0\n",
       "Exited               0\n",
       "dtype: int64"
      ]
     },
     "execution_count": 187,
     "metadata": {},
     "output_type": "execute_result"
    }
   ],
   "source": [
    "df.isna().sum()"
   ]
  },
  {
   "cell_type": "markdown",
   "metadata": {},
   "source": [
    "Пропуски в Neture - я считаю что это не пропуск а значение 0 лет клиент с банком.Чуть позже заменим значение"
   ]
  },
  {
   "cell_type": "code",
   "execution_count": 188,
   "metadata": {},
   "outputs": [],
   "source": [
    "df.loc[df['Tenure'].isna(),'Tenure'] = 0"
   ]
  },
  {
   "cell_type": "code",
   "execution_count": 189,
   "metadata": {},
   "outputs": [],
   "source": [
    "data_start = df"
   ]
  },
  {
   "cell_type": "code",
   "execution_count": 190,
   "metadata": {
    "scrolled": true
   },
   "outputs": [
    {
     "data": {
      "text/plain": [
       "RowNumber          0\n",
       "CustomerId         0\n",
       "Surname            0\n",
       "CreditScore        0\n",
       "Geography          0\n",
       "Gender             0\n",
       "Age                0\n",
       "Tenure             0\n",
       "Balance            0\n",
       "NumOfProducts      0\n",
       "HasCrCard          0\n",
       "IsActiveMember     0\n",
       "EstimatedSalary    0\n",
       "Exited             0\n",
       "dtype: int64"
      ]
     },
     "execution_count": 190,
     "metadata": {},
     "output_type": "execute_result"
    }
   ],
   "source": [
    "df.isna().sum()"
   ]
  },
  {
   "cell_type": "code",
   "execution_count": 191,
   "metadata": {},
   "outputs": [
    {
     "data": {
      "image/png": "[encoded data removed]",
      "text/plain": [
       "<Figure size 432x288 with 1 Axes>"
      ]
     },
     "metadata": {
      "needs_background": "light"
     },
     "output_type": "display_data"
    }
   ],
   "source": [
    "df.CreditScore.hist()\n",
    "plt.show()"
   ]
  },
  {
   "cell_type": "code",
   "execution_count": 192,
   "metadata": {},
   "outputs": [
    {
     "data": {
      "image/png": "[encoded data removed]",
      "text/plain": [
       "<Figure size 432x288 with 1 Axes>"
      ]
     },
     "metadata": {
      "needs_background": "light"
     },
     "output_type": "display_data"
    }
   ],
   "source": [
    "df.groupby('Geography')['CustomerId'].count().plot(kind='bar')\n",
    "plt.show()"
   ]
  },
  {
   "cell_type": "markdown",
   "metadata": {},
   "source": [
    "Видим что преобладают граждане Франции.Всего 3 нации представлено.Ну и хватит\n"
   ]
  },
  {
   "cell_type": "code",
   "execution_count": 193,
   "metadata": {},
   "outputs": [
    {
     "data": {
      "text/plain": [
       "Male      5457\n",
       "Female    4543\n",
       "Name: Gender, dtype: int64"
      ]
     },
     "execution_count": 193,
     "metadata": {},
     "output_type": "execute_result"
    }
   ],
   "source": [
    "df.Gender.value_counts()"
   ]
  },
  {
   "cell_type": "code",
   "execution_count": 194,
   "metadata": {},
   "outputs": [
    {
     "data": {
      "image/png": "[encoded data removed]",
      "text/plain": [
       "<Figure size 432x288 with 1 Axes>"
      ]
     },
     "metadata": {
      "needs_background": "light"
     },
     "output_type": "display_data"
    }
   ],
   "source": [
    "df.Tenure.hist()\n",
    "plt.show()"
   ]
  },
  {
   "cell_type": "markdown",
   "metadata": {},
   "source": [
    "Клиенты распределены равномерно по длительности нахождения в банке"
   ]
  },
  {
   "cell_type": "code",
   "execution_count": 195,
   "metadata": {},
   "outputs": [
    {
     "data": {
      "text/plain": [
       "1    7055\n",
       "0    2945\n",
       "Name: HasCrCard, dtype: int64"
      ]
     },
     "execution_count": 195,
     "metadata": {},
     "output_type": "execute_result"
    }
   ],
   "source": [
    "df.HasCrCard.value_counts()"
   ]
  },
  {
   "cell_type": "markdown",
   "metadata": {},
   "source": [
    "Клиенты частенько пользуются кредитками"
   ]
  },
  {
   "cell_type": "code",
   "execution_count": 196,
   "metadata": {},
   "outputs": [
    {
     "data": {
      "image/png": "[encoded data removed]",
      "text/plain": [
       "<Figure size 432x288 with 1 Axes>"
      ]
     },
     "metadata": {
      "needs_background": "light"
     },
     "output_type": "display_data"
    }
   ],
   "source": [
    "df.Exited.value_counts().plot(kind='bar')\n",
    "plt.show()"
   ]
  },
  {
   "cell_type": "markdown",
   "metadata": {},
   "source": [
    "Видим сильный дисбаланс классов.Еще не все клиенты ушли из банка))Ждем rollaout"
   ]
  },
  {
   "cell_type": "markdown",
   "metadata": {},
   "source": [
    "## Исследование задачи"
   ]
  },
  {
   "cell_type": "code",
   "execution_count": 197,
   "metadata": {
    "scrolled": true
   },
   "outputs": [],
   "source": [
    "df.columns\n",
    "df = df[['CreditScore', 'Geography',\n",
    "       'Gender', 'Age', 'Tenure', 'Balance', 'NumOfProducts', 'HasCrCard',\n",
    "       'IsActiveMember', 'EstimatedSalary', 'Exited']]"
   ]
  },
  {
   "cell_type": "markdown",
   "metadata": {},
   "source": [
    "Обрезаю всякие не нужные стобцы типо CustomerID,rowID и тд"
   ]
  },
  {
   "cell_type": "code",
   "execution_count": 198,
   "metadata": {},
   "outputs": [],
   "source": [
    "conteiner = df\n",
    "data = conteiner"
   ]
  },
  {
   "cell_type": "markdown",
   "metadata": {},
   "source": [
    "сохраню первоначальные данные в переменную, откуда буду их заново обновлять и использовать"
   ]
  },
  {
   "cell_type": "code",
   "execution_count": 199,
   "metadata": {},
   "outputs": [],
   "source": [
    "data = pd.get_dummies(data,drop_first=True)"
   ]
  },
  {
   "cell_type": "markdown",
   "metadata": {},
   "source": [
    "Исследовать задачу я буду на LogisticRegression и RandomFOrestCLassifier. DT ввиду ее слабости даже пробовать не буду"
   ]
  },
  {
   "cell_type": "markdown",
   "metadata": {},
   "source": [
    "Буду использовать кодировку OHE.OrdinalEncoder очень опасная,по наставлению наставников исползовать ее не буду"
   ]
  },
  {
   "cell_type": "code",
   "execution_count": 200,
   "metadata": {},
   "outputs": [],
   "source": [
    "train,test = train_test_split(data,test_size = 0.4,random_state=1)\n",
    "val, test = train_test_split(test,test_size = 0.5,random_state=1)\n",
    "fet_tr = train.drop('Exited',axis=1)\n",
    "tar_tr = train['Exited']\n",
    "fet_val = val.drop('Exited',axis=1)\n",
    "tar_val = val['Exited']\n",
    "fet_test = test.drop('Exited',axis=1)\n",
    "tar_test = test['Exited']"
   ]
  },
  {
   "cell_type": "markdown",
   "metadata": {},
   "source": [
    "Комплекты данных подготовленны.Качество разбивки проверил,ячейки с разбивками удалил что бы тетрадь не увеличивать в размерах"
   ]
  },
  {
   "cell_type": "code",
   "execution_count": 201,
   "metadata": {
    "scrolled": true
   },
   "outputs": [
    {
     "name": "stdout",
     "output_type": "stream",
     "text": [
      "accuracy_score 0.7895 глубина дерева= 1 кол-во леса 1 f1= 0.0 roc_auc= 0.6785564392509165\n",
      "accuracy_score 0.7895 глубина дерева= 1 кол-во леса 2 f1= 0.0 roc_auc= 0.7130802290754994\n",
      "accuracy_score 0.7895 глубина дерева= 1 кол-во леса 3 f1= 0.0 roc_auc= 0.7130802290754994\n",
      "accuracy_score 0.7895 глубина дерева= 1 кол-во леса 4 f1= 0.0 roc_auc= 0.735516179547776\n",
      "accuracy_score 0.7895 глубина дерева= 1 кол-во леса 5 f1= 0.0 roc_auc= 0.7346903163402075\n",
      "accuracy_score 0.7895 глубина дерева= 1 кол-во леса 6 f1= 0.0 roc_auc= 0.764292773772149\n",
      "accuracy_score 0.7895 глубина дерева= 1 кол-во леса 7 f1= 0.0 roc_auc= 0.7680497744295302\n",
      "accuracy_score 0.7895 глубина дерева= 1 кол-во леса 8 f1= 0.0 roc_auc= 0.7793358194473485\n",
      "accuracy_score 0.7895 глубина дерева= 1 кол-во леса 9 f1= 0.0 roc_auc= 0.7855124940015855\n",
      "accuracy_score 0.7895 глубина дерева= 1 кол-во леса 10 f1= 0.0 roc_auc= 0.7846851264894494\n",
      "accuracy_score 0.7895 глубина дерева= 1 кол-во леса 11 f1= 0.0 roc_auc= 0.7840999520126842\n",
      "accuracy_score 0.7895 глубина дерева= 1 кол-во леса 12 f1= 0.0 roc_auc= 0.784081900357874\n",
      "accuracy_score 0.7895 глубина дерева= 1 кол-во леса 13 f1= 0.0 roc_auc= 0.7838419637793546\n",
      "accuracy_score 0.7895 глубина дерева= 1 кол-во леса 14 f1= 0.0 roc_auc= 0.7837306452413582\n",
      "accuracy_score 0.7895 глубина дерева= 1 кол-во леса 15 f1= 0.0 roc_auc= 0.7847475551290016\n",
      "accuracy_score 0.7895 глубина дерева= 1 кол-во леса 16 f1= 0.0 roc_auc= 0.7844421813017951\n",
      "accuracy_score 0.7895 глубина дерева= 1 кол-во леса 17 f1= 0.0 roc_auc= 0.7929678274382145\n",
      "accuracy_score 0.7895 глубина дерева= 1 кол-во леса 18 f1= 0.0 roc_auc= 0.7929452628697017\n",
      "accuracy_score 0.7895 глубина дерева= 1 кол-во леса 19 f1= 0.0 roc_auc= 0.7979177416176388\n",
      "accuracy_score 0.8285 глубина дерева= 2 кол-во леса 1 f1= 0.46322378716744916 roc_auc= 0.718124162290394\n",
      "accuracy_score 0.808 глубина дерева= 2 кол-во леса 2 f1= 0.1688311688311688 roc_auc= 0.7570555644978104\n",
      "accuracy_score 0.8 глубина дерева= 2 кол-во леса 3 f1= 0.09502262443438915 roc_auc= 0.7592623792983623\n",
      "accuracy_score 0.7965 глубина дерева= 2 кол-во леса 4 f1= 0.06436781609195402 roc_auc= 0.7729101824871871\n",
      "accuracy_score 0.7995 глубина дерева= 2 кол-во леса 5 f1= 0.09070294784580499 roc_auc= 0.7706401868947994\n",
      "accuracy_score 0.7995 глубина дерева= 2 кол-во леса 6 f1= 0.09070294784580499 roc_auc= 0.789982535023971\n",
      "accuracy_score 0.8 глубина дерева= 2 кол-во леса 7 f1= 0.09502262443438915 roc_auc= 0.7947624627872657\n",
      "accuracy_score 0.8015 глубина дерева= 2 кол-во леса 8 f1= 0.10786516853932585 roc_auc= 0.7993693955252956\n",
      "accuracy_score 0.8035 глубина дерева= 2 кол-во леса 9 f1= 0.12472160356347439 roc_auc= 0.8025412217059116\n",
      "accuracy_score 0.802 глубина дерева= 2 кол-во леса 10 f1= 0.11210762331838564 roc_auc= 0.8010865591891196\n",
      "accuracy_score 0.8045 глубина дерева= 2 кол-во леса 11 f1= 0.13686534216335539 roc_auc= 0.8121033336893521\n",
      "accuracy_score 0.805 глубина дерева= 2 кол-во леса 12 f1= 0.14096916299559473 roc_auc= 0.813476763759498\n",
      "accuracy_score 0.8055 глубина дерева= 2 кол-во леса 13 f1= 0.14505494505494507 roc_auc= 0.814128127637234\n",
      "accuracy_score 0.8045 глубина дерева= 2 кол-во леса 14 f1= 0.13303769401330376 roc_auc= 0.8181664332487414\n",
      "accuracy_score 0.803 глубина дерева= 2 кол-во леса 15 f1= 0.1205357142857143 roc_auc= 0.8187553684869252\n",
      "accuracy_score 0.8045 глубина дерева= 2 кол-во леса 16 f1= 0.13303769401330376 roc_auc= 0.8183567277765325\n",
      "accuracy_score 0.8045 глубина дерева= 2 кол-во леса 17 f1= 0.13303769401330376 roc_auc= 0.8187042221316296\n",
      "accuracy_score 0.806 глубина дерева= 2 кол-во леса 18 f1= 0.14912280701754388 roc_auc= 0.8184499946597188\n",
      "accuracy_score 0.805 глубина дерева= 2 кол-во леса 19 f1= 0.13716814159292035 roc_auc= 0.821269813571535\n",
      "accuracy_score 0.7885 глубина дерева= 3 кол-во леса 1 f1= 0.12058212058212057 roc_auc= 0.7303075249827381\n",
      "accuracy_score 0.808 глубина дерева= 3 кол-во леса 2 f1= 0.1688311688311688 roc_auc= 0.7640122209703064\n",
      "accuracy_score 0.808 глубина дерева= 3 кол-во леса 3 f1= 0.1688311688311688 roc_auc= 0.7646492939546513\n",
      "accuracy_score 0.8075 глубина дерева= 3 кол-во леса 4 f1= 0.16485900216919736 roc_auc= 0.7706176223262866\n",
      "accuracy_score 0.804 глубина дерева= 3 кол-во леса 5 f1= 0.13656387665198239 roc_auc= 0.7882473197053369\n",
      "accuracy_score 0.8045 глубина дерева= 3 кол-во леса 6 f1= 0.14065934065934066 roc_auc= 0.8085862696104903\n",
      "accuracy_score 0.8055 глубина дерева= 3 кол-во леса 7 f1= 0.14505494505494507 roc_auc= 0.8059379414193715\n",
      "accuracy_score 0.8065 глубина дерева= 3 кол-во леса 8 f1= 0.1568627450980392 roc_auc= 0.814152948662598\n",
      "accuracy_score 0.8105 глубина дерева= 3 кол-во леса 9 f1= 0.1884368308351178 roc_auc= 0.8207786581302396\n",
      "accuracy_score 0.81 глубина дерева= 3 кол-во леса 10 f1= 0.18454935622317595 roc_auc= 0.8204371809934126\n",
      "accuracy_score 0.812 глубина дерева= 3 кол-во леса 11 f1= 0.2 roc_auc= 0.8282753599424755\n",
      "accuracy_score 0.8125 глубина дерева= 3 кол-во леса 12 f1= 0.20718816067653278 roc_auc= 0.82588577213697\n",
      "accuracy_score 0.814 глубина дерева= 3 кол-во леса 13 f1= 0.21518987341772153 roc_auc= 0.8241505568183356\n",
      "accuracy_score 0.812 глубина дерева= 3 кол-во леса 14 f1= 0.20338983050847462 roc_auc= 0.824161839102592\n",
      "accuracy_score 0.811 глубина дерева= 3 кол-во леса 15 f1= 0.1923076923076923 roc_auc= 0.8234051739051296\n",
      "accuracy_score 0.813 глубина дерева= 3 кол-во леса 16 f1= 0.2076271186440678 roc_auc= 0.8277646485418023\n",
      "accuracy_score 0.8185 глубина дерева= 3 кол-во леса 17 f1= 0.2546201232032854 roc_auc= 0.8281948796481131\n",
      "accuracy_score 0.8195 глубина дерева= 3 кол-во леса 18 f1= 0.2647657841140529 roc_auc= 0.829975224103773\n",
      "accuracy_score 0.8225 глубина дерева= 3 кол-во леса 19 f1= 0.2828282828282828 roc_auc= 0.8296495421649049\n",
      "accuracy_score 0.827 глубина дерева= 4 кол-во леса 1 f1= 0.47094801223241595 roc_auc= 0.7700046182150222\n",
      "accuracy_score 0.838 глубина дерева= 4 кол-во леса 2 f1= 0.439446366782007 roc_auc= 0.8076671395197357\n",
      "accuracy_score 0.8285 глубина дерева= 4 кол-во леса 3 f1= 0.35887850467289717 roc_auc= 0.8319037425593334\n",
      "accuracy_score 0.8285 глубина дерева= 4 кол-во леса 4 f1= 0.34416826003824086 roc_auc= 0.8315720434021954\n",
      "accuracy_score 0.8325 глубина дерева= 4 кол-во леса 5 f1= 0.3807763401109057 roc_auc= 0.8283799091099181\n",
      "accuracy_score 0.832 глубина дерева= 4 кол-во леса 6 f1= 0.38235294117647056 roc_auc= 0.843343226643039\n",
      "accuracy_score 0.8265 глубина дерева= 4 кол-во леса 7 f1= 0.3415559772296015 roc_auc= 0.8429791849376993\n",
      "accuracy_score 0.828 глубина дерева= 4 кол-во леса 8 f1= 0.3653136531365314 roc_auc= 0.8452198465910203\n",
      "accuracy_score 0.831 глубина дерева= 4 кол-во леса 9 f1= 0.3763837638376384 roc_auc= 0.8481878395027371\n",
      "accuracy_score 0.833 глубина дерева= 4 кол-во леса 10 f1= 0.36259541984732824 roc_auc= 0.8487948263957313\n",
      "accuracy_score 0.836 глубина дерева= 4 кол-во леса 11 f1= 0.38113207547169814 roc_auc= 0.8524848854998579\n",
      "accuracy_score 0.8295 глубина дерева= 4 кол-во леса 12 f1= 0.34296724470134876 roc_auc= 0.8529203816721548\n",
      "accuracy_score 0.836 глубина дерева= 4 кол-во леса 13 f1= 0.3834586466165414 roc_auc= 0.8514491718051203\n",
      "accuracy_score 0.835 глубина дерева= 4 кол-во леса 14 f1= 0.37499999999999994 roc_auc= 0.8502043597754977\n",
      "accuracy_score 0.8345 глубина дерева= 4 кол-во леса 15 f1= 0.37191650853889946 roc_auc= 0.8487504494109894\n",
      "accuracy_score 0.83 глубина дерева= 4 кол-во леса 16 f1= 0.34108527131782945 roc_auc= 0.8490723705884389\n",
      "accuracy_score 0.829 глубина дерева= 4 кол-во леса 17 f1= 0.3397683397683398 roc_auc= 0.8496620579789066\n",
      "accuracy_score 0.829 глубина дерева= 4 кол-во леса 18 f1= 0.3397683397683398 roc_auc= 0.849488310801358\n",
      "accuracy_score 0.829 глубина дерева= 4 кол-во леса 19 f1= 0.3397683397683398 roc_auc= 0.8501547177247695\n",
      "accuracy_score 0.8475 глубина дерева= 5 кол-во леса 1 f1= 0.5534407027818449 roc_auc= 0.795162607802226\n",
      "accuracy_score 0.8435 глубина дерева= 5 кол-во леса 2 f1= 0.47394957983193275 roc_auc= 0.8373072045658652\n",
      "accuracy_score 0.8565 глубина дерева= 5 кол-во леса 3 f1= 0.5522620904836194 roc_auc= 0.8527007532052969\n",
      "accuracy_score 0.8375 глубина дерева= 5 кол-во леса 4 f1= 0.4308231173380035 roc_auc= 0.8500742374304072\n",
      "accuracy_score 0.845 глубина дерева= 5 кол-во леса 5 f1= 0.4709897610921502 roc_auc= 0.8465504039809917\n",
      "accuracy_score 0.8425 глубина дерева= 5 кол-во леса 6 f1= 0.4463971880492091 roc_auc= 0.8484992305482136\n",
      "accuracy_score 0.8505 глубина дерева= 5 кол-во леса 7 f1= 0.4818024263431543 roc_auc= 0.855229489183298\n",
      "accuracy_score 0.8445 глубина дерева= 5 кол-во леса 8 f1= 0.46100519930675904 roc_auc= 0.8575468703695625\n",
      "accuracy_score 0.847 глубина дерева= 5 кол-во леса 9 f1= 0.4612676056338028 roc_auc= 0.8586074050896642\n",
      "accuracy_score 0.8495 глубина дерева= 5 кол-во леса 10 f1= 0.48370497427101206 roc_auc= 0.858617183069353\n",
      "accuracy_score 0.849 глубина дерева= 5 кол-во леса 11 f1= 0.48464163822525597 roc_auc= 0.8613001102655248\n",
      "accuracy_score 0.8455 глубина дерева= 5 кол-во леса 12 f1= 0.46073298429319376 roc_auc= 0.8620846050974864\n",
      "accuracy_score 0.847 глубина дерева= 5 кол-во леса 13 f1= 0.465034965034965 roc_auc= 0.8608217414130535\n",
      "accuracy_score 0.8475 глубина дерева= 5 кол-во леса 14 f1= 0.46956521739130436 roc_auc= 0.8592489909877112\n",
      "accuracy_score 0.846 глубина дерева= 5 кол-во леса 15 f1= 0.4577464788732394 roc_auc= 0.8579387417094015\n",
      "accuracy_score 0.847 глубина дерева= 5 кол-во леса 16 f1= 0.4631578947368421 roc_auc= 0.8595295437895538\n",
      "accuracy_score 0.8465 глубина дерева= 5 кол-во леса 17 f1= 0.46608695652173915 roc_auc= 0.8597228469264802\n",
      "accuracy_score 0.845 глубина дерева= 5 кол-во леса 18 f1= 0.4636678200692042 roc_auc= 0.859231691485185\n",
      "accuracy_score 0.8475 глубина дерева= 5 кол-во леса 19 f1= 0.47140381282495675 roc_auc= 0.8595754250788632\n",
      "accuracy_score 0.829 глубина дерева= 6 кол-во леса 1 f1= 0.5196629213483146 roc_auc= 0.7688726290279636\n",
      "accuracy_score 0.8415 глубина дерева= 6 кол-во леса 2 f1= 0.5100463678516228 roc_auc= 0.8355945538157439\n",
      "accuracy_score 0.8415 глубина дерева= 6 кол-во леса 3 f1= 0.4911717495987159 roc_auc= 0.8396975445236543\n",
      "accuracy_score 0.844 глубина дерева= 6 кол-во леса 4 f1= 0.5047619047619046 roc_auc= 0.8429912193742394\n",
      "accuracy_score 0.8475 глубина дерева= 6 кол-во леса 5 f1= 0.5181674565560822 roc_auc= 0.8453875765502986\n",
      "accuracy_score 0.847 глубина дерева= 6 кол-во леса 6 f1= 0.5111821086261982 roc_auc= 0.8489926424463602\n",
      "accuracy_score 0.8455 глубина дерева= 6 кол-во леса 7 f1= 0.48585690515806984 roc_auc= 0.8515025746172673\n",
      "accuracy_score 0.852 глубина дерева= 6 кол-во леса 8 f1= 0.5210355987055016 roc_auc= 0.8570587235374023\n",
      "accuracy_score 0.8535 глубина дерева= 6 кол-во леса 9 f1= 0.5251215559157212 roc_auc= 0.8571948631007629\n",
      "accuracy_score 0.855 глубина дерева= 6 кол-во леса 10 f1= 0.5245901639344263 roc_auc= 0.8572896342885166\n",
      "accuracy_score 0.8555 глубина дерева= 6 кол-во леса 11 f1= 0.5285481239804242 roc_auc= 0.8588857014346551\n",
      "accuracy_score 0.8495 глубина дерева= 6 кол-во леса 12 f1= 0.4974958263772955 roc_auc= 0.8580786420341808\n",
      "accuracy_score 0.8525 глубина дерева= 6 кол-во леса 13 f1= 0.514003294892916 roc_auc= 0.8573452935575148\n",
      "accuracy_score 0.852 глубина дерева= 6 кол-во леса 14 f1= 0.5115511551155115 roc_auc= 0.8571783157505202\n",
      "accuracy_score 0.852 глубина дерева= 6 кол-во леса 15 f1= 0.5099337748344371 roc_auc= 0.8588631368661425\n",
      "accuracy_score 0.8505 глубина дерева= 6 кол-во леса 16 f1= 0.502495840266223 roc_auc= 0.8596777177894545\n",
      "accuracy_score 0.849 глубина дерева= 6 кол-во леса 17 f1= 0.49666666666666665 roc_auc= 0.860299747728124\n",
      "accuracy_score 0.8525 глубина дерева= 6 кол-во леса 18 f1= 0.5123966942148761 roc_auc= 0.8599409710887704\n",
      "accuracy_score 0.854 глубина дерева= 6 кол-во леса 19 f1= 0.5197368421052632 roc_auc= 0.8591339116882961\n",
      "accuracy_score 0.8145 глубина дерева= 7 кол-во леса 1 f1= 0.4568081991215227 roc_auc= 0.746371241307\n",
      "accuracy_score 0.8455 глубина дерева= 7 кол-во леса 2 f1= 0.5194401244167963 roc_auc= 0.8274186584912728\n",
      "accuracy_score 0.8505 глубина дерева= 7 кол-во леса 3 f1= 0.5122349102773246 roc_auc= 0.8341067965984665\n",
      "accuracy_score 0.85 глубина дерева= 7 кол-во леса 4 f1= 0.512987012987013 roc_auc= 0.8371161578857902\n",
      "accuracy_score 0.8475 глубина дерева= 7 кол-во леса 5 f1= 0.5166402535657686 roc_auc= 0.8413703312027366\n",
      "accuracy_score 0.855 глубина дерева= 7 кол-во леса 6 f1= 0.5352564102564102 roc_auc= 0.8474680297671788\n",
      "accuracy_score 0.853 глубина дерева= 7 кол-во леса 7 f1= 0.5211726384364821 roc_auc= 0.8490212242331432\n",
      "accuracy_score 0.857 глубина дерева= 7 кол-во леса 8 f1= 0.5387096774193548 roc_auc= 0.8557168838631746\n",
      "accuracy_score 0.86 глубина дерева= 7 кол-во леса 9 f1= 0.5512820512820513 roc_auc= 0.8565434992230267\n",
      "accuracy_score 0.8585 глубина дерева= 7 кол-во леса 10 f1= 0.5457463884430177 roc_auc= 0.8559899151421794\n",
      "accuracy_score 0.858 глубина дерева= 7 кол-во леса 11 f1= 0.5419354838709677 roc_auc= 0.8567631276898846\n",
      "accuracy_score 0.8575 глубина дерева= 7 кол-во леса 12 f1= 0.5439999999999999 roc_auc= 0.8567450760350743\n",
      "accuracy_score 0.8545 глубина дерева= 7 кол-во леса 13 f1= 0.5298869143780292 roc_auc= 0.8578883475063895\n",
      "accuracy_score 0.8555 глубина дерева= 7 кол-во леса 14 f1= 0.5346215780998389 roc_auc= 0.8587051848865529\n",
      "accuracy_score 0.856 глубина дерева= 7 кол-во леса 15 f1= 0.5309446254071661 roc_auc= 0.8582396026229053\n",
      "accuracy_score 0.855 глубина дерева= 7 кол-во леса 16 f1= 0.5276872964169381 roc_auc= 0.8606690544994501\n",
      "accuracy_score 0.856 глубина дерева= 7 кол-во леса 17 f1= 0.5309446254071661 roc_auc= 0.861546816214598\n",
      "accuracy_score 0.855 глубина дерева= 7 кол-во леса 18 f1= 0.5261437908496732 roc_auc= 0.8615513291283007\n",
      "accuracy_score 0.855 глубина дерева= 7 кол-во леса 19 f1= 0.5261437908496732 roc_auc= 0.8609759326312243\n",
      "accuracy_score 0.83 глубина дерева= 8 кол-во леса 1 f1= 0.49253731343283585 roc_auc= 0.7437853417554333\n",
      "accuracy_score 0.8425 глубина дерева= 8 кол-во леса 2 f1= 0.5493562231759657 roc_auc= 0.817900923492574\n",
      "accuracy_score 0.848 глубина дерева= 8 кол-во леса 3 f1= 0.5476190476190477 roc_auc= 0.8317345082954876\n",
      "accuracy_score 0.8515 глубина дерева= 8 кол-во леса 4 f1= 0.5533834586466165 roc_auc= 0.8396945359145194\n",
      "accuracy_score 0.8535 глубина дерева= 8 кол-во леса 5 f1= 0.5593984962406015 roc_auc= 0.8422668967249786\n",
      "accuracy_score 0.855 глубина дерева= 8 кол-во леса 6 f1= 0.5592705167173252 roc_auc= 0.8477944638583306\n",
      "accuracy_score 0.8555 глубина дерева= 8 кол-во леса 7 f1= 0.5627836611195158 roc_auc= 0.8499915006791936\n",
      "accuracy_score 0.857 глубина дерева= 8 кол-во леса 8 f1= 0.5692771084337349 roc_auc= 0.8531964215602947\n",
      "accuracy_score 0.8575 глубина дерева= 8 кол-во леса 9 f1= 0.5688350983358548 roc_auc= 0.8535642240270536\n",
      "accuracy_score 0.8585 глубина дерева= 8 кол-во леса 10 f1= 0.5692541856925418 roc_auc= 0.8547014782800986\n",
      "accuracy_score 0.8605 глубина дерева= 8 кол-во леса 11 f1= 0.5817091454272864 roc_auc= 0.8550279123712503\n",
      "accuracy_score 0.8625 глубина дерева= 8 кол-во леса 12 f1= 0.5839636913767019 roc_auc= 0.8552204633558929\n",
      "accuracy_score 0.8645 глубина дерева= 8 кол-во леса 13 f1= 0.5862595419847328 roc_auc= 0.8558432454468461\n",
      "accuracy_score 0.864 глубина дерева= 8 кол-во леса 14 f1= 0.5840978593272171 roc_auc= 0.8568909935781238\n",
      "accuracy_score 0.8655 глубина дерева= 8 кол-во леса 15 f1= 0.5918057663125947 roc_auc= 0.8571068612835628\n",
      "accuracy_score 0.8625 глубина дерева= 8 кол-во леса 16 f1= 0.582701062215478 roc_auc= 0.8579440067753878\n",
      "accuracy_score 0.8615 глубина дерева= 8 кол-во леса 17 f1= 0.5809379727685325 roc_auc= 0.8594212338606924\n",
      "accuracy_score 0.8625 глубина дерева= 8 кол-во леса 18 f1= 0.5814307458143074 roc_auc= 0.8586615600540949\n",
      "accuracy_score 0.863 глубина дерева= 8 кол-во леса 19 f1= 0.5823170731707317 roc_auc= 0.8599138936065551\n",
      "accuracy_score 0.822 глубина дерева= 9 кол-во леса 1 f1= 0.48703170028818443 roc_auc= 0.7485712867369979\n",
      "accuracy_score 0.825 глубина дерева= 9 кол-во леса 2 f1= 0.49127906976744184 roc_auc= 0.7987488698911935\n",
      "accuracy_score 0.8385 глубина дерева= 9 кол-во леса 3 f1= 0.5038402457757297 roc_auc= 0.8180739185178388\n",
      "accuracy_score 0.8445 глубина дерева= 9 кол-во леса 4 f1= 0.5193199381761978 roc_auc= 0.8300805254234993\n",
      "accuracy_score 0.848 глубина дерева= 9 кол-во леса 5 f1= 0.5323076923076923 roc_auc= 0.8403639514470658\n",
      "accuracy_score 0.8535 глубина дерева= 9 кол-во леса 6 f1= 0.5443234836702955 roc_auc= 0.8494574725577239\n",
      "accuracy_score 0.857 глубина дерева= 9 кол-во леса 7 f1= 0.5517241379310345 roc_auc= 0.8527744641291055\n",
      "accuracy_score 0.8575 глубина дерева= 9 кол-во леса 8 f1= 0.5608628659476117 roc_auc= 0.8586329782673119\n",
      "accuracy_score 0.8605 глубина дерева= 9 кол-во леса 9 f1= 0.5740458015267176 roc_auc= 0.8599116371497039\n",
      "accuracy_score 0.8615 глубина дерева= 9 кол-во леса 10 f1= 0.5731895223420647 roc_auc= 0.863173721604371\n",
      "accuracy_score 0.8625 глубина дерева= 9 кол-во леса 11 f1= 0.5775729646697388 roc_auc= 0.8624847501124467\n",
      "accuracy_score 0.8615 глубина дерева= 9 кол-во леса 12 f1= 0.5731895223420647 roc_auc= 0.8621357514527822\n",
      "accuracy_score 0.8635 глубина дерева= 9 кол-во леса 13 f1= 0.5806451612903225 roc_auc= 0.8628856472796909\n",
      "accuracy_score 0.8625 глубина дерева= 9 кол-во леса 14 f1= 0.572317262830482 roc_auc= 0.8621440251279036\n",
      "accuracy_score 0.8625 глубина дерева= 9 кол-во леса 15 f1= 0.5736434108527132 roc_auc= 0.8602726702459087\n",
      "accuracy_score 0.865 глубина дерева= 9 кол-во леса 16 f1= 0.5820433436532508 roc_auc= 0.8602771831596112\n",
      "accuracy_score 0.864 глубина дерева= 9 кол-во леса 17 f1= 0.5828220858895705 roc_auc= 0.8621575638690111\n",
      "accuracy_score 0.866 глубина дерева= 9 кол-во леса 18 f1= 0.5876923076923077 roc_auc= 0.8620627926812574\n",
      "accuracy_score 0.866 глубина дерева= 9 кол-во леса 19 f1= 0.5876923076923077 roc_auc= 0.8617890092499688\n",
      "accuracy_score 0.813 глубина дерева= 10 кол-во леса 1 f1= 0.5091863517060367 roc_auc= 0.7136481040497382\n",
      "accuracy_score 0.8235 глубина дерева= 10 кол-во леса 2 f1= 0.5021156558533145 roc_auc= 0.7927256344028437\n",
      "accuracy_score 0.837 глубина дерева= 10 кол-во леса 3 f1= 0.5233918128654971 roc_auc= 0.8187809416645733\n",
      "accuracy_score 0.8395 глубина дерева= 10 кол-во леса 4 f1= 0.539454806312769 roc_auc= 0.8286882915462597\n",
      "accuracy_score 0.848 глубина дерева= 10 кол-во леса 5 f1= 0.5594202898550724 roc_auc= 0.8342151065273278\n",
      "accuracy_score 0.8515 глубина дерева= 10 кол-во леса 6 f1= 0.575107296137339 roc_auc= 0.8401052110614523\n",
      "accuracy_score 0.8575 глубина дерева= 10 кол-во леса 7 f1= 0.5802650957290133 roc_auc= 0.8426865976993165\n",
      "accuracy_score 0.8555 глубина дерева= 10 кол-во леса 8 f1= 0.5731166912850812 roc_auc= 0.8476944276045906\n",
      "accuracy_score 0.863 глубина дерева= 10 кол-во леса 9 f1= 0.5934718100890208 roc_auc= 0.8512423299270864\n",
      "accuracy_score 0.862 глубина дерева= 10 кол-во леса 10 f1= 0.5892857142857143 roc_auc= 0.8533115008597101\n",
      "accuracy_score 0.8635 глубина дерева= 10 кол-во леса 11 f1= 0.5907046476761619 roc_auc= 0.8532708846363869\n",
      "accuracy_score 0.8655 глубина дерева= 10 кол-во леса 12 f1= 0.600297176820208 roc_auc= 0.8533822031743834\n",
      "accuracy_score 0.863 глубина дерева= 10 кол-во леса 13 f1= 0.591044776119403 roc_auc= 0.8532866798343459\n",
      "accuracy_score 0.8625 глубина дерева= 10 кол-во леса 14 f1= 0.5864661654135338 roc_auc= 0.8561207896395535\n",
      "accuracy_score 0.8645 глубина дерева= 10 кол-во леса 15 f1= 0.5912518853695324 roc_auc= 0.8557071058834855\n",
      "accuracy_score 0.8655 глубина дерева= 10 кол-во леса 16 f1= 0.5967016491754122 roc_auc= 0.8577725160546905\n",
      "accuracy_score 0.8645 глубина дерева= 10 кол-во леса 17 f1= 0.5924812030075187 roc_auc= 0.8586908939931616\n",
      "accuracy_score 0.864 глубина дерева= 10 кол-во леса 18 f1= 0.5878787878787879 roc_auc= 0.8602350626317207\n",
      "accuracy_score 0.8655 глубина дерева= 10 кол-во леса 19 f1= 0.5930408472012103 roc_auc= 0.8592647861856703\n",
      "accuracy_score 0.808 глубина дерева= 11 кол-во леса 1 f1= 0.49606299212598426 roc_auc= 0.7029186517219023\n",
      "accuracy_score 0.8255 глубина дерева= 11 кол-во леса 2 f1= 0.5186206896551724 roc_auc= 0.7849543970070356\n",
      "accuracy_score 0.8445 глубина дерева= 11 кол-во леса 3 f1= 0.5550786838340487 roc_auc= 0.8141258711803826\n",
      "accuracy_score 0.841 глубина дерева= 11 кол-во леса 4 f1= 0.5457142857142857 roc_auc= 0.8221919522714247\n",
      "accuracy_score 0.8475 глубина дерева= 11 кол-во леса 5 f1= 0.55988455988456 roc_auc= 0.8300790211189317\n",
      "accuracy_score 0.8495 глубина дерева= 11 кол-во леса 6 f1= 0.5718349928876245 roc_auc= 0.8328920706601941\n",
      "accuracy_score 0.8535 глубина дерева= 11 кол-во леса 7 f1= 0.5735080058224162 roc_auc= 0.8340233076949691\n",
      "accuracy_score 0.8575 глубина дерева= 11 кол-во леса 8 f1= 0.592274678111588 roc_auc= 0.8332485908426963\n",
      "accuracy_score 0.8535 глубина дерева= 11 кол-во леса 9 f1= 0.5772005772005772 roc_auc= 0.835878867379005\n",
      "accuracy_score 0.8535 глубина дерева= 11 кол-во леса 10 f1= 0.5784172661870504 roc_auc= 0.8397035617419245\n",
      "accuracy_score 0.8535 глубина дерева= 11 кол-во леса 11 f1= 0.5759768451519538 roc_auc= 0.8394275218537846\n",
      "accuracy_score 0.8555 глубина дерева= 11 кол-во леса 12 f1= 0.5756240822320118 roc_auc= 0.8422578708975734\n",
      "accuracy_score 0.858 глубина дерева= 11 кол-во леса 13 f1= 0.5798816568047337 roc_auc= 0.8428091985215694\n",
      "accuracy_score 0.859 глубина дерева= 11 кол-во леса 14 f1= 0.5828402366863905 roc_auc= 0.846016375859522\n",
      "accuracy_score 0.858 глубина дерева= 11 кол-во леса 15 f1= 0.5773809523809524 roc_auc= 0.8468941375746699\n",
      "accuracy_score 0.8595 глубина дерева= 11 кол-во леса 16 f1= 0.5837037037037037 roc_auc= 0.8463781611080106\n",
      "accuracy_score 0.8625 глубина дерева= 11 кол-во леса 17 f1= 0.5925925925925927 roc_auc= 0.8497124521819186\n",
      "accuracy_score 0.86 глубина дерева= 11 кол-во леса 18 f1= 0.582089552238806 roc_auc= 0.8498861993594672\n",
      "accuracy_score 0.862 глубина дерева= 11 кол-во леса 19 f1= 0.5880597014925373 roc_auc= 0.8504578350951246\n",
      "accuracy_score 0.7905 глубина дерева= 12 кол-во леса 1 f1= 0.46074646074646075 roc_auc= 0.6635231715554057\n",
      "accuracy_score 0.805 глубина дерева= 12 кол-во леса 2 f1= 0.4491525423728813 roc_auc= 0.782439951922426\n",
      "accuracy_score 0.8315 глубина дерева= 12 кол-во леса 3 f1= 0.5286713286713287 roc_auc= 0.8004532469661937\n",
      "accuracy_score 0.8385 глубина дерева= 12 кол-во леса 4 f1= 0.532561505065123 roc_auc= 0.8102695864215455\n",
      "accuracy_score 0.838 глубина дерева= 12 кол-во леса 5 f1= 0.5192878338278931 roc_auc= 0.8157249469356563\n",
      "accuracy_score 0.8455 глубина дерева= 12 кол-во леса 6 f1= 0.5449189985272459 roc_auc= 0.8255217304316301\n",
      "accuracy_score 0.853 глубина дерева= 12 кол-во леса 7 f1= 0.5585585585585586 roc_auc= 0.8296066694847306\n",
      "accuracy_score 0.853 глубина дерева= 12 кол-во леса 8 f1= 0.5650887573964498 roc_auc= 0.8351146806587049\n",
      "accuracy_score 0.8555 глубина дерева= 12 кол-во леса 9 f1= 0.5667166416791605 roc_auc= 0.8362180880589807\n",
      "accuracy_score 0.8545 глубина дерева= 12 кол-во леса 10 f1= 0.5637181409295352 roc_auc= 0.8381511194282439\n",
      "accuracy_score 0.8545 глубина дерева= 12 кол-во леса 11 f1= 0.570162481536189 roc_auc= 0.8401646310918693\n",
      "accuracy_score 0.8585 глубина дерева= 12 кол-во леса 12 f1= 0.5807407407407408 roc_auc= 0.8429498509986326\n",
      "accuracy_score 0.8595 глубина дерева= 12 кол-во леса 13 f1= 0.5824665676077265 roc_auc= 0.8449716363373795\n",
      "accuracy_score 0.8595 глубина дерева= 12 кол-во леса 14 f1= 0.5812220566318927 roc_auc= 0.8479749804064329\n",
      "accuracy_score 0.8565 глубина дерева= 12 кол-во леса 15 f1= 0.5722801788375559 roc_auc= 0.8474973637062455\n",
      "accuracy_score 0.8575 глубина дерева= 12 кол-во леса 16 f1= 0.5765230312035661 roc_auc= 0.8481178893403474\n",
      "accuracy_score 0.857 глубина дерева= 12 кол-во леса 17 f1= 0.5718562874251496 roc_auc= 0.8497425382732688\n",
      "accuracy_score 0.858 глубина дерева= 12 кол-во леса 18 f1= 0.5761194029850747 roc_auc= 0.8499253112782227\n",
      "accuracy_score 0.859 глубина дерева= 12 кол-во леса 19 f1= 0.5791044776119403 roc_auc= 0.8493935396136043\n",
      "accuracy_score 0.789 глубина дерева= 13 кол-во леса 1 f1= 0.48910411622276034 roc_auc= 0.6936867345910323\n",
      "accuracy_score 0.802 глубина дерева= 13 кол-во леса 2 f1= 0.4438202247191011 roc_auc= 0.7519574763184854\n",
      "accuracy_score 0.8225 глубина дерева= 13 кол-во леса 3 f1= 0.510344827586207 roc_auc= 0.7691148220633343\n",
      "accuracy_score 0.821 глубина дерева= 13 кол-во леса 4 f1= 0.49002849002849 roc_auc= 0.7831620181148355\n",
      "accuracy_score 0.8395 глубина дерева= 13 кол-во леса 5 f1= 0.545968882602546 roc_auc= 0.7943713435997106\n",
      "accuracy_score 0.8395 глубина дерева= 13 кол-во леса 6 f1= 0.5367965367965367 roc_auc= 0.8090413217421651\n",
      "accuracy_score 0.848 глубина дерева= 13 кол-во леса 7 f1= 0.5742296918767508 roc_auc= 0.8166245210670334\n",
      "accuracy_score 0.849 глубина дерева= 13 кол-во леса 8 f1= 0.5685714285714285 roc_auc= 0.8209132933890328\n",
      "accuracy_score 0.85 глубина дерева= 13 кол-во леса 9 f1= 0.5702005730659025 roc_auc= 0.8250102668786733\n",
      "accuracy_score 0.8585 глубина дерева= 13 кол-во леса 10 f1= 0.5916305916305916 roc_auc= 0.8269643585118818\n",
      "accuracy_score 0.8595 глубина дерева= 13 кол-во леса 11 f1= 0.5921625544267054 roc_auc= 0.8279218483691081\n",
      "accuracy_score 0.859 глубина дерева= 13 кол-во леса 12 f1= 0.587719298245614 roc_auc= 0.8315524874428175\n",
      "accuracy_score 0.8595 глубина дерева= 13 кол-во леса 13 f1= 0.5933429811866859 roc_auc= 0.833694617146966\n",
      "accuracy_score 0.8575 глубина дерева= 13 кол-во леса 14 f1= 0.583941605839416 roc_auc= 0.8336682918170344\n",
      "accuracy_score 0.8605 глубина дерева= 13 кол-во леса 15 f1= 0.5891016200294551 roc_auc= 0.8349273947400487\n",
      "accuracy_score 0.858 глубина дерева= 13 кол-во леса 16 f1= 0.5823529411764706 roc_auc= 0.837310965327284\n",
      "accuracy_score 0.861 глубина дерева= 13 кол-во леса 17 f1= 0.5899705014749262 roc_auc= 0.8375591755809247\n",
      "accuracy_score 0.8605 глубина дерева= 13 кол-во леса 18 f1= 0.5878877400295421 roc_auc= 0.8381533758850952\n",
      "accuracy_score 0.8615 глубина дерева= 13 кол-во леса 19 f1= 0.5908419497784342 roc_auc= 0.8407024199747578\n",
      "accuracy_score 0.785 глубина дерева= 14 кол-во леса 1 f1= 0.46913580246913583 roc_auc= 0.6608951514759484\n",
      "accuracy_score 0.8065 глубина дерева= 14 кол-во леса 2 f1= 0.43338213762811123 roc_auc= 0.7361818343189035\n",
      "accuracy_score 0.826 глубина дерева= 14 кол-во леса 3 f1= 0.5284552845528455 roc_auc= 0.784978465880116\n",
      "accuracy_score 0.82 глубина дерева= 14 кол-во леса 4 f1= 0.47976878612716756 roc_auc= 0.8022817291680143\n",
      "accuracy_score 0.836 глубина дерева= 14 кол-во леса 5 f1= 0.5444444444444444 roc_auc= 0.8089924318437208\n",
      "accuracy_score 0.835 глубина дерева= 14 кол-во леса 6 f1= 0.5338983050847457 roc_auc= 0.8220858987994146\n",
      "accuracy_score 0.836 глубина дерева= 14 кол-во леса 7 f1= 0.5431754874651811 roc_auc= 0.8250689347568065\n",
      "accuracy_score 0.842 глубина дерева= 14 кол-во леса 8 f1= 0.5498575498575498 roc_auc= 0.8306356138089143\n",
      "accuracy_score 0.846 глубина дерева= 14 кол-во леса 9 f1= 0.5661971830985915 roc_auc= 0.8304340369968665\n",
      "accuracy_score 0.846 глубина дерева= 14 кол-во леса 10 f1= 0.56 roc_auc= 0.8364422294395412\n",
      "accuracy_score 0.8545 глубина дерева= 14 кол-во леса 11 f1= 0.5848787446504993 roc_auc= 0.8370221388503201\n",
      "accuracy_score 0.852 глубина дерева= 14 кол-во леса 12 f1= 0.5710144927536231 roc_auc= 0.8379141914588595\n",
      "accuracy_score 0.8555 глубина дерева= 14 кол-во леса 13 f1= 0.5817655571635311 roc_auc= 0.8415290353346101\n",
      "accuracy_score 0.8535 глубина дерева= 14 кол-во леса 14 f1= 0.5722627737226278 roc_auc= 0.8439434441654795\n",
      "accuracy_score 0.8585 глубина дерева= 14 кол-во леса 15 f1= 0.5856515373352855 roc_auc= 0.8445233535762585\n",
      "accuracy_score 0.8575 глубина дерева= 14 кол-во леса 16 f1= 0.5863570391872279 roc_auc= 0.8450017224287297\n",
      "accuracy_score 0.8605 глубина дерева= 14 кол-во леса 17 f1= 0.6008583690987124 roc_auc= 0.8454281927736217\n",
      "accuracy_score 0.8615 глубина дерева= 14 кол-во леса 18 f1= 0.5979680696661829 roc_auc= 0.8455876490577788\n",
      "accuracy_score 0.86 глубина дерева= 14 кол-во леса 19 f1= 0.5930232558139535 roc_auc= 0.8475229368838932\n",
      "accuracy_score 0.778 глубина дерева= 15 кол-во леса 1 f1= 0.44776119402985076 roc_auc= 0.6523559665984214\n",
      "accuracy_score 0.7975 глубина дерева= 15 кол-во леса 2 f1= 0.3964232488822653 roc_auc= 0.7324158078341172\n",
      "accuracy_score 0.8345 глубина дерева= 15 кол-во леса 3 f1= 0.5383542538354253 roc_auc= 0.78378103944437\n",
      "accuracy_score 0.835 глубина дерева= 15 кол-во леса 4 f1= 0.5132743362831858 roc_auc= 0.7964645834054147\n",
      "accuracy_score 0.8415 глубина дерева= 15 кол-во леса 5 f1= 0.5553997194950913 roc_auc= 0.8108743168576882\n",
      "accuracy_score 0.844 глубина дерева= 15 кол-во леса 6 f1= 0.5465116279069767 roc_auc= 0.8243107652547765\n",
      "accuracy_score 0.8485 глубина дерева= 15 кол-во леса 7 f1= 0.5702127659574467 roc_auc= 0.8267936199434683\n",
      "accuracy_score 0.8535 глубина дерева= 15 кол-во леса 8 f1= 0.5772005772005772 roc_auc= 0.8320225826201675\n",
      "accuracy_score 0.853 глубина дерева= 15 кол-во леса 9 f1= 0.5811965811965812 roc_auc= 0.8381488629713926\n",
      "accuracy_score 0.857 глубина дерева= 15 кол-во леса 10 f1= 0.5843023255813954 roc_auc= 0.8375764750834515\n",
      "accuracy_score 0.861 глубина дерева= 15 кол-во леса 11 f1= 0.6017191977077364 roc_auc= 0.8399028820971209\n",
      "accuracy_score 0.8565 глубина дерева= 15 кол-во леса 12 f1= 0.583454281567489 roc_auc= 0.841854717273478\n",
      "accuracy_score 0.8575 глубина дерева= 15 кол-во леса 13 f1= 0.592274678111588 roc_auc= 0.842061559151512\n",
      "accuracy_score 0.856 глубина дерева= 15 кол-во леса 14 f1= 0.5789473684210527 roc_auc= 0.84849847839593\n",
      "accuracy_score 0.859 глубина дерева= 15 кол-во леса 15 f1= 0.5924855491329479 roc_auc= 0.8513220580691649\n",
      "accuracy_score 0.8575 глубина дерева= 15 кол-во леса 16 f1= 0.5863570391872279 roc_auc= 0.8526586326774063\n",
      "accuracy_score 0.8615 глубина дерева= 15 кол-во леса 17 f1= 0.5991316931982633 roc_auc= 0.8522705220989861\n",
      "accuracy_score 0.8625 глубина дерева= 15 кол-во леса 18 f1= 0.5985401459854015 roc_auc= 0.8531467795095665\n",
      "accuracy_score 0.862 глубина дерева= 15 кол-во леса 19 f1= 0.5988372093023256 roc_auc= 0.8527413694286199\n",
      "accuracy_score 0.7855 глубина дерева= 16 кол-во леса 1 f1= 0.5005820721769499 roc_auc= 0.6873430822298006\n",
      "accuracy_score 0.818 глубина дерева= 16 кол-во леса 2 f1= 0.43653250773993807 roc_auc= 0.7529097011097254\n",
      "accuracy_score 0.834 глубина дерева= 16 кол-во леса 3 f1= 0.5596816976127321 roc_auc= 0.7820540978008572\n",
      "accuracy_score 0.8395 глубина дерева= 16 кол-во леса 4 f1= 0.5187406296851574 roc_auc= 0.7963314524511891\n",
      "accuracy_score 0.839 глубина дерева= 16 кол-во леса 5 f1= 0.5490196078431373 roc_auc= 0.8018590195845411\n",
      "accuracy_score 0.847 глубина дерева= 16 кол-во леса 6 f1= 0.5526315789473685 roc_auc= 0.8106907917004507\n",
      "accuracy_score 0.8485 глубина дерева= 16 кол-во леса 7 f1= 0.5809128630705394 roc_auc= 0.813284964927139\n",
      "accuracy_score 0.8515 глубина дерева= 16 кол-во леса 8 f1= 0.5689404934687954 roc_auc= 0.8182160752994695\n",
      "accuracy_score 0.853 глубина дерева= 16 кол-во леса 9 f1= 0.5859154929577465 roc_auc= 0.8207087079678501\n",
      "accuracy_score 0.8525 глубина дерева= 16 кол-во леса 10 f1= 0.5718432510885342 roc_auc= 0.823406678209697\n",
      "accuracy_score 0.853 глубина дерева= 16 кол-во леса 11 f1= 0.5823863636363636 roc_auc= 0.8273562298517207\n",
      "accuracy_score 0.855 глубина дерева= 16 кол-во леса 12 f1= 0.5784883720930233 roc_auc= 0.8293268688351718\n",
      "accuracy_score 0.86 глубина дерева= 16 кол-во леса 13 f1= 0.5930232558139535 roc_auc= 0.8289041592516988\n",
      "accuracy_score 0.858 глубина дерева= 16 кол-во леса 14 f1= 0.5823529411764706 roc_auc= 0.8282084183892208\n",
      "accuracy_score 0.8585 глубина дерева= 16 кол-во леса 15 f1= 0.5856515373352855 roc_auc= 0.8319037425593335\n",
      "accuracy_score 0.858 глубина дерева= 16 кол-во леса 16 f1= 0.5811209439528024 roc_auc= 0.8361225647189433\n",
      "accuracy_score 0.862 глубина дерева= 16 кол-во леса 17 f1= 0.6 roc_auc= 0.8385640510320281\n",
      "accuracy_score 0.8615 глубина дерева= 16 кол-во леса 18 f1= 0.5956204379562043 roc_auc= 0.8392620483513573\n",
      "accuracy_score 0.858 глубина дерева= 16 кол-во леса 19 f1= 0.5884057971014492 roc_auc= 0.8387844316511699\n",
      "accuracy_score 0.7755 глубина дерева= 17 кол-во леса 1 f1= 0.4504283965728274 roc_auc= 0.6533623463540922\n",
      "accuracy_score 0.819 глубина дерева= 17 кол-во леса 2 f1= 0.44478527607361956 roc_auc= 0.7385924823883543\n",
      "accuracy_score 0.82 глубина дерева= 17 кол-во леса 3 f1= 0.5263157894736842 roc_auc= 0.768216752236525\n",
      "accuracy_score 0.8355 глубина дерева= 17 кол-во леса 4 f1= 0.4930662557781202 roc_auc= 0.7761113426068695\n",
      "accuracy_score 0.841 глубина дерева= 17 кол-во леса 5 f1= 0.5533707865168539 roc_auc= 0.7929934006158622\n",
      "accuracy_score 0.8445 глубина дерева= 17 кол-во леса 6 f1= 0.5406203840472674 roc_auc= 0.8075137004538487\n",
      "accuracy_score 0.8415 глубина дерева= 17 кол-во леса 7 f1= 0.5516265912305517 roc_auc= 0.811523424278573\n",
      "accuracy_score 0.8465 глубина дерева= 17 кол-во леса 8 f1= 0.5397301349325337 roc_auc= 0.8158069315345862\n",
      "accuracy_score 0.849 глубина дерева= 17 кол-во леса 9 f1= 0.5698005698005698 roc_auc= 0.8228372989308907\n",
      "accuracy_score 0.8505 глубина дерева= 17 кол-во леса 10 f1= 0.5609397944199707 roc_auc= 0.8273833073339361\n",
      "accuracy_score 0.8565 глубина дерева= 17 кол-во леса 11 f1= 0.588235294117647 roc_auc= 0.8328115903658317\n",
      "accuracy_score 0.8575 глубина дерева= 17 кол-во леса 12 f1= 0.5790251107828656 roc_auc= 0.832622800142608\n",
      "accuracy_score 0.859 глубина дерева= 17 кол-во леса 13 f1= 0.5901162790697675 roc_auc= 0.8360225284652032\n",
      "accuracy_score 0.8575 глубина дерева= 17 кол-во леса 14 f1= 0.582723279648609 roc_auc= 0.8387129771842126\n",
      "accuracy_score 0.8575 глубина дерева= 17 кол-во леса 15 f1= 0.5863570391872279 roc_auc= 0.8392913822904242\n",
      "accuracy_score 0.8605 глубина дерева= 17 кол-во леса 16 f1= 0.5915080527086384 roc_auc= 0.8411582242587163\n",
      "accuracy_score 0.859 глубина дерева= 17 кол-во леса 17 f1= 0.5924855491329479 roc_auc= 0.8434199461759826\n",
      "accuracy_score 0.8565 глубина дерева= 17 кол-во леса 18 f1= 0.581021897810219 roc_auc= 0.8453447038701243\n",
      "accuracy_score 0.858 глубина дерева= 17 кол-во леса 19 f1= 0.5872093023255814 roc_auc= 0.8457523704079223\n",
      "accuracy_score 0.766 глубина дерева= 18 кол-во леса 1 f1= 0.4519906323185011 roc_auc= 0.6570140456917469\n",
      "accuracy_score 0.816 глубина дерева= 18 кол-во леса 2 f1= 0.4303405572755418 roc_auc= 0.7272101618782144\n",
      "accuracy_score 0.812 глубина дерева= 18 кол-во леса 3 f1= 0.5252525252525253 roc_auc= 0.7672126289377053\n",
      "accuracy_score 0.821 глубина дерева= 18 кол-во леса 4 f1= 0.4688427299703264 roc_auc= 0.7728402323247974\n",
      "accuracy_score 0.8235 глубина дерева= 18 кол-во леса 5 f1= 0.5248990578734858 roc_auc= 0.7892326391970623\n",
      "accuracy_score 0.8425 глубина дерева= 18 кол-во леса 6 f1= 0.5374449339207048 roc_auc= 0.8006961921538482\n",
      "accuracy_score 0.8385 глубина дерева= 18 кол-во леса 7 f1= 0.5557083906464925 roc_auc= 0.8051797719173416\n",
      "accuracy_score 0.847 глубина дерева= 18 кол-во леса 8 f1= 0.5552325581395349 roc_auc= 0.8114662607050074\n",
      "accuracy_score 0.845 глубина дерева= 18 кол-во леса 9 f1= 0.5706371191135734 roc_auc= 0.8155549605195266\n",
      "accuracy_score 0.8485 глубина дерева= 18 кол-во леса 10 f1= 0.5576642335766424 roc_auc= 0.8156926043874548\n",
      "accuracy_score 0.8455 глубина дерева= 18 кол-во леса 11 f1= 0.5666199158485274 roc_auc= 0.8189050467913936\n",
      "accuracy_score 0.8505 глубина дерева= 18 кол-во леса 12 f1= 0.5609397944199707 roc_auc= 0.8177926135637126\n",
      "accuracy_score 0.8525 глубина дерева= 18 кол-во леса 13 f1= 0.5803698435277383 roc_auc= 0.8218677746371242\n",
      "accuracy_score 0.8575 глубина дерева= 18 кол-во леса 14 f1= 0.5790251107828656 roc_auc= 0.8248259895691521\n",
      "accuracy_score 0.8515 глубина дерева= 18 кол-во леса 15 f1= 0.5726618705035972 roc_auc= 0.8261242044109218\n",
      "accuracy_score 0.853 глубина дерева= 18 кол-во леса 16 f1= 0.5676470588235293 roc_auc= 0.8300812775757832\n",
      "accuracy_score 0.8525 глубина дерева= 18 кол-во леса 17 f1= 0.5767575322812052 roc_auc= 0.8334975532486208\n",
      "accuracy_score 0.8575 глубина дерева= 18 кол-во леса 18 f1= 0.582723279648609 roc_auc= 0.8356389308004856\n",
      "accuracy_score 0.857 глубина дерева= 18 кол-во леса 19 f1= 0.5878962536023055 roc_auc= 0.8366077029419684\n",
      "accuracy_score 0.7745 глубина дерева= 19 кол-во леса 1 f1= 0.46245530393325385 roc_auc= 0.6598030263599288\n",
      "accuracy_score 0.8125 глубина дерева= 19 кол-во леса 2 f1= 0.396135265700483 roc_auc= 0.7315139772458892\n",
      "accuracy_score 0.82 глубина дерева= 19 кол-во леса 3 f1= 0.5384615384615385 roc_auc= 0.7699030776567147\n",
      "accuracy_score 0.8315 глубина дерева= 19 кол-во леса 4 f1= 0.48233486943164366 roc_auc= 0.7851552216667995\n",
      "accuracy_score 0.8355 глубина дерева= 19 кол-во леса 5 f1= 0.5499316005471956 roc_auc= 0.7986450728760348\n",
      "accuracy_score 0.843 глубина дерева= 19 кол-во леса 6 f1= 0.5313432835820895 roc_auc= 0.8064148059672753\n",
      "accuracy_score 0.8475 глубина дерева= 19 кол-во леса 7 f1= 0.5757997218358832 roc_auc= 0.8108472393754729\n",
      "accuracy_score 0.8515 глубина дерева= 19 кол-во леса 8 f1= 0.5586924219910847 roc_auc= 0.8181920064263892\n",
      "accuracy_score 0.8545 глубина дерева= 19 кол-во леса 9 f1= 0.5941422594142259 roc_auc= 0.8221686355506281\n",
      "accuracy_score 0.851 глубина дерева= 19 кол-во леса 10 f1= 0.5578635014836795 roc_auc= 0.8244100493562329\n",
      "accuracy_score 0.854 глубина дерева= 19 кол-во леса 11 f1= 0.5852272727272728 roc_auc= 0.8312990121231905\n",
      "accuracy_score 0.856 глубина дерева= 19 кол-во леса 12 f1= 0.5675675675675675 roc_auc= 0.8313952876155117\n",
      "accuracy_score 0.8545 глубина дерева= 19 кол-во леса 13 f1= 0.5824964131994261 roc_auc= 0.8330154236347309\n",
      "accuracy_score 0.8555 глубина дерева= 19 кол-во леса 14 f1= 0.5654135338345865 roc_auc= 0.8338992025681489\n",
      "accuracy_score 0.86 глубина дерева= 19 кол-во леса 15 f1= 0.5918367346938775 roc_auc= 0.8367017219774384\n",
      "accuracy_score 0.858 глубина дерева= 19 кол-во леса 16 f1= 0.5773809523809524 roc_auc= 0.8392966473564103\n",
      "accuracy_score 0.862 глубина дерева= 19 кол-во леса 17 f1= 0.5941176470588234 roc_auc= 0.8414184689488974\n",
      "accuracy_score 0.8605 глубина дерева= 19 кол-во леса 18 f1= 0.5866666666666667 roc_auc= 0.842764069384544\n",
      "accuracy_score 0.86 глубина дерева= 19 кол-во леса 19 f1= 0.5942028985507247 roc_auc= 0.84425558736324\n"
     ]
    }
   ],
   "source": [
    "metricks_train = []#Здесь мы соберем метрику Трейна что бы потом на графике посмотреть ключевые метрики\n",
    "metricks_val = []#Здесь мы соберем метрику валидации что бы потом на графике посмотреть ключевые метрики\n",
    "f1_mera_val = []#Здесь мы соберем метрику Ф1меры что бы потом на графике посмотреть как изменяется Ф1Мера\n",
    "metricks_auc = []#Здесь мы соберем метрику Ф1меры что бы потом на графике посмотреть как изменяется Ф1Мера\n",
    "best_model = ''\n",
    "best_score = 0\n",
    "best_f1_model = ''\n",
    "best_f1_mera = 0\n",
    "best_model_auc = ''\n",
    "best_auc_score = 0\n",
    "for i in range(1,25):#Увеличим глубину\n",
    "    for j in range(1,30):  #Увеличим кол во оценщиков\n",
    "        model = RandomForestClassifier(max_depth=i,n_estimators=j,random_state=1)#Начнем с RandomForesta\n",
    "        model.fit(fet_tr,tar_tr)\n",
    "        predictions_val=model.predict(fet_val)#Смотрим качество обучения на Валиде\n",
    "        predictions_tr=model.predict(fet_tr)#Смотрим качесво обучения на Трейне\n",
    "        accuracy_score_counted_for_train = accuracy_score(tar_tr,predictions_tr)#Accuracy на Трейне\n",
    "        accuracy_score_counted_for_valid = accuracy_score(tar_val,predictions_val)#Accuracy на Валиде\n",
    "        f1_mera_counted = f1_score(tar_val,predictions_val)#Считаем F1\n",
    "        predict_prob = model.predict_proba(fet_val)#Тут собираю вероятности для ROC-AUC\n",
    "        predict_proba_pos = predict_prob[:,1]\n",
    "        auc_score = roc_auc_score(tar_val,predict_proba_pos)\n",
    "        roc_auc_count = roc_auc_score(tar_val,predict_proba_pos)\n",
    "        print('accuracy_score',accuracy_score_counted_for_valid,'глубина дерева=',i,'кол-во леса',j,'f1=',f1_mera_counted,'roc_auc=',roc_auc_count)\n",
    "        metricks_val.append(accuracy_score_counted_for_valid)\n",
    "        metricks_train.append(accuracy_score_counted_for_train)\n",
    "        f1_mera_val.append(f1_mera_counted)\n",
    "        metricks_auc.append(roc_auc_count)\n",
    "        if accuracy_score_counted_for_valid > best_score:\n",
    "            best_score = accuracy_score_counted_for_valid\n",
    "            best_model = model\n",
    "        if f1_mera_counted > best_f1_mera:\n",
    "            best_f1_model = model\n",
    "            best_f1_mera = f1_mera_counted\n",
    "        if roc_auc_count > best_auc_score:\n",
    "            best_model_auc = model\n",
    "            best_auc_score = roc_auc_count    "
   ]
  },
  {
   "cell_type": "code",
   "execution_count": 202,
   "metadata": {},
   "outputs": [
    {
     "data": {
      "text/plain": [
       "RandomForestClassifier(max_depth=9, n_estimators=18, random_state=1)"
      ]
     },
     "execution_count": 202,
     "metadata": {},
     "output_type": "execute_result"
    }
   ],
   "source": [
    "best_model # accuracy"
   ]
  },
  {
   "cell_type": "code",
   "execution_count": 203,
   "metadata": {
    "scrolled": true
   },
   "outputs": [
    {
     "data": {
      "text/plain": [
       "RandomForestClassifier(max_depth=15, n_estimators=11, random_state=1)"
      ]
     },
     "execution_count": 203,
     "metadata": {},
     "output_type": "execute_result"
    }
   ],
   "source": [
    "best_f1_model"
   ]
  },
  {
   "cell_type": "code",
   "execution_count": 204,
   "metadata": {},
   "outputs": [
    {
     "data": {
      "text/plain": [
       "RandomForestClassifier(max_depth=9, n_estimators=10, random_state=1)"
      ]
     },
     "execution_count": 204,
     "metadata": {},
     "output_type": "execute_result"
    }
   ],
   "source": [
    "best_model_auc"
   ]
  },
  {
   "cell_type": "markdown",
   "metadata": {},
   "source": [
    "Тут у нас получились разные модели в лидерах для разных метрик."
   ]
  },
  {
   "cell_type": "code",
   "execution_count": 205,
   "metadata": {},
   "outputs": [
    {
     "data": {
      "text/plain": [
       "0.866"
      ]
     },
     "execution_count": 205,
     "metadata": {},
     "output_type": "execute_result"
    }
   ],
   "source": [
    "best_score"
   ]
  },
  {
   "cell_type": "code",
   "execution_count": 206,
   "metadata": {},
   "outputs": [
    {
     "data": {
      "text/plain": [
       "0.6017191977077364"
      ]
     },
     "execution_count": 206,
     "metadata": {},
     "output_type": "execute_result"
    }
   ],
   "source": [
    "best_f1_mera"
   ]
  },
  {
   "cell_type": "code",
   "execution_count": 207,
   "metadata": {},
   "outputs": [
    {
     "data": {
      "text/plain": [
       "0.863173721604371"
      ]
     },
     "execution_count": 207,
     "metadata": {},
     "output_type": "execute_result"
    }
   ],
   "source": [
    "best_auc_score"
   ]
  },
  {
   "cell_type": "code",
   "execution_count": 208,
   "metadata": {
    "scrolled": false
   },
   "outputs": [
    {
     "data": {
      "image/png": "[encoded data removed]",
      "text/plain": [
       "<Figure size 432x288 with 1 Axes>"
      ]
     },
     "metadata": {
      "needs_background": "light"
     },
     "output_type": "display_data"
    }
   ],
   "source": [
    "metricks_train = pd.Series(metricks_train)\n",
    "metricks_val = pd.Series(metricks_val)\n",
    "f1_mera_counted = pd.Series(f1_mera_val)\n",
    "metricks_auc = pd.Series(metricks_auc)\n",
    "data_metricks = pd.DataFrame({'train':metricks_train,'val':metricks_val,'f1':f1_mera_counted,'auc':metricks_auc})\n",
    "sns.lineplot(data=data_metricks)\n",
    "plt.show()"
   ]
  },
  {
   "cell_type": "markdown",
   "metadata": {},
   "source": [
    "Предыдущий ревьювер рекомендовал все ключевые метрики сохранять и выводить в график для изучения каждой итерации.Лично я в этом пока пользы не увидел.Может сейчас что путного услышу)"
   ]
  },
  {
   "cell_type": "code",
   "execution_count": 209,
   "metadata": {},
   "outputs": [
    {
     "data": {
      "text/plain": [
       "0.2105"
      ]
     },
     "execution_count": 209,
     "metadata": {},
     "output_type": "execute_result"
    }
   ],
   "source": [
    "421 / (1579+421)"
   ]
  },
  {
   "cell_type": "markdown",
   "metadata": {},
   "source": [
    "Вероятность наугад дать правильный ответ 21% , наша модель дает 86% точность.Значит она вменяема"
   ]
  },
  {
   "cell_type": "markdown",
   "metadata": {},
   "source": [
    "Сразу же побежим на этих же данных через модель LinearLogistic"
   ]
  },
  {
   "cell_type": "code",
   "execution_count": 68,
   "metadata": {},
   "outputs": [],
   "source": [
    "conteiner = df\n",
    "data = conteiner\n",
    "data = data[['CreditScore', 'Geography',\n",
    "       'Gender', 'Age', 'Tenure', 'Balance', 'NumOfProducts', 'HasCrCard',\n",
    "       'IsActiveMember', 'EstimatedSalary', 'Exited']]\n",
    "data = pd.get_dummies(data,drop_first=True)\n",
    "data.loc[data['Tenure'].isna(),'Tenure'] = 0\n",
    "features = data.drop('Exited',axis=1)\n",
    "target = data['Exited']\n",
    "features_train, features_valid, target_train, target_valid = train_test_split(\n",
    "    features, target, test_size=0.4, random_state=12345)\n",
    "features_test, features_valid, target_test, target_valid = train_test_split(\n",
    "    features_valid, target_valid, test_size=0.5, random_state=12344)\n",
    "row = features_train.columns\n",
    "scaler = StandardScaler()\n",
    "scaler.fit(features_train[row])\n",
    "features_train[row] = scaler.transform(features_train[row])\n",
    "features_valid[row] = scaler.transform(features_valid[row])"
   ]
  },
  {
   "cell_type": "code",
   "execution_count": 73,
   "metadata": {},
   "outputs": [
    {
     "data": {
      "text/plain": [
       "0.791"
      ]
     },
     "execution_count": 73,
     "metadata": {},
     "output_type": "execute_result"
    }
   ],
   "source": [
    "model = LogisticRegression(solver='liblinear')\n",
    "model.fit(features_train,target_train)\n",
    "answers = model.predict(features_valid)\n",
    "accuracy_score(target_valid,answers)"
   ]
  },
  {
   "cell_type": "markdown",
   "metadata": {},
   "source": [
    "Логистическая регрессия показывает более худшие результаты.Остановимся на RandomForest с кодировкой OHE"
   ]
  },
  {
   "cell_type": "markdown",
   "metadata": {},
   "source": [
    "Сделал,спасибо за совет.Для линейных моделей буду масштабировать масштаб.Но в данной ситуации рендом форес все равно лучше"
   ]
  },
  {
   "cell_type": "markdown",
   "metadata": {},
   "source": [
    "## Борьба с дисбалансом"
   ]
  },
  {
   "cell_type": "markdown",
   "metadata": {},
   "source": [
    "Применим несколько способов борьмы с дисбалансом:upsampling,downsampling"
   ]
  },
  {
   "cell_type": "markdown",
   "metadata": {},
   "source": [
    "Качество разбиения проверено,разбивка на таргеты и фичи проверены.Ячейки с проверкой удалил что бы не увеличивать тетрадь"
   ]
  },
  {
   "cell_type": "code",
   "execution_count": 81,
   "metadata": {},
   "outputs": [],
   "source": [
    "def upsample(features,target,repeat):\n",
    "    features_one = features[target == 1]\n",
    "    features_zero = features[target == 0]\n",
    "    target_one = target[target == 1]\n",
    "    target_zero = target[target == 0]\n",
    "    features_concate = pd.concat( ([features_one]*repeat) + [features_zero] ) \n",
    "    target_concate = pd.concat( ([target_one]*repeat) + [target_zero] )\n",
    "    features_concate,target_concate = shuffle(features_concate,target_concate,random_state=1)\n",
    "    return features_concate,target_concate\n",
    "features_concate_train,target_concate_train = upsample(fet_tr,tar_tr,4) "
   ]
  },
  {
   "cell_type": "markdown",
   "metadata": {},
   "source": [
    "Сначала увеличим содержание едениц в таргете в 4 раза,что бы получить +- 50% нулей и еденицы"
   ]
  },
  {
   "cell_type": "code",
   "execution_count": 82,
   "metadata": {},
   "outputs": [],
   "source": [
    "best_model=0\n",
    "best_score_accuracy=0\n",
    "best_score_f1 = 0\n",
    "for i in range(1,30):#Меням гиперпараметры случайного леса ,вторая попытка\n",
    "    for j in range(1,30)::#Меням гиперпараметры случайного леса,вторая попытка\n",
    "        model = RandomForestClassifier(max_depth=i, n_estimators=j, random_state=1)\n",
    "        model.fit(features_concate_train,target_concate_train)\n",
    "        answers = model.predict(fet_val)\n",
    "        accuracy_upsampled = accuracy_score(answers,tar_val)\n",
    "        f1_upsampled = f1_score(answers,tar_val)\n",
    "        if f1_upsampled > best_score_f1:\n",
    "            best_model =model\n",
    "            best_score_f1 = f1_downsampled\n"
   ]
  },
  {
   "cell_type": "code",
   "execution_count": 83,
   "metadata": {},
   "outputs": [
    {
     "data": {
      "text/plain": [
       "0.8375"
      ]
     },
     "execution_count": 83,
     "metadata": {},
     "output_type": "execute_result"
    }
   ],
   "source": [
    "accuracy_upsampled"
   ]
  },
  {
   "cell_type": "code",
   "execution_count": 84,
   "metadata": {},
   "outputs": [
    {
     "data": {
      "text/plain": [
       "0.5880861850443599"
      ]
     },
     "execution_count": 84,
     "metadata": {},
     "output_type": "execute_result"
    }
   ],
   "source": [
    "f1_upsampled"
   ]
  },
  {
   "cell_type": "markdown",
   "metadata": {},
   "source": [
    "Увеличение едениц не дает прирост ф1 меры"
   ]
  },
  {
   "cell_type": "code",
   "execution_count": 76,
   "metadata": {},
   "outputs": [],
   "source": [
    "def downsampled(features,target,fraction):\n",
    "    features_one = features[target == 1]\n",
    "    features_zero = features[target == 0]\n",
    "    target_one = target[target == 1]\n",
    "    target_zero = target[target == 0]\n",
    "    \n",
    "    features_fraction = features_zero.sample(frac=fraction,random_state=1)\n",
    "    target_fraction = target_zero.sample(frac=fraction,random_state=1)\n",
    "    \n",
    "    data_features = pd.concat([features_fraction] + [features_one])\n",
    "    data_target = pd.concat([target_fraction] + [target_one])\n",
    "    \n",
    "    data_features,data_target = shuffle(data_features,data_target,random_state=1)\n",
    "    return  data_features,data_target\n",
    "fet_downsampled,tar_downsampled = downsampled(fet_tr,tar_tr,0.25)\n",
    "    \n",
    "    "
   ]
  },
  {
   "cell_type": "markdown",
   "metadata": {},
   "source": [
    "Качество разбивки,соеденения проверено.Ячейки удалил.Теперь я убавил кол-во нулей,для того что бы получить 50 на 50 баланс классов"
   ]
  },
  {
   "cell_type": "code",
   "execution_count": 77,
   "metadata": {},
   "outputs": [],
   "source": [
    "best_model=0\n",
    "best_score_accuracy=0\n",
    "best_score_f1 = 0\n",
    "for i in range(1,25):#Еще раз меняем параметры модели\n",
    "    for j in range(1,25):#Еще раз меняем параметры модели\n",
    "        model = RandomForestClassifier(max_depth=i, n_estimators=j, random_state=1)\n",
    "        model.fit(fet_downsampled,tar_downsampled)\n",
    "        answers = model.predict(fet_val)\n",
    "        accuracy_downsampled = accuracy_score(answers,tar_val)\n",
    "        f1_downsampled = f1_score(answers,tar_val)\n",
    "        if f1_downsampled > best_score_f1:\n",
    "            best_model =model\n",
    "            best_score_f1 = f1_downsampled\n"
   ]
  },
  {
   "cell_type": "code",
   "execution_count": 78,
   "metadata": {},
   "outputs": [
    {
     "data": {
      "text/plain": [
       "RandomForestClassifier(max_depth=5, n_estimators=12, random_state=1)"
      ]
     },
     "execution_count": 78,
     "metadata": {},
     "output_type": "execute_result"
    }
   ],
   "source": [
    "best_model"
   ]
  },
  {
   "cell_type": "code",
   "execution_count": 79,
   "metadata": {},
   "outputs": [
    {
     "data": {
      "text/plain": [
       "0.6111655239960824"
      ]
     },
     "execution_count": 79,
     "metadata": {},
     "output_type": "execute_result"
    }
   ],
   "source": [
    "best_score_f1"
   ]
  },
  {
   "cell_type": "code",
   "execution_count": null,
   "metadata": {},
   "outputs": [],
   "source": [
    "Уменьшиние нулей не дает прирост ф1 меры"
   ]
  },
  {
   "cell_type": "markdown",
   "metadata": {},
   "source": [
    "## Тестирование модели\n"
   ]
  },
  {
   "cell_type": "markdown",
   "metadata": {},
   "source": [
    "Время обьеденить выборки"
   ]
  },
  {
   "cell_type": "code",
   "execution_count": 133,
   "metadata": {},
   "outputs": [],
   "source": [
    "train_val = pd.concat([train]+[val])\n",
    "train_val = shuffle(train_val,random_state=1)\n",
    "train_val_features=train_val.drop('Exited',axis=1)\n",
    "train_val_target = train_val['Exited']\n"
   ]
  },
  {
   "cell_type": "markdown",
   "metadata": {},
   "source": [
    "Соеденение проверил."
   ]
  },
  {
   "cell_type": "code",
   "execution_count": 226,
   "metadata": {},
   "outputs": [],
   "source": [
    "model = RandomForestClassifier(max_depth=9, n_estimators=18, random_state=1,class_weight='balanced')\n",
    "model.fit(train_val_features,train_val_target)\n",
    "answers = model.predict(fet_test)\n",
    "accuracy_downsampled = accuracy_score(answers,tar_test)\n",
    "f1_downsampled = f1_score(answers,tar_test)"
   ]
  },
  {
   "cell_type": "code",
   "execution_count": 227,
   "metadata": {},
   "outputs": [
    {
     "data": {
      "text/plain": [
       "0.6210892236384705"
      ]
     },
     "execution_count": 227,
     "metadata": {},
     "output_type": "execute_result"
    }
   ],
   "source": [
    "f1_downsampled"
   ]
  },
  {
   "cell_type": "code",
   "execution_count": 228,
   "metadata": {},
   "outputs": [
    {
     "data": {
      "text/plain": [
       "0.8365"
      ]
     },
     "execution_count": 228,
     "metadata": {},
     "output_type": "execute_result"
    }
   ],
   "source": [
    "accuracy_downsampled"
   ]
  },
  {
   "cell_type": "markdown",
   "metadata": {},
   "source": [
    "Class_weight='balanced' дает почти 8 процентов улучшения F1Меры.Круто"
   ]
  },
  {
   "cell_type": "markdown",
   "metadata": {},
   "source": [
    "Итог:Я провел работу над датасетом,провел небольшой EDA,отобрал лучшую модель и с ней пошел работать над дисбалансом классов.Увеличение и уменьшение выборки не дали никакого результата.Самый лучший эффект дал class_weight='balanced'.Итоговая F1 мера составила 0.621 что достаточно для выполнения проекта."
   ]
  }
 ],
 "metadata": {
  "ExecuteTimeLog": [
   {
    "duration": 54,
    "start_time": "2022-11-15T15:12:38.681Z"
   },
   {
    "duration": 426,
    "start_time": "2022-11-15T15:12:50.593Z"
   },
   {
    "duration": 36,
    "start_time": "2022-11-15T15:12:54.799Z"
   },
   {
    "duration": 166,
    "start_time": "2022-11-15T15:13:57.681Z"
   },
   {
    "duration": 28,
    "start_time": "2022-11-15T15:14:02.156Z"
   },
   {
    "duration": 9,
    "start_time": "2022-11-15T15:15:51.847Z"
   },
   {
    "duration": 47,
    "start_time": "2022-11-15T15:20:36.537Z"
   },
   {
    "duration": 8,
    "start_time": "2022-11-15T15:21:10.557Z"
   },
   {
    "duration": 23,
    "start_time": "2022-11-15T15:21:12.553Z"
   },
   {
    "duration": 40,
    "start_time": "2022-11-15T15:21:31.857Z"
   },
   {
    "duration": 591,
    "start_time": "2022-11-15T15:21:34.825Z"
   },
   {
    "duration": 3,
    "start_time": "2022-11-15T15:21:57.097Z"
   },
   {
    "duration": 136,
    "start_time": "2022-11-15T15:22:05.724Z"
   },
   {
    "duration": 238,
    "start_time": "2022-11-15T15:22:26.101Z"
   },
   {
    "duration": 202,
    "start_time": "2022-11-15T15:22:47.919Z"
   },
   {
    "duration": 133,
    "start_time": "2022-11-15T15:22:56.471Z"
   },
   {
    "duration": 25,
    "start_time": "2022-11-15T15:23:05.013Z"
   },
   {
    "duration": 14,
    "start_time": "2022-11-15T15:23:39.039Z"
   },
   {
    "duration": 10,
    "start_time": "2022-11-15T15:24:04.500Z"
   },
   {
    "duration": 14,
    "start_time": "2022-11-15T15:24:54.857Z"
   },
   {
    "duration": 7,
    "start_time": "2022-11-15T15:24:59.797Z"
   },
   {
    "duration": 117,
    "start_time": "2022-11-15T15:25:05.645Z"
   },
   {
    "duration": 137,
    "start_time": "2022-11-15T15:25:13.285Z"
   },
   {
    "duration": 7,
    "start_time": "2022-11-15T15:25:27.140Z"
   },
   {
    "duration": 137,
    "start_time": "2022-11-15T15:25:40.693Z"
   },
   {
    "duration": 148,
    "start_time": "2022-11-15T15:25:47.172Z"
   },
   {
    "duration": 7,
    "start_time": "2022-11-15T15:26:09.307Z"
   },
   {
    "duration": 144,
    "start_time": "2022-11-15T15:26:16.156Z"
   },
   {
    "duration": 196,
    "start_time": "2022-11-15T15:26:20.937Z"
   },
   {
    "duration": 131,
    "start_time": "2022-11-15T15:26:24.320Z"
   },
   {
    "duration": 144,
    "start_time": "2022-11-15T15:26:40.870Z"
   },
   {
    "duration": 123,
    "start_time": "2022-11-15T15:26:47.667Z"
   },
   {
    "duration": 8,
    "start_time": "2022-11-15T15:26:51.868Z"
   },
   {
    "duration": 212,
    "start_time": "2022-11-15T15:27:11.422Z"
   },
   {
    "duration": 165,
    "start_time": "2022-11-15T15:27:20.743Z"
   },
   {
    "duration": 251,
    "start_time": "2022-11-15T15:27:26.024Z"
   },
   {
    "duration": 7,
    "start_time": "2022-11-15T15:27:35.423Z"
   },
   {
    "duration": 119,
    "start_time": "2022-11-15T15:28:43.523Z"
   },
   {
    "duration": 104,
    "start_time": "2022-11-15T15:28:49.360Z"
   },
   {
    "duration": 103,
    "start_time": "2022-11-15T15:29:00.520Z"
   },
   {
    "duration": 22,
    "start_time": "2022-11-15T15:30:01.799Z"
   },
   {
    "duration": 7,
    "start_time": "2022-11-15T15:30:31.649Z"
   },
   {
    "duration": 122,
    "start_time": "2022-11-15T15:30:34.105Z"
   },
   {
    "duration": 150,
    "start_time": "2022-11-15T15:30:49.180Z"
   },
   {
    "duration": 7,
    "start_time": "2022-11-15T15:30:55.877Z"
   },
   {
    "duration": 119,
    "start_time": "2022-11-15T15:31:04.386Z"
   },
   {
    "duration": 136,
    "start_time": "2022-11-15T15:31:21.099Z"
   },
   {
    "duration": 260,
    "start_time": "2022-11-15T15:31:28.249Z"
   },
   {
    "duration": 177,
    "start_time": "2022-11-15T15:31:38.378Z"
   },
   {
    "duration": 6,
    "start_time": "2022-11-15T15:31:45.181Z"
   },
   {
    "duration": 12,
    "start_time": "2022-11-15T15:32:55.099Z"
   },
   {
    "duration": 10,
    "start_time": "2022-11-15T15:33:05.150Z"
   },
   {
    "duration": 103,
    "start_time": "2022-11-15T15:33:15.427Z"
   },
   {
    "duration": 132,
    "start_time": "2022-11-15T15:33:24.973Z"
   },
   {
    "duration": 114,
    "start_time": "2022-11-15T15:34:19.871Z"
   },
   {
    "duration": 7,
    "start_time": "2022-11-15T15:34:27.609Z"
   },
   {
    "duration": 27,
    "start_time": "2022-11-15T15:34:33.567Z"
   },
   {
    "duration": 6,
    "start_time": "2022-11-15T15:35:18.785Z"
   },
   {
    "duration": 130,
    "start_time": "2022-11-15T15:35:24.841Z"
   },
   {
    "duration": 124,
    "start_time": "2022-11-15T15:35:43.121Z"
   },
   {
    "duration": 195,
    "start_time": "2022-11-15T15:36:01.506Z"
   },
   {
    "duration": 142,
    "start_time": "2022-11-15T15:36:06.183Z"
   },
   {
    "duration": 23,
    "start_time": "2022-11-15T15:36:15.350Z"
   },
   {
    "duration": 136,
    "start_time": "2022-11-15T15:36:25.000Z"
   },
   {
    "duration": 196,
    "start_time": "2022-11-15T15:36:32.567Z"
   },
   {
    "duration": 20,
    "start_time": "2022-11-15T15:36:40.742Z"
   },
   {
    "duration": 6,
    "start_time": "2022-11-15T15:36:54.020Z"
   },
   {
    "duration": 128,
    "start_time": "2022-11-15T15:37:11.408Z"
   },
   {
    "duration": 53,
    "start_time": "2022-11-15T15:37:49.199Z"
   },
   {
    "duration": 22,
    "start_time": "2022-11-15T15:42:06.143Z"
   },
   {
    "duration": 127,
    "start_time": "2022-11-15T15:42:30.542Z"
   },
   {
    "duration": 6,
    "start_time": "2022-11-15T15:42:34.530Z"
   },
   {
    "duration": 34,
    "start_time": "2022-11-15T15:42:58.217Z"
   },
   {
    "duration": 6,
    "start_time": "2022-11-15T15:43:20.105Z"
   },
   {
    "duration": 120,
    "start_time": "2022-11-15T15:43:24.203Z"
   },
   {
    "duration": 144,
    "start_time": "2022-11-15T15:43:30.749Z"
   },
   {
    "duration": 8,
    "start_time": "2022-11-15T15:45:59.649Z"
   },
   {
    "duration": 4,
    "start_time": "2022-11-15T15:46:07.928Z"
   },
   {
    "duration": 9,
    "start_time": "2022-11-15T15:46:22.766Z"
   },
   {
    "duration": 39,
    "start_time": "2022-11-15T15:46:25.317Z"
   },
   {
    "duration": 9,
    "start_time": "2022-11-15T15:46:25.530Z"
   },
   {
    "duration": 8,
    "start_time": "2022-11-15T15:46:26.058Z"
   },
   {
    "duration": 47,
    "start_time": "2022-11-15T15:46:39.252Z"
   },
   {
    "duration": 7,
    "start_time": "2022-11-15T15:46:39.301Z"
   },
   {
    "duration": 5,
    "start_time": "2022-11-15T15:46:39.365Z"
   },
   {
    "duration": 8,
    "start_time": "2022-11-15T15:46:46.107Z"
   },
   {
    "duration": 25,
    "start_time": "2022-11-15T15:47:01.972Z"
   },
   {
    "duration": 227,
    "start_time": "2022-11-15T15:47:45.094Z"
   },
   {
    "duration": 22,
    "start_time": "2022-11-15T15:52:02.764Z"
   },
   {
    "duration": 4,
    "start_time": "2022-11-15T15:52:20.445Z"
   },
   {
    "duration": 33,
    "start_time": "2022-11-15T15:52:23.613Z"
   },
   {
    "duration": 2,
    "start_time": "2022-11-15T15:52:46.562Z"
   },
   {
    "duration": 4,
    "start_time": "2022-11-15T15:52:56.313Z"
   },
   {
    "duration": 717,
    "start_time": "2022-11-15T15:54:10.045Z"
   },
   {
    "duration": 40,
    "start_time": "2022-11-15T15:55:49.309Z"
   },
   {
    "duration": 8,
    "start_time": "2022-11-15T15:55:50.386Z"
   },
   {
    "duration": 42,
    "start_time": "2022-11-15T15:55:50.620Z"
   },
   {
    "duration": 6,
    "start_time": "2022-11-15T15:55:51.257Z"
   },
   {
    "duration": 4,
    "start_time": "2022-11-15T15:56:00.666Z"
   },
   {
    "duration": 11,
    "start_time": "2022-11-15T15:57:14.107Z"
   },
   {
    "duration": 9,
    "start_time": "2022-11-15T15:57:19.063Z"
   },
   {
    "duration": 6,
    "start_time": "2022-11-15T15:57:28.712Z"
   },
   {
    "duration": 7,
    "start_time": "2022-11-15T15:58:07.955Z"
   },
   {
    "duration": 4,
    "start_time": "2022-11-15T15:58:08.452Z"
   },
   {
    "duration": 6,
    "start_time": "2022-11-15T15:59:02.314Z"
   },
   {
    "duration": 8,
    "start_time": "2022-11-15T15:59:13.577Z"
   },
   {
    "duration": 5,
    "start_time": "2022-11-15T15:59:23.416Z"
   },
   {
    "duration": 8,
    "start_time": "2022-11-15T15:59:35.799Z"
   },
   {
    "duration": 4,
    "start_time": "2022-11-15T15:59:36.311Z"
   },
   {
    "duration": 6,
    "start_time": "2022-11-15T15:59:37.407Z"
   },
   {
    "duration": 4,
    "start_time": "2022-11-15T15:59:37.745Z"
   },
   {
    "duration": 7,
    "start_time": "2022-11-15T16:00:10.379Z"
   },
   {
    "duration": 6,
    "start_time": "2022-11-15T16:00:51.268Z"
   },
   {
    "duration": 7,
    "start_time": "2022-11-15T16:00:59.350Z"
   },
   {
    "duration": 8,
    "start_time": "2022-11-15T16:01:17.073Z"
   },
   {
    "duration": 7,
    "start_time": "2022-11-15T16:01:26.249Z"
   },
   {
    "duration": 54,
    "start_time": "2022-11-15T16:04:08.674Z"
   },
   {
    "duration": 4,
    "start_time": "2022-11-15T16:04:12.262Z"
   },
   {
    "duration": 6,
    "start_time": "2022-11-15T16:04:33.844Z"
   },
   {
    "duration": 5,
    "start_time": "2022-11-15T16:04:51.454Z"
   },
   {
    "duration": 5,
    "start_time": "2022-11-15T16:05:12.289Z"
   },
   {
    "duration": 5,
    "start_time": "2022-11-15T16:05:16.794Z"
   },
   {
    "duration": 102,
    "start_time": "2022-11-15T16:05:46.729Z"
   },
   {
    "duration": 10,
    "start_time": "2022-11-15T16:06:30.009Z"
   },
   {
    "duration": 23,
    "start_time": "2022-11-15T16:06:32.467Z"
   },
   {
    "duration": 62,
    "start_time": "2022-11-15T16:08:33.142Z"
   },
   {
    "duration": 6,
    "start_time": "2022-11-15T16:09:29.784Z"
   },
   {
    "duration": 3,
    "start_time": "2022-11-15T16:11:16.945Z"
   },
   {
    "duration": 3,
    "start_time": "2022-11-15T16:12:29.347Z"
   },
   {
    "duration": 7,
    "start_time": "2022-11-15T16:12:33.932Z"
   },
   {
    "duration": 213,
    "start_time": "2022-11-15T16:12:58.005Z"
   },
   {
    "duration": 106,
    "start_time": "2022-11-15T16:12:59.951Z"
   },
   {
    "duration": 4,
    "start_time": "2022-11-15T16:13:00.668Z"
   },
   {
    "duration": 45,
    "start_time": "2022-11-15T16:13:01.180Z"
   },
   {
    "duration": 5,
    "start_time": "2022-11-15T16:13:02.260Z"
   },
   {
    "duration": 7,
    "start_time": "2022-11-15T16:13:02.437Z"
   },
   {
    "duration": 8,
    "start_time": "2022-11-15T16:13:02.716Z"
   },
   {
    "duration": 8,
    "start_time": "2022-11-15T16:13:02.909Z"
   },
   {
    "duration": 28,
    "start_time": "2022-11-15T16:13:03.637Z"
   },
   {
    "duration": 9,
    "start_time": "2022-11-15T16:13:04.048Z"
   },
   {
    "duration": 8,
    "start_time": "2022-11-15T16:13:04.261Z"
   },
   {
    "duration": 38,
    "start_time": "2022-11-15T16:13:12.903Z"
   },
   {
    "duration": 1658,
    "start_time": "2022-11-16T01:58:14.102Z"
   },
   {
    "duration": 87,
    "start_time": "2022-11-16T01:58:15.762Z"
   },
   {
    "duration": 10,
    "start_time": "2022-11-16T01:58:15.851Z"
   },
   {
    "duration": 5,
    "start_time": "2022-11-16T01:58:15.863Z"
   },
   {
    "duration": 10,
    "start_time": "2022-11-16T01:58:15.870Z"
   },
   {
    "duration": 181,
    "start_time": "2022-11-16T01:58:15.882Z"
   },
   {
    "duration": 118,
    "start_time": "2022-11-16T01:58:16.065Z"
   },
   {
    "duration": 7,
    "start_time": "2022-11-16T01:58:16.184Z"
   },
   {
    "duration": 148,
    "start_time": "2022-11-16T01:58:16.193Z"
   },
   {
    "duration": 11,
    "start_time": "2022-11-16T01:58:16.343Z"
   },
   {
    "duration": 124,
    "start_time": "2022-11-16T01:58:16.355Z"
   },
   {
    "duration": 4,
    "start_time": "2022-11-16T01:58:16.480Z"
   },
   {
    "duration": 230,
    "start_time": "2022-11-16T01:58:16.486Z"
   },
   {
    "duration": 101,
    "start_time": "2022-11-16T01:58:16.718Z"
   },
   {
    "duration": 4,
    "start_time": "2022-11-16T01:58:16.821Z"
   },
   {
    "duration": 40,
    "start_time": "2022-11-16T01:58:16.827Z"
   },
   {
    "duration": 4,
    "start_time": "2022-11-16T01:58:16.869Z"
   },
   {
    "duration": 8,
    "start_time": "2022-11-16T01:58:16.874Z"
   },
   {
    "duration": 5,
    "start_time": "2022-11-16T01:58:16.884Z"
   },
   {
    "duration": 7,
    "start_time": "2022-11-16T01:58:16.891Z"
   },
   {
    "duration": 51,
    "start_time": "2022-11-16T01:58:16.900Z"
   },
   {
    "duration": 8,
    "start_time": "2022-11-16T01:58:16.953Z"
   },
   {
    "duration": 15,
    "start_time": "2022-11-16T01:58:16.964Z"
   },
   {
    "duration": 38,
    "start_time": "2022-11-16T01:58:16.980Z"
   },
   {
    "duration": 23,
    "start_time": "2022-11-16T01:58:17.926Z"
   },
   {
    "duration": 113,
    "start_time": "2022-11-16T01:58:21.366Z"
   },
   {
    "duration": 1133,
    "start_time": "2022-11-16T01:58:34.182Z"
   },
   {
    "duration": 1249,
    "start_time": "2022-11-16T01:58:47.054Z"
   },
   {
    "duration": 11,
    "start_time": "2022-11-16T01:58:52.806Z"
   },
   {
    "duration": 11,
    "start_time": "2022-11-16T01:59:12.965Z"
   },
   {
    "duration": 17,
    "start_time": "2022-11-16T01:59:26.972Z"
   },
   {
    "duration": 1296,
    "start_time": "2022-11-16T01:59:54.901Z"
   },
   {
    "duration": 1307,
    "start_time": "2022-11-16T02:00:10.757Z"
   },
   {
    "duration": 192,
    "start_time": "2022-11-16T02:00:17.629Z"
   },
   {
    "duration": 169,
    "start_time": "2022-11-16T02:00:50.967Z"
   },
   {
    "duration": 4,
    "start_time": "2022-11-16T02:06:54.560Z"
   },
   {
    "duration": 77,
    "start_time": "2022-11-16T02:08:38.128Z"
   },
   {
    "duration": 126,
    "start_time": "2022-11-16T02:08:47.424Z"
   },
   {
    "duration": 94979,
    "start_time": "2022-11-16T02:08:57.136Z"
   },
   {
    "duration": 175,
    "start_time": "2022-11-16T02:12:20.326Z"
   },
   {
    "duration": 96,
    "start_time": "2022-11-16T02:13:16.094Z"
   },
   {
    "duration": 75,
    "start_time": "2022-11-16T02:13:23.734Z"
   },
   {
    "duration": 170,
    "start_time": "2022-11-16T02:13:36.357Z"
   },
   {
    "duration": 93875,
    "start_time": "2022-11-16T02:13:44.629Z"
   },
   {
    "duration": 10,
    "start_time": "2022-11-16T02:15:18.506Z"
   },
   {
    "duration": 147,
    "start_time": "2022-11-16T02:15:24.421Z"
   },
   {
    "duration": 136,
    "start_time": "2022-11-16T02:15:36.948Z"
   },
   {
    "duration": 237,
    "start_time": "2022-11-16T02:15:45.940Z"
   },
   {
    "duration": 133,
    "start_time": "2022-11-16T02:15:50.771Z"
   },
   {
    "duration": 127,
    "start_time": "2022-11-16T02:16:04.779Z"
   },
   {
    "duration": 5,
    "start_time": "2022-11-16T02:17:05.260Z"
   },
   {
    "duration": 4,
    "start_time": "2022-11-16T02:17:27.396Z"
   },
   {
    "duration": 4,
    "start_time": "2022-11-16T02:17:42.515Z"
   },
   {
    "duration": 166,
    "start_time": "2022-11-16T02:20:19.914Z"
   },
   {
    "duration": 21,
    "start_time": "2022-11-16T02:20:29.707Z"
   },
   {
    "duration": 178,
    "start_time": "2022-11-16T02:20:31.018Z"
   },
   {
    "duration": 136391,
    "start_time": "2022-11-16T02:20:43.818Z"
   },
   {
    "duration": 9,
    "start_time": "2022-11-16T02:23:08.137Z"
   },
   {
    "duration": 4,
    "start_time": "2022-11-16T02:23:15.713Z"
   },
   {
    "duration": 4,
    "start_time": "2022-11-16T02:23:18.583Z"
   },
   {
    "duration": 5,
    "start_time": "2022-11-16T02:23:19.012Z"
   },
   {
    "duration": 42,
    "start_time": "2022-11-16T02:23:30.188Z"
   },
   {
    "duration": 9,
    "start_time": "2022-11-16T02:23:38.816Z"
   },
   {
    "duration": 135746,
    "start_time": "2022-11-16T02:26:24.111Z"
   },
   {
    "duration": 8,
    "start_time": "2022-11-16T02:29:59.366Z"
   },
   {
    "duration": 9,
    "start_time": "2022-11-16T02:30:03.679Z"
   },
   {
    "duration": 9,
    "start_time": "2022-11-16T02:30:09.853Z"
   },
   {
    "duration": 136313,
    "start_time": "2022-11-16T02:31:05.534Z"
   },
   {
    "duration": 5,
    "start_time": "2022-11-16T02:33:51.675Z"
   },
   {
    "duration": 4,
    "start_time": "2022-11-16T02:33:52.268Z"
   },
   {
    "duration": 4,
    "start_time": "2022-11-16T02:33:52.723Z"
   },
   {
    "duration": 8,
    "start_time": "2022-11-16T02:33:53.475Z"
   },
   {
    "duration": 4,
    "start_time": "2022-11-16T02:34:12.092Z"
   },
   {
    "duration": 148,
    "start_time": "2022-11-16T02:35:35.715Z"
   },
   {
    "duration": 149,
    "start_time": "2022-11-16T02:35:59.675Z"
   },
   {
    "duration": 4,
    "start_time": "2022-11-16T02:36:23.747Z"
   },
   {
    "duration": 10,
    "start_time": "2022-11-16T02:36:26.907Z"
   },
   {
    "duration": 17,
    "start_time": "2022-11-16T02:36:34.809Z"
   },
   {
    "duration": 3,
    "start_time": "2022-11-16T02:36:42.842Z"
   },
   {
    "duration": 10,
    "start_time": "2022-11-16T02:36:46.819Z"
   },
   {
    "duration": 232,
    "start_time": "2022-11-16T02:37:04.651Z"
   },
   {
    "duration": 219,
    "start_time": "2022-11-16T02:40:48.377Z"
   },
   {
    "duration": 214,
    "start_time": "2022-11-16T02:40:56.360Z"
   },
   {
    "duration": 6,
    "start_time": "2022-11-16T02:46:59.560Z"
   },
   {
    "duration": 4,
    "start_time": "2022-11-16T02:47:14.286Z"
   },
   {
    "duration": 4,
    "start_time": "2022-11-16T02:53:27.003Z"
   },
   {
    "duration": 3,
    "start_time": "2022-11-16T02:53:34.972Z"
   },
   {
    "duration": 25,
    "start_time": "2022-11-16T02:53:39.314Z"
   },
   {
    "duration": 4,
    "start_time": "2022-11-16T02:58:00.586Z"
   },
   {
    "duration": 2,
    "start_time": "2022-11-16T02:58:11.840Z"
   },
   {
    "duration": 18,
    "start_time": "2022-11-16T02:58:40.689Z"
   },
   {
    "duration": 23,
    "start_time": "2022-11-16T02:58:57.953Z"
   },
   {
    "duration": 3,
    "start_time": "2022-11-16T02:59:48.065Z"
   },
   {
    "duration": 3,
    "start_time": "2022-11-16T02:59:48.312Z"
   },
   {
    "duration": 16,
    "start_time": "2022-11-16T02:59:48.736Z"
   },
   {
    "duration": 43,
    "start_time": "2022-11-16T02:59:49.758Z"
   },
   {
    "duration": 26,
    "start_time": "2022-11-16T02:59:53.457Z"
   },
   {
    "duration": 21,
    "start_time": "2022-11-16T03:00:00.882Z"
   },
   {
    "duration": 11,
    "start_time": "2022-11-16T03:04:02.919Z"
   },
   {
    "duration": 15,
    "start_time": "2022-11-16T03:04:15.943Z"
   },
   {
    "duration": 15,
    "start_time": "2022-11-16T03:04:21.235Z"
   },
   {
    "duration": 26,
    "start_time": "2022-11-16T03:04:34.594Z"
   },
   {
    "duration": 3,
    "start_time": "2022-11-16T03:04:48.041Z"
   },
   {
    "duration": 5,
    "start_time": "2022-11-16T03:04:58.449Z"
   },
   {
    "duration": 3,
    "start_time": "2022-11-16T03:05:17.455Z"
   },
   {
    "duration": 44,
    "start_time": "2022-11-16T03:05:17.981Z"
   },
   {
    "duration": 9,
    "start_time": "2022-11-16T03:05:18.332Z"
   },
   {
    "duration": 4,
    "start_time": "2022-11-16T03:05:18.934Z"
   },
   {
    "duration": 12,
    "start_time": "2022-11-16T03:05:19.144Z"
   },
   {
    "duration": 139,
    "start_time": "2022-11-16T03:05:19.302Z"
   },
   {
    "duration": 115,
    "start_time": "2022-11-16T03:05:19.482Z"
   },
   {
    "duration": 7,
    "start_time": "2022-11-16T03:05:19.878Z"
   },
   {
    "duration": 143,
    "start_time": "2022-11-16T03:05:20.061Z"
   },
   {
    "duration": 6,
    "start_time": "2022-11-16T03:05:20.390Z"
   },
   {
    "duration": 143,
    "start_time": "2022-11-16T03:05:20.710Z"
   },
   {
    "duration": 5,
    "start_time": "2022-11-16T03:05:29.037Z"
   },
   {
    "duration": 4,
    "start_time": "2022-11-16T03:05:56.729Z"
   },
   {
    "duration": 3,
    "start_time": "2022-11-16T03:05:57.679Z"
   },
   {
    "duration": 15,
    "start_time": "2022-11-16T03:05:59.319Z"
   },
   {
    "duration": 8,
    "start_time": "2022-11-16T03:06:00.368Z"
   },
   {
    "duration": 4,
    "start_time": "2022-11-16T03:06:00.556Z"
   },
   {
    "duration": 6,
    "start_time": "2022-11-16T03:06:00.759Z"
   },
   {
    "duration": 5,
    "start_time": "2022-11-16T03:06:01.023Z"
   },
   {
    "duration": 6,
    "start_time": "2022-11-16T03:06:01.271Z"
   },
   {
    "duration": 6,
    "start_time": "2022-11-16T03:06:01.725Z"
   },
   {
    "duration": 6,
    "start_time": "2022-11-16T03:06:02.392Z"
   },
   {
    "duration": 4,
    "start_time": "2022-11-16T03:06:13.001Z"
   },
   {
    "duration": 4,
    "start_time": "2022-11-16T03:06:13.745Z"
   },
   {
    "duration": 4,
    "start_time": "2022-11-16T03:06:14.095Z"
   },
   {
    "duration": 28380,
    "start_time": "2022-11-16T03:06:15.047Z"
   },
   {
    "duration": 4,
    "start_time": "2022-11-16T03:07:30.144Z"
   },
   {
    "duration": 4,
    "start_time": "2022-11-16T03:07:51.927Z"
   },
   {
    "duration": 211,
    "start_time": "2022-11-16T03:08:02.992Z"
   },
   {
    "duration": 8,
    "start_time": "2022-11-16T03:12:16.246Z"
   },
   {
    "duration": 6,
    "start_time": "2022-11-16T03:12:18.274Z"
   },
   {
    "duration": 4,
    "start_time": "2022-11-16T03:12:29.103Z"
   },
   {
    "duration": 4,
    "start_time": "2022-11-16T03:12:29.397Z"
   },
   {
    "duration": 16,
    "start_time": "2022-11-16T03:12:29.605Z"
   },
   {
    "duration": 20,
    "start_time": "2022-11-16T03:12:30.019Z"
   },
   {
    "duration": 25,
    "start_time": "2022-11-16T03:12:30.761Z"
   },
   {
    "duration": 3,
    "start_time": "2022-11-16T03:20:13.977Z"
   },
   {
    "duration": 11,
    "start_time": "2022-11-16T03:26:06.361Z"
   },
   {
    "duration": 15,
    "start_time": "2022-11-16T03:29:44.171Z"
   },
   {
    "duration": 4,
    "start_time": "2022-11-16T03:30:20.995Z"
   },
   {
    "duration": 4,
    "start_time": "2022-11-16T03:33:00.321Z"
   },
   {
    "duration": 5,
    "start_time": "2022-11-16T03:33:00.633Z"
   },
   {
    "duration": 4,
    "start_time": "2022-11-16T03:33:00.881Z"
   },
   {
    "duration": 19,
    "start_time": "2022-11-16T03:33:05.281Z"
   },
   {
    "duration": 44,
    "start_time": "2022-11-16T13:20:34.769Z"
   },
   {
    "duration": 1622,
    "start_time": "2022-11-16T13:28:52.359Z"
   },
   {
    "duration": 72,
    "start_time": "2022-11-16T13:28:59.411Z"
   },
   {
    "duration": 2,
    "start_time": "2022-11-16T13:29:07.957Z"
   },
   {
    "duration": 10,
    "start_time": "2022-11-16T13:30:57.948Z"
   },
   {
    "duration": 4,
    "start_time": "2022-11-16T13:31:03.830Z"
   },
   {
    "duration": 181,
    "start_time": "2022-11-16T13:31:03.898Z"
   },
   {
    "duration": 10,
    "start_time": "2022-11-16T13:31:04.082Z"
   },
   {
    "duration": 7,
    "start_time": "2022-11-16T13:31:04.094Z"
   },
   {
    "duration": 32,
    "start_time": "2022-11-16T13:31:04.104Z"
   },
   {
    "duration": 139,
    "start_time": "2022-11-16T13:31:04.138Z"
   },
   {
    "duration": 109,
    "start_time": "2022-11-16T13:31:04.278Z"
   },
   {
    "duration": 7,
    "start_time": "2022-11-16T13:31:04.390Z"
   },
   {
    "duration": 143,
    "start_time": "2022-11-16T13:31:04.399Z"
   },
   {
    "duration": 6,
    "start_time": "2022-11-16T13:31:04.544Z"
   },
   {
    "duration": 195,
    "start_time": "2022-11-16T13:31:04.551Z"
   },
   {
    "duration": 5,
    "start_time": "2022-11-16T13:31:04.748Z"
   },
   {
    "duration": 10,
    "start_time": "2022-11-16T13:31:04.754Z"
   },
   {
    "duration": 13,
    "start_time": "2022-11-16T13:31:04.766Z"
   },
   {
    "duration": 28,
    "start_time": "2022-11-16T13:31:04.781Z"
   },
   {
    "duration": 12,
    "start_time": "2022-11-16T13:31:04.810Z"
   },
   {
    "duration": 26,
    "start_time": "2022-11-16T13:31:04.824Z"
   },
   {
    "duration": 15,
    "start_time": "2022-11-16T13:31:04.852Z"
   },
   {
    "duration": 24,
    "start_time": "2022-11-16T13:31:04.869Z"
   },
   {
    "duration": 19,
    "start_time": "2022-11-16T13:31:04.895Z"
   },
   {
    "duration": 12,
    "start_time": "2022-11-16T13:31:04.916Z"
   },
   {
    "duration": 23,
    "start_time": "2022-11-16T13:31:04.929Z"
   },
   {
    "duration": 14,
    "start_time": "2022-11-16T13:31:04.957Z"
   },
   {
    "duration": 3,
    "start_time": "2022-11-16T13:31:04.992Z"
   },
   {
    "duration": 4,
    "start_time": "2022-11-16T13:31:05.024Z"
   },
   {
    "duration": 24762,
    "start_time": "2022-11-16T13:31:05.894Z"
   },
   {
    "duration": 5,
    "start_time": "2022-11-16T13:31:30.658Z"
   },
   {
    "duration": 47,
    "start_time": "2022-11-16T13:31:30.665Z"
   },
   {
    "duration": 207,
    "start_time": "2022-11-16T13:31:30.715Z"
   },
   {
    "duration": 12,
    "start_time": "2022-11-16T13:31:30.924Z"
   },
   {
    "duration": 39,
    "start_time": "2022-11-16T13:31:30.938Z"
   },
   {
    "duration": 33,
    "start_time": "2022-11-16T13:31:30.978Z"
   },
   {
    "duration": 33,
    "start_time": "2022-11-16T13:31:31.013Z"
   },
   {
    "duration": 48,
    "start_time": "2022-11-16T13:31:31.047Z"
   },
   {
    "duration": 32,
    "start_time": "2022-11-16T13:31:31.097Z"
   },
   {
    "duration": 27,
    "start_time": "2022-11-16T13:31:31.131Z"
   },
   {
    "duration": 8,
    "start_time": "2022-11-16T13:39:09.591Z"
   },
   {
    "duration": 4,
    "start_time": "2022-11-16T13:39:13.231Z"
   },
   {
    "duration": 13,
    "start_time": "2022-11-16T13:39:28.639Z"
   },
   {
    "duration": 5,
    "start_time": "2022-11-16T13:52:49.344Z"
   },
   {
    "duration": 3,
    "start_time": "2022-11-16T13:52:58.098Z"
   },
   {
    "duration": 40,
    "start_time": "2022-11-16T13:52:58.157Z"
   },
   {
    "duration": 7,
    "start_time": "2022-11-16T13:52:58.199Z"
   },
   {
    "duration": 4,
    "start_time": "2022-11-16T13:52:58.257Z"
   },
   {
    "duration": 7,
    "start_time": "2022-11-16T13:52:58.294Z"
   },
   {
    "duration": 128,
    "start_time": "2022-11-16T13:52:58.319Z"
   },
   {
    "duration": 103,
    "start_time": "2022-11-16T13:52:58.448Z"
   },
   {
    "duration": 6,
    "start_time": "2022-11-16T13:52:58.553Z"
   },
   {
    "duration": 133,
    "start_time": "2022-11-16T13:52:58.560Z"
   },
   {
    "duration": 5,
    "start_time": "2022-11-16T13:52:58.695Z"
   },
   {
    "duration": 114,
    "start_time": "2022-11-16T13:52:58.702Z"
   },
   {
    "duration": 4,
    "start_time": "2022-11-16T13:52:58.817Z"
   },
   {
    "duration": 14,
    "start_time": "2022-11-16T13:52:58.823Z"
   },
   {
    "duration": 8,
    "start_time": "2022-11-16T13:52:58.838Z"
   },
   {
    "duration": 10,
    "start_time": "2022-11-16T13:52:58.854Z"
   },
   {
    "duration": 7,
    "start_time": "2022-11-16T13:52:58.951Z"
   },
   {
    "duration": 4,
    "start_time": "2022-11-16T13:52:58.993Z"
   },
   {
    "duration": 6,
    "start_time": "2022-11-16T13:52:59.017Z"
   },
   {
    "duration": 4,
    "start_time": "2022-11-16T13:52:59.060Z"
   },
   {
    "duration": 5,
    "start_time": "2022-11-16T13:52:59.096Z"
   },
   {
    "duration": 6,
    "start_time": "2022-11-16T13:52:59.118Z"
   },
   {
    "duration": 5,
    "start_time": "2022-11-16T13:52:59.150Z"
   },
   {
    "duration": 4,
    "start_time": "2022-11-16T13:52:59.219Z"
   },
   {
    "duration": 3,
    "start_time": "2022-11-16T13:52:59.252Z"
   },
   {
    "duration": 4,
    "start_time": "2022-11-16T13:52:59.285Z"
   },
   {
    "duration": 25807,
    "start_time": "2022-11-16T13:52:59.355Z"
   },
   {
    "duration": 5,
    "start_time": "2022-11-16T13:53:25.164Z"
   },
   {
    "duration": 12,
    "start_time": "2022-11-16T13:53:25.170Z"
   },
   {
    "duration": 240,
    "start_time": "2022-11-16T13:53:25.185Z"
   },
   {
    "duration": 12,
    "start_time": "2022-11-16T13:53:25.427Z"
   },
   {
    "duration": 36,
    "start_time": "2022-11-16T13:53:25.441Z"
   },
   {
    "duration": 21,
    "start_time": "2022-11-16T13:53:25.478Z"
   },
   {
    "duration": 25,
    "start_time": "2022-11-16T13:53:25.500Z"
   },
   {
    "duration": 39,
    "start_time": "2022-11-16T13:53:25.526Z"
   },
   {
    "duration": 19,
    "start_time": "2022-11-16T13:53:25.567Z"
   },
   {
    "duration": 30,
    "start_time": "2022-11-16T13:53:25.588Z"
   },
   {
    "duration": 119,
    "start_time": "2022-11-16T13:53:25.621Z"
   },
   {
    "duration": 121,
    "start_time": "2022-11-16T13:53:25.742Z"
   },
   {
    "duration": 16,
    "start_time": "2022-11-16T13:54:04.784Z"
   },
   {
    "duration": 9,
    "start_time": "2022-11-16T13:54:12.408Z"
   },
   {
    "duration": 5,
    "start_time": "2022-11-16T13:54:17.856Z"
   },
   {
    "duration": 5,
    "start_time": "2022-11-16T13:55:39.575Z"
   },
   {
    "duration": 4,
    "start_time": "2022-11-16T13:56:39.039Z"
   },
   {
    "duration": 3,
    "start_time": "2022-11-16T13:56:53.703Z"
   },
   {
    "duration": 5,
    "start_time": "2022-11-16T13:56:57.695Z"
   },
   {
    "duration": 40,
    "start_time": "2022-11-16T13:56:57.763Z"
   },
   {
    "duration": 8,
    "start_time": "2022-11-16T13:56:57.805Z"
   },
   {
    "duration": 4,
    "start_time": "2022-11-16T13:56:57.862Z"
   },
   {
    "duration": 7,
    "start_time": "2022-11-16T13:56:57.900Z"
   },
   {
    "duration": 147,
    "start_time": "2022-11-16T13:56:57.936Z"
   },
   {
    "duration": 115,
    "start_time": "2022-11-16T13:56:58.086Z"
   },
   {
    "duration": 6,
    "start_time": "2022-11-16T13:56:58.203Z"
   },
   {
    "duration": 150,
    "start_time": "2022-11-16T13:56:58.211Z"
   },
   {
    "duration": 5,
    "start_time": "2022-11-16T13:56:58.363Z"
   },
   {
    "duration": 128,
    "start_time": "2022-11-16T13:56:58.370Z"
   },
   {
    "duration": 4,
    "start_time": "2022-11-16T13:56:58.500Z"
   },
   {
    "duration": 9,
    "start_time": "2022-11-16T13:56:58.506Z"
   },
   {
    "duration": 17,
    "start_time": "2022-11-16T13:56:58.517Z"
   },
   {
    "duration": 16,
    "start_time": "2022-11-16T13:56:58.536Z"
   },
   {
    "duration": 8,
    "start_time": "2022-11-16T13:56:58.555Z"
   },
   {
    "duration": 6,
    "start_time": "2022-11-16T13:56:58.594Z"
   },
   {
    "duration": 7,
    "start_time": "2022-11-16T13:56:58.635Z"
   },
   {
    "duration": 4,
    "start_time": "2022-11-16T13:56:58.654Z"
   },
   {
    "duration": 15,
    "start_time": "2022-11-16T13:56:58.679Z"
   },
   {
    "duration": 7,
    "start_time": "2022-11-16T13:56:58.727Z"
   },
   {
    "duration": 8,
    "start_time": "2022-11-16T13:56:58.749Z"
   },
   {
    "duration": 5,
    "start_time": "2022-11-16T13:56:58.809Z"
   },
   {
    "duration": 5,
    "start_time": "2022-11-16T13:56:58.852Z"
   },
   {
    "duration": 4,
    "start_time": "2022-11-16T13:56:58.882Z"
   },
   {
    "duration": 26594,
    "start_time": "2022-11-16T13:56:58.950Z"
   },
   {
    "duration": 4,
    "start_time": "2022-11-16T13:57:25.547Z"
   },
   {
    "duration": 26,
    "start_time": "2022-11-16T13:57:25.553Z"
   },
   {
    "duration": 213,
    "start_time": "2022-11-16T13:57:25.582Z"
   },
   {
    "duration": 5,
    "start_time": "2022-11-16T13:57:25.797Z"
   },
   {
    "duration": 16,
    "start_time": "2022-11-16T13:57:25.804Z"
   },
   {
    "duration": 14,
    "start_time": "2022-11-16T13:57:25.822Z"
   },
   {
    "duration": 11,
    "start_time": "2022-11-16T13:57:25.838Z"
   },
   {
    "duration": 16,
    "start_time": "2022-11-16T13:57:25.851Z"
   },
   {
    "duration": 23,
    "start_time": "2022-11-16T13:57:25.869Z"
   },
   {
    "duration": 1051,
    "start_time": "2022-11-16T13:57:25.894Z"
   },
   {
    "duration": 97,
    "start_time": "2022-11-16T13:57:26.948Z"
   },
   {
    "duration": 200,
    "start_time": "2022-11-16T13:57:27.047Z"
   },
   {
    "duration": 11,
    "start_time": "2022-11-16T13:57:27.249Z"
   },
   {
    "duration": 9,
    "start_time": "2022-11-16T14:29:22.197Z"
   },
   {
    "duration": 9,
    "start_time": "2022-11-16T14:29:25.353Z"
   },
   {
    "duration": 4,
    "start_time": "2022-11-16T14:29:28.681Z"
   },
   {
    "duration": 3,
    "start_time": "2022-11-16T14:29:28.826Z"
   },
   {
    "duration": 10,
    "start_time": "2022-11-16T14:29:28.991Z"
   },
   {
    "duration": 18,
    "start_time": "2022-11-16T14:29:30.704Z"
   },
   {
    "duration": 16,
    "start_time": "2022-11-16T14:29:31.104Z"
   },
   {
    "duration": 4,
    "start_time": "2022-11-16T14:29:31.952Z"
   },
   {
    "duration": 4,
    "start_time": "2022-11-16T14:29:33.024Z"
   },
   {
    "duration": 4,
    "start_time": "2022-11-16T14:29:33.610Z"
   },
   {
    "duration": 4,
    "start_time": "2022-11-16T14:29:34.100Z"
   },
   {
    "duration": 4,
    "start_time": "2022-11-16T14:29:39.240Z"
   },
   {
    "duration": 4,
    "start_time": "2022-11-16T14:33:18.319Z"
   },
   {
    "duration": 2,
    "start_time": "2022-11-16T14:39:11.909Z"
   },
   {
    "duration": 36,
    "start_time": "2022-11-16T14:39:12.380Z"
   },
   {
    "duration": 5,
    "start_time": "2022-11-16T14:39:12.676Z"
   },
   {
    "duration": 5,
    "start_time": "2022-11-16T14:39:12.981Z"
   },
   {
    "duration": 6,
    "start_time": "2022-11-16T14:41:28.820Z"
   },
   {
    "duration": 6,
    "start_time": "2022-11-16T14:41:39.715Z"
   },
   {
    "duration": 6,
    "start_time": "2022-11-16T14:41:49.081Z"
   },
   {
    "duration": 7,
    "start_time": "2022-11-16T14:41:50.982Z"
   },
   {
    "duration": 5,
    "start_time": "2022-11-16T14:41:51.173Z"
   },
   {
    "duration": 5,
    "start_time": "2022-11-16T14:42:58.898Z"
   },
   {
    "duration": 4,
    "start_time": "2022-11-16T14:43:25.074Z"
   },
   {
    "duration": 5,
    "start_time": "2022-11-16T14:43:25.281Z"
   },
   {
    "duration": 4,
    "start_time": "2022-11-16T14:43:44.418Z"
   },
   {
    "duration": 3,
    "start_time": "2022-11-16T14:44:15.120Z"
   },
   {
    "duration": 40,
    "start_time": "2022-11-16T14:44:15.185Z"
   },
   {
    "duration": 6,
    "start_time": "2022-11-16T14:44:15.227Z"
   },
   {
    "duration": 4,
    "start_time": "2022-11-16T14:44:15.290Z"
   },
   {
    "duration": 7,
    "start_time": "2022-11-16T14:44:15.329Z"
   },
   {
    "duration": 119,
    "start_time": "2022-11-16T14:44:15.350Z"
   },
   {
    "duration": 104,
    "start_time": "2022-11-16T14:44:15.471Z"
   },
   {
    "duration": 6,
    "start_time": "2022-11-16T14:44:15.577Z"
   },
   {
    "duration": 117,
    "start_time": "2022-11-16T14:44:15.584Z"
   },
   {
    "duration": 5,
    "start_time": "2022-11-16T14:44:15.703Z"
   },
   {
    "duration": 113,
    "start_time": "2022-11-16T14:44:15.709Z"
   },
   {
    "duration": 12,
    "start_time": "2022-11-16T14:44:15.824Z"
   },
   {
    "duration": 8,
    "start_time": "2022-11-16T14:44:15.837Z"
   },
   {
    "duration": 13,
    "start_time": "2022-11-16T14:44:15.847Z"
   },
   {
    "duration": 9,
    "start_time": "2022-11-16T14:44:15.885Z"
   },
   {
    "duration": 6,
    "start_time": "2022-11-16T14:44:15.986Z"
   },
   {
    "duration": 4,
    "start_time": "2022-11-16T14:44:16.017Z"
   },
   {
    "duration": 5,
    "start_time": "2022-11-16T14:44:16.052Z"
   },
   {
    "duration": 4,
    "start_time": "2022-11-16T14:44:16.076Z"
   },
   {
    "duration": 18,
    "start_time": "2022-11-16T14:44:16.102Z"
   },
   {
    "duration": 13,
    "start_time": "2022-11-16T14:44:16.150Z"
   },
   {
    "duration": 23,
    "start_time": "2022-11-16T14:44:16.175Z"
   },
   {
    "duration": 5,
    "start_time": "2022-11-16T14:44:16.240Z"
   },
   {
    "duration": 5,
    "start_time": "2022-11-16T14:44:16.278Z"
   },
   {
    "duration": 7,
    "start_time": "2022-11-16T14:44:16.306Z"
   },
   {
    "duration": 25149,
    "start_time": "2022-11-16T14:44:16.374Z"
   },
   {
    "duration": 10,
    "start_time": "2022-11-16T14:44:41.525Z"
   },
   {
    "duration": 18,
    "start_time": "2022-11-16T14:44:41.536Z"
   },
   {
    "duration": 212,
    "start_time": "2022-11-16T14:44:41.556Z"
   },
   {
    "duration": 6,
    "start_time": "2022-11-16T14:44:41.770Z"
   },
   {
    "duration": 23,
    "start_time": "2022-11-16T14:44:41.777Z"
   },
   {
    "duration": 21,
    "start_time": "2022-11-16T14:44:41.802Z"
   },
   {
    "duration": 30,
    "start_time": "2022-11-16T14:44:41.825Z"
   },
   {
    "duration": 29,
    "start_time": "2022-11-16T14:44:41.857Z"
   },
   {
    "duration": 17,
    "start_time": "2022-11-16T14:44:41.889Z"
   },
   {
    "duration": 56,
    "start_time": "2022-11-16T14:44:41.908Z"
   },
   {
    "duration": 78,
    "start_time": "2022-11-16T14:44:41.966Z"
   },
   {
    "duration": 14,
    "start_time": "2022-11-16T14:44:42.134Z"
   },
   {
    "duration": 27,
    "start_time": "2022-11-16T14:44:42.150Z"
   },
   {
    "duration": 24,
    "start_time": "2022-11-16T14:44:42.179Z"
   },
   {
    "duration": 36,
    "start_time": "2022-11-16T14:44:42.204Z"
   },
   {
    "duration": 41,
    "start_time": "2022-11-16T14:44:42.242Z"
   },
   {
    "duration": 34,
    "start_time": "2022-11-16T14:44:42.285Z"
   },
   {
    "duration": 35,
    "start_time": "2022-11-16T14:44:42.321Z"
   },
   {
    "duration": 22,
    "start_time": "2022-11-16T14:44:42.358Z"
   },
   {
    "duration": 38,
    "start_time": "2022-11-16T14:44:42.382Z"
   },
   {
    "duration": 26,
    "start_time": "2022-11-16T14:44:42.422Z"
   },
   {
    "duration": 38,
    "start_time": "2022-11-16T14:44:42.450Z"
   },
   {
    "duration": 20,
    "start_time": "2022-11-16T14:44:42.490Z"
   },
   {
    "duration": 3,
    "start_time": "2022-11-16T14:46:09.305Z"
   },
   {
    "duration": 2,
    "start_time": "2022-11-16T14:46:09.678Z"
   },
   {
    "duration": 10,
    "start_time": "2022-11-16T14:46:09.792Z"
   },
   {
    "duration": 17,
    "start_time": "2022-11-16T14:46:09.978Z"
   },
   {
    "duration": 15,
    "start_time": "2022-11-16T14:46:10.185Z"
   },
   {
    "duration": 3,
    "start_time": "2022-11-16T14:46:11.078Z"
   },
   {
    "duration": 5,
    "start_time": "2022-11-16T14:46:15.320Z"
   },
   {
    "duration": 5,
    "start_time": "2022-11-16T14:46:15.641Z"
   },
   {
    "duration": 5,
    "start_time": "2022-11-16T14:46:16.001Z"
   },
   {
    "duration": 10,
    "start_time": "2022-11-16T14:48:48.177Z"
   },
   {
    "duration": 4,
    "start_time": "2022-11-16T14:48:56.456Z"
   },
   {
    "duration": 5,
    "start_time": "2022-11-16T14:48:56.751Z"
   },
   {
    "duration": 4,
    "start_time": "2022-11-16T14:48:57.068Z"
   },
   {
    "duration": 4,
    "start_time": "2022-11-16T14:49:20.752Z"
   },
   {
    "duration": 4,
    "start_time": "2022-11-16T14:49:20.930Z"
   },
   {
    "duration": 4,
    "start_time": "2022-11-16T14:49:21.048Z"
   },
   {
    "duration": 3,
    "start_time": "2022-11-16T14:50:54.662Z"
   },
   {
    "duration": 108,
    "start_time": "2022-11-16T14:51:11.982Z"
   },
   {
    "duration": 13,
    "start_time": "2022-11-16T14:51:55.415Z"
   },
   {
    "duration": 5,
    "start_time": "2022-11-16T14:52:09.678Z"
   },
   {
    "duration": 3,
    "start_time": "2022-11-16T14:54:04.282Z"
   },
   {
    "duration": 18,
    "start_time": "2022-11-16T14:54:08.886Z"
   },
   {
    "duration": 6,
    "start_time": "2022-11-16T14:55:39.454Z"
   },
   {
    "duration": 3,
    "start_time": "2022-11-17T02:01:17.028Z"
   },
   {
    "duration": 4,
    "start_time": "2022-11-17T02:01:26.524Z"
   },
   {
    "duration": 27,
    "start_time": "2022-11-17T02:04:56.387Z"
   },
   {
    "duration": 4,
    "start_time": "2022-11-17T02:05:03.220Z"
   },
   {
    "duration": 50,
    "start_time": "2022-11-17T02:05:03.283Z"
   },
   {
    "duration": 8,
    "start_time": "2022-11-17T02:05:03.336Z"
   },
   {
    "duration": 4,
    "start_time": "2022-11-17T02:05:03.384Z"
   },
   {
    "duration": 10,
    "start_time": "2022-11-17T02:05:03.420Z"
   },
   {
    "duration": 159,
    "start_time": "2022-11-17T02:05:03.461Z"
   },
   {
    "duration": 166,
    "start_time": "2022-11-17T02:05:03.622Z"
   },
   {
    "duration": 8,
    "start_time": "2022-11-17T02:05:03.790Z"
   },
   {
    "duration": 142,
    "start_time": "2022-11-17T02:05:03.801Z"
   },
   {
    "duration": 6,
    "start_time": "2022-11-17T02:05:03.945Z"
   },
   {
    "duration": 171,
    "start_time": "2022-11-17T02:05:03.953Z"
   },
   {
    "duration": 6,
    "start_time": "2022-11-17T02:05:04.134Z"
   },
   {
    "duration": 24,
    "start_time": "2022-11-17T02:05:04.142Z"
   },
   {
    "duration": 19,
    "start_time": "2022-11-17T02:05:04.168Z"
   },
   {
    "duration": 12,
    "start_time": "2022-11-17T02:05:04.526Z"
   },
   {
    "duration": 8,
    "start_time": "2022-11-17T02:05:04.625Z"
   },
   {
    "duration": 4,
    "start_time": "2022-11-17T02:05:04.657Z"
   },
   {
    "duration": 6,
    "start_time": "2022-11-17T02:05:04.688Z"
   },
   {
    "duration": 5,
    "start_time": "2022-11-17T02:05:04.729Z"
   },
   {
    "duration": 7,
    "start_time": "2022-11-17T02:05:04.758Z"
   },
   {
    "duration": 7,
    "start_time": "2022-11-17T02:05:04.794Z"
   },
   {
    "duration": 6,
    "start_time": "2022-11-17T02:05:04.828Z"
   },
   {
    "duration": 4,
    "start_time": "2022-11-17T02:05:04.899Z"
   },
   {
    "duration": 4,
    "start_time": "2022-11-17T02:05:04.927Z"
   },
   {
    "duration": 5,
    "start_time": "2022-11-17T02:05:04.964Z"
   },
   {
    "duration": 25748,
    "start_time": "2022-11-17T02:05:05.030Z"
   },
   {
    "duration": 5,
    "start_time": "2022-11-17T02:05:30.780Z"
   },
   {
    "duration": 21,
    "start_time": "2022-11-17T02:05:30.787Z"
   },
   {
    "duration": 219,
    "start_time": "2022-11-17T02:05:30.810Z"
   },
   {
    "duration": 8,
    "start_time": "2022-11-17T02:05:31.030Z"
   },
   {
    "duration": 3,
    "start_time": "2022-11-17T02:05:51.890Z"
   },
   {
    "duration": 316,
    "start_time": "2022-11-17T02:06:19.978Z"
   },
   {
    "duration": 195,
    "start_time": "2022-11-17T02:06:39.058Z"
   },
   {
    "duration": 24994,
    "start_time": "2022-11-17T02:15:16.373Z"
   },
   {
    "duration": 4,
    "start_time": "2022-11-17T02:15:55.278Z"
   },
   {
    "duration": 3,
    "start_time": "2022-11-17T02:16:03.925Z"
   },
   {
    "duration": 215,
    "start_time": "2022-11-17T02:16:06.992Z"
   },
   {
    "duration": 4,
    "start_time": "2022-11-17T02:26:49.872Z"
   },
   {
    "duration": 5,
    "start_time": "2022-11-17T02:37:17.046Z"
   },
   {
    "duration": 43,
    "start_time": "2022-11-17T02:37:17.109Z"
   },
   {
    "duration": 11,
    "start_time": "2022-11-17T02:37:17.154Z"
   },
   {
    "duration": 5,
    "start_time": "2022-11-17T02:37:17.216Z"
   },
   {
    "duration": 8,
    "start_time": "2022-11-17T02:37:17.246Z"
   },
   {
    "duration": 130,
    "start_time": "2022-11-17T02:37:17.279Z"
   },
   {
    "duration": 119,
    "start_time": "2022-11-17T02:37:17.411Z"
   },
   {
    "duration": 8,
    "start_time": "2022-11-17T02:37:17.534Z"
   },
   {
    "duration": 169,
    "start_time": "2022-11-17T02:37:17.545Z"
   },
   {
    "duration": 19,
    "start_time": "2022-11-17T02:37:17.716Z"
   },
   {
    "duration": 124,
    "start_time": "2022-11-17T02:37:17.737Z"
   },
   {
    "duration": 4,
    "start_time": "2022-11-17T02:37:17.863Z"
   },
   {
    "duration": 19,
    "start_time": "2022-11-17T02:37:17.869Z"
   },
   {
    "duration": 27,
    "start_time": "2022-11-17T02:37:17.889Z"
   },
   {
    "duration": 20,
    "start_time": "2022-11-17T02:37:17.918Z"
   },
   {
    "duration": 8,
    "start_time": "2022-11-17T02:37:17.941Z"
   },
   {
    "duration": 7,
    "start_time": "2022-11-17T02:37:17.952Z"
   },
   {
    "duration": 7,
    "start_time": "2022-11-17T02:37:17.965Z"
   },
   {
    "duration": 5,
    "start_time": "2022-11-17T02:37:18.001Z"
   },
   {
    "duration": 14,
    "start_time": "2022-11-17T02:37:18.029Z"
   },
   {
    "duration": 6,
    "start_time": "2022-11-17T02:37:18.072Z"
   },
   {
    "duration": 6,
    "start_time": "2022-11-17T02:37:18.101Z"
   },
   {
    "duration": 5,
    "start_time": "2022-11-17T02:37:18.169Z"
   },
   {
    "duration": 5,
    "start_time": "2022-11-17T02:37:18.200Z"
   },
   {
    "duration": 4,
    "start_time": "2022-11-17T02:37:18.233Z"
   },
   {
    "duration": 34,
    "start_time": "2022-11-17T02:37:18.301Z"
   },
   {
    "duration": 0,
    "start_time": "2022-11-17T02:37:18.338Z"
   },
   {
    "duration": 5,
    "start_time": "2022-11-17T02:37:18.365Z"
   },
   {
    "duration": 4,
    "start_time": "2022-11-17T02:37:18.400Z"
   },
   {
    "duration": 4,
    "start_time": "2022-11-17T02:37:18.430Z"
   },
   {
    "duration": 110,
    "start_time": "2022-11-17T02:37:18.468Z"
   },
   {
    "duration": 7,
    "start_time": "2022-11-17T02:37:18.580Z"
   },
   {
    "duration": 27,
    "start_time": "2022-11-17T02:38:45.251Z"
   },
   {
    "duration": 4,
    "start_time": "2022-11-17T02:39:15.648Z"
   },
   {
    "duration": 29053,
    "start_time": "2022-11-17T02:39:23.034Z"
   },
   {
    "duration": 52,
    "start_time": "2022-11-17T02:41:09.649Z"
   },
   {
    "duration": 52,
    "start_time": "2022-11-17T02:41:15.569Z"
   },
   {
    "duration": 275,
    "start_time": "2022-11-17T02:41:19.697Z"
   },
   {
    "duration": 4,
    "start_time": "2022-11-17T02:42:01.016Z"
   },
   {
    "duration": 4,
    "start_time": "2022-11-17T02:42:03.568Z"
   },
   {
    "duration": 5,
    "start_time": "2022-11-17T02:42:06.584Z"
   },
   {
    "duration": 6,
    "start_time": "2022-11-17T02:42:50.152Z"
   },
   {
    "duration": 4,
    "start_time": "2022-11-17T02:42:53.336Z"
   },
   {
    "duration": 6,
    "start_time": "2022-11-17T02:43:08.711Z"
   },
   {
    "duration": 4,
    "start_time": "2022-11-17T03:09:50.962Z"
   },
   {
    "duration": 4,
    "start_time": "2022-11-17T03:10:17.643Z"
   },
   {
    "duration": 4,
    "start_time": "2022-11-17T03:10:48.875Z"
   },
   {
    "duration": 4,
    "start_time": "2022-11-17T03:11:41.890Z"
   },
   {
    "duration": 4,
    "start_time": "2022-11-17T03:11:54.872Z"
   },
   {
    "duration": 3,
    "start_time": "2022-11-17T03:12:42.859Z"
   },
   {
    "duration": 3,
    "start_time": "2022-11-17T03:15:01.984Z"
   },
   {
    "duration": 3,
    "start_time": "2022-11-17T03:15:02.152Z"
   },
   {
    "duration": 11,
    "start_time": "2022-11-17T03:15:02.307Z"
   },
   {
    "duration": 23,
    "start_time": "2022-11-17T03:15:02.448Z"
   },
   {
    "duration": 20,
    "start_time": "2022-11-17T03:15:02.583Z"
   },
   {
    "duration": 4,
    "start_time": "2022-11-17T03:15:02.704Z"
   },
   {
    "duration": 6,
    "start_time": "2022-11-17T03:15:02.851Z"
   },
   {
    "duration": 5,
    "start_time": "2022-11-17T03:15:03.000Z"
   },
   {
    "duration": 5,
    "start_time": "2022-11-17T03:15:03.184Z"
   },
   {
    "duration": 5,
    "start_time": "2022-11-17T03:15:03.328Z"
   },
   {
    "duration": 4,
    "start_time": "2022-11-17T03:15:03.808Z"
   },
   {
    "duration": 5,
    "start_time": "2022-11-17T03:15:03.944Z"
   },
   {
    "duration": 3,
    "start_time": "2022-11-17T03:15:04.121Z"
   },
   {
    "duration": 97,
    "start_time": "2022-11-17T03:15:04.296Z"
   },
   {
    "duration": 15,
    "start_time": "2022-11-17T03:15:04.455Z"
   },
   {
    "duration": 5,
    "start_time": "2022-11-17T03:15:05.281Z"
   },
   {
    "duration": 4,
    "start_time": "2022-11-17T03:15:39.305Z"
   },
   {
    "duration": 6,
    "start_time": "2022-11-17T03:16:17.864Z"
   },
   {
    "duration": 4,
    "start_time": "2022-11-17T03:18:58.383Z"
   },
   {
    "duration": 4,
    "start_time": "2022-11-17T03:19:12.831Z"
   },
   {
    "duration": 3,
    "start_time": "2022-11-17T03:19:24.800Z"
   },
   {
    "duration": 4,
    "start_time": "2022-11-17T03:20:01.510Z"
   },
   {
    "duration": 6,
    "start_time": "2022-11-17T03:20:03.982Z"
   },
   {
    "duration": 4,
    "start_time": "2022-11-17T03:20:18.086Z"
   },
   {
    "duration": 5,
    "start_time": "2022-11-17T03:20:28.990Z"
   },
   {
    "duration": 4,
    "start_time": "2022-11-17T03:21:01.442Z"
   },
   {
    "duration": 5,
    "start_time": "2022-11-17T03:21:08.356Z"
   },
   {
    "duration": 4,
    "start_time": "2022-11-17T03:22:10.598Z"
   },
   {
    "duration": 4,
    "start_time": "2022-11-17T03:22:32.237Z"
   },
   {
    "duration": 9,
    "start_time": "2022-11-17T03:22:34.036Z"
   },
   {
    "duration": 3,
    "start_time": "2022-11-17T03:23:20.381Z"
   },
   {
    "duration": 6,
    "start_time": "2022-11-17T03:23:26.245Z"
   },
   {
    "duration": 4,
    "start_time": "2022-11-17T03:23:47.932Z"
   },
   {
    "duration": 4,
    "start_time": "2022-11-17T03:25:31.421Z"
   },
   {
    "duration": 6,
    "start_time": "2022-11-17T03:25:50.812Z"
   },
   {
    "duration": 7,
    "start_time": "2022-11-17T03:26:02.147Z"
   },
   {
    "duration": 4,
    "start_time": "2022-11-17T03:27:01.603Z"
   },
   {
    "duration": 5,
    "start_time": "2022-11-17T03:27:09.052Z"
   },
   {
    "duration": 3,
    "start_time": "2022-11-17T03:27:25.764Z"
   },
   {
    "duration": 4,
    "start_time": "2022-11-17T03:27:33.563Z"
   },
   {
    "duration": 6,
    "start_time": "2022-11-17T03:27:44.578Z"
   },
   {
    "duration": 4,
    "start_time": "2022-11-17T03:29:37.482Z"
   },
   {
    "duration": 5,
    "start_time": "2022-11-17T03:30:41.842Z"
   },
   {
    "duration": 6,
    "start_time": "2022-11-17T03:30:59.450Z"
   },
   {
    "duration": 11,
    "start_time": "2022-11-17T03:32:04.889Z"
   },
   {
    "duration": 12,
    "start_time": "2022-11-17T03:32:16.737Z"
   },
   {
    "duration": 7,
    "start_time": "2022-11-17T03:32:24.360Z"
   },
   {
    "duration": 11,
    "start_time": "2022-11-17T03:33:16.592Z"
   },
   {
    "duration": 13,
    "start_time": "2022-11-17T03:33:41.272Z"
   },
   {
    "duration": 12,
    "start_time": "2022-11-17T03:33:47.210Z"
   },
   {
    "duration": 13,
    "start_time": "2022-11-17T03:33:47.354Z"
   },
   {
    "duration": 5,
    "start_time": "2022-11-17T03:34:29.879Z"
   },
   {
    "duration": 10,
    "start_time": "2022-11-17T03:34:38.382Z"
   },
   {
    "duration": 4,
    "start_time": "2022-11-17T03:34:38.821Z"
   },
   {
    "duration": 7,
    "start_time": "2022-11-17T03:35:20.590Z"
   },
   {
    "duration": 44,
    "start_time": "2022-11-20T03:28:28.876Z"
   },
   {
    "duration": 1515,
    "start_time": "2022-11-20T03:28:32.742Z"
   },
   {
    "duration": 79,
    "start_time": "2022-11-20T03:28:34.260Z"
   },
   {
    "duration": 10,
    "start_time": "2022-11-20T03:28:34.341Z"
   },
   {
    "duration": 4,
    "start_time": "2022-11-20T03:28:34.353Z"
   },
   {
    "duration": 5,
    "start_time": "2022-11-20T03:28:34.358Z"
   },
   {
    "duration": 9,
    "start_time": "2022-11-20T03:28:34.364Z"
   },
   {
    "duration": 140,
    "start_time": "2022-11-20T03:28:34.374Z"
   },
   {
    "duration": 103,
    "start_time": "2022-11-20T03:28:34.516Z"
   },
   {
    "duration": 13,
    "start_time": "2022-11-20T03:28:34.621Z"
   },
   {
    "duration": 118,
    "start_time": "2022-11-20T03:28:34.637Z"
   },
   {
    "duration": 5,
    "start_time": "2022-11-20T03:28:34.757Z"
   },
   {
    "duration": 166,
    "start_time": "2022-11-20T03:28:34.763Z"
   },
   {
    "duration": 7,
    "start_time": "2022-11-20T03:28:34.931Z"
   },
   {
    "duration": 8,
    "start_time": "2022-11-20T03:28:34.940Z"
   },
   {
    "duration": 5,
    "start_time": "2022-11-20T03:28:34.950Z"
   },
   {
    "duration": 12,
    "start_time": "2022-11-20T03:28:34.956Z"
   },
   {
    "duration": 5,
    "start_time": "2022-11-20T03:28:34.969Z"
   },
   {
    "duration": 4,
    "start_time": "2022-11-20T03:28:34.976Z"
   },
   {
    "duration": 5,
    "start_time": "2022-11-20T03:28:34.982Z"
   },
   {
    "duration": 4,
    "start_time": "2022-11-20T03:28:34.989Z"
   },
   {
    "duration": 8,
    "start_time": "2022-11-20T03:28:34.995Z"
   },
   {
    "duration": 33,
    "start_time": "2022-11-20T03:28:35.005Z"
   },
   {
    "duration": 6,
    "start_time": "2022-11-20T03:28:35.039Z"
   },
   {
    "duration": 5,
    "start_time": "2022-11-20T03:28:35.047Z"
   },
   {
    "duration": 6,
    "start_time": "2022-11-20T03:28:35.053Z"
   },
   {
    "duration": 13,
    "start_time": "2022-11-20T03:28:35.060Z"
   },
   {
    "duration": 26954,
    "start_time": "2022-11-20T03:28:35.074Z"
   },
   {
    "duration": 5,
    "start_time": "2022-11-20T03:29:02.034Z"
   },
   {
    "duration": 25,
    "start_time": "2022-11-20T03:29:02.040Z"
   },
   {
    "duration": 16,
    "start_time": "2022-11-20T03:29:02.067Z"
   },
   {
    "duration": 7,
    "start_time": "2022-11-20T03:29:02.084Z"
   },
   {
    "duration": 22,
    "start_time": "2022-11-20T03:29:02.093Z"
   },
   {
    "duration": 8,
    "start_time": "2022-11-20T03:29:02.116Z"
   },
   {
    "duration": 263,
    "start_time": "2022-11-20T03:29:02.125Z"
   },
   {
    "duration": 8,
    "start_time": "2022-11-20T03:29:02.390Z"
   },
   {
    "duration": 25,
    "start_time": "2022-11-20T03:29:02.400Z"
   },
   {
    "duration": 14,
    "start_time": "2022-11-20T03:29:02.428Z"
   },
   {
    "duration": 26,
    "start_time": "2022-11-20T03:29:02.444Z"
   },
   {
    "duration": 17,
    "start_time": "2022-11-20T03:29:02.472Z"
   },
   {
    "duration": 28,
    "start_time": "2022-11-20T03:29:02.492Z"
   },
   {
    "duration": 41,
    "start_time": "2022-11-20T03:29:02.523Z"
   },
   {
    "duration": 6,
    "start_time": "2022-11-20T03:29:02.566Z"
   },
   {
    "duration": 209,
    "start_time": "2022-11-20T03:29:02.575Z"
   },
   {
    "duration": 77,
    "start_time": "2022-11-20T03:29:20.065Z"
   },
   {
    "duration": 3,
    "start_time": "2022-11-20T03:29:36.789Z"
   },
   {
    "duration": 3,
    "start_time": "2022-11-20T03:29:41.792Z"
   },
   {
    "duration": 8,
    "start_time": "2022-11-20T03:29:53.787Z"
   },
   {
    "duration": 5,
    "start_time": "2022-11-20T03:29:56.907Z"
   },
   {
    "duration": 23,
    "start_time": "2022-11-20T03:33:22.055Z"
   },
   {
    "duration": 4,
    "start_time": "2022-11-20T03:33:40.576Z"
   },
   {
    "duration": 6,
    "start_time": "2022-11-20T03:33:40.928Z"
   },
   {
    "duration": 19,
    "start_time": "2022-11-20T03:33:42.226Z"
   },
   {
    "duration": 5,
    "start_time": "2022-11-20T03:34:10.528Z"
   },
   {
    "duration": 2,
    "start_time": "2022-11-20T03:34:29.809Z"
   },
   {
    "duration": 13,
    "start_time": "2022-11-20T03:37:34.692Z"
   },
   {
    "duration": 4,
    "start_time": "2022-11-20T03:37:45.325Z"
   },
   {
    "duration": 3,
    "start_time": "2022-11-20T03:40:04.643Z"
   },
   {
    "duration": 7,
    "start_time": "2022-11-20T03:41:16.156Z"
   },
   {
    "duration": 6,
    "start_time": "2022-11-20T03:41:17.244Z"
   },
   {
    "duration": 4,
    "start_time": "2022-11-20T03:41:23.354Z"
   },
   {
    "duration": 21,
    "start_time": "2022-11-20T03:41:40.017Z"
   },
   {
    "duration": 3,
    "start_time": "2022-11-20T03:42:06.426Z"
   },
   {
    "duration": 8,
    "start_time": "2022-11-20T03:42:33.765Z"
   },
   {
    "duration": 8,
    "start_time": "2022-11-20T03:44:02.130Z"
   },
   {
    "duration": 5,
    "start_time": "2022-11-20T03:44:26.007Z"
   },
   {
    "duration": 14,
    "start_time": "2022-11-20T03:45:05.224Z"
   },
   {
    "duration": 4,
    "start_time": "2022-11-20T03:45:05.724Z"
   },
   {
    "duration": 9,
    "start_time": "2022-11-20T03:45:33.871Z"
   },
   {
    "duration": 14,
    "start_time": "2022-11-20T03:45:34.866Z"
   },
   {
    "duration": 4,
    "start_time": "2022-11-20T03:46:59.675Z"
   },
   {
    "duration": 41,
    "start_time": "2022-11-20T03:46:59.816Z"
   },
   {
    "duration": 8,
    "start_time": "2022-11-20T03:46:59.859Z"
   },
   {
    "duration": 16,
    "start_time": "2022-11-20T03:46:59.869Z"
   },
   {
    "duration": 6,
    "start_time": "2022-11-20T03:46:59.887Z"
   },
   {
    "duration": 16,
    "start_time": "2022-11-20T03:46:59.895Z"
   },
   {
    "duration": 144,
    "start_time": "2022-11-20T03:46:59.913Z"
   },
   {
    "duration": 109,
    "start_time": "2022-11-20T03:47:00.060Z"
   },
   {
    "duration": 6,
    "start_time": "2022-11-20T03:47:00.170Z"
   },
   {
    "duration": 134,
    "start_time": "2022-11-20T03:47:00.178Z"
   },
   {
    "duration": 6,
    "start_time": "2022-11-20T03:47:00.313Z"
   },
   {
    "duration": 125,
    "start_time": "2022-11-20T03:47:00.321Z"
   },
   {
    "duration": 5,
    "start_time": "2022-11-20T03:47:00.448Z"
   },
   {
    "duration": 46,
    "start_time": "2022-11-20T03:47:00.454Z"
   },
   {
    "duration": 44,
    "start_time": "2022-11-20T03:47:00.502Z"
   },
   {
    "duration": 42,
    "start_time": "2022-11-20T03:47:00.548Z"
   },
   {
    "duration": 35,
    "start_time": "2022-11-20T03:47:00.591Z"
   },
   {
    "duration": 47,
    "start_time": "2022-11-20T03:47:00.627Z"
   },
   {
    "duration": 25,
    "start_time": "2022-11-20T03:47:00.676Z"
   },
   {
    "duration": 37,
    "start_time": "2022-11-20T03:47:00.702Z"
   },
   {
    "duration": 57,
    "start_time": "2022-11-20T03:47:00.741Z"
   },
   {
    "duration": 6,
    "start_time": "2022-11-20T03:47:00.919Z"
   },
   {
    "duration": 31,
    "start_time": "2022-11-20T03:47:00.929Z"
   },
   {
    "duration": 33,
    "start_time": "2022-11-20T03:47:00.969Z"
   },
   {
    "duration": 4,
    "start_time": "2022-11-20T03:47:01.155Z"
   },
   {
    "duration": 17,
    "start_time": "2022-11-20T03:47:01.161Z"
   },
   {
    "duration": 28032,
    "start_time": "2022-11-20T03:47:01.189Z"
   },
   {
    "duration": 4,
    "start_time": "2022-11-20T03:47:29.223Z"
   },
   {
    "duration": 6,
    "start_time": "2022-11-20T03:47:29.235Z"
   },
   {
    "duration": 8,
    "start_time": "2022-11-20T03:47:29.242Z"
   },
   {
    "duration": 8,
    "start_time": "2022-11-20T03:47:29.251Z"
   },
   {
    "duration": 8,
    "start_time": "2022-11-20T03:47:29.260Z"
   },
   {
    "duration": 7,
    "start_time": "2022-11-20T03:47:29.270Z"
   },
   {
    "duration": 271,
    "start_time": "2022-11-20T03:47:29.279Z"
   },
   {
    "duration": 5,
    "start_time": "2022-11-20T03:47:29.552Z"
   },
   {
    "duration": 5,
    "start_time": "2022-11-20T03:47:29.561Z"
   },
   {
    "duration": 11,
    "start_time": "2022-11-20T03:47:29.568Z"
   },
   {
    "duration": 14,
    "start_time": "2022-11-20T03:47:29.581Z"
   },
   {
    "duration": 18,
    "start_time": "2022-11-20T03:47:29.596Z"
   },
   {
    "duration": 7,
    "start_time": "2022-11-20T03:47:29.616Z"
   },
   {
    "duration": 34,
    "start_time": "2022-11-20T03:47:29.625Z"
   },
   {
    "duration": 75,
    "start_time": "2022-11-20T03:47:29.661Z"
   },
   {
    "duration": 7,
    "start_time": "2022-11-20T03:47:29.836Z"
   },
   {
    "duration": 5,
    "start_time": "2022-11-20T03:47:29.844Z"
   },
   {
    "duration": 8,
    "start_time": "2022-11-20T03:47:29.851Z"
   },
   {
    "duration": 5,
    "start_time": "2022-11-20T03:47:29.861Z"
   },
   {
    "duration": 11,
    "start_time": "2022-11-20T03:47:29.868Z"
   },
   {
    "duration": 17,
    "start_time": "2022-11-20T03:47:29.880Z"
   },
   {
    "duration": 7,
    "start_time": "2022-11-20T03:47:29.899Z"
   },
   {
    "duration": 20,
    "start_time": "2022-11-20T03:47:29.907Z"
   },
   {
    "duration": 25,
    "start_time": "2022-11-20T03:47:29.929Z"
   },
   {
    "duration": 0,
    "start_time": "2022-11-20T03:47:29.955Z"
   },
   {
    "duration": 4,
    "start_time": "2022-11-20T03:47:53.573Z"
   },
   {
    "duration": 15,
    "start_time": "2022-11-20T03:48:06.629Z"
   },
   {
    "duration": 3,
    "start_time": "2022-11-20T03:48:19.039Z"
   },
   {
    "duration": 10,
    "start_time": "2022-11-20T03:50:33.871Z"
   },
   {
    "duration": 5,
    "start_time": "2022-11-20T03:50:37.531Z"
   },
   {
    "duration": 13,
    "start_time": "2022-11-20T03:50:46.591Z"
   },
   {
    "duration": 3,
    "start_time": "2022-11-20T03:50:53.757Z"
   },
   {
    "duration": 3,
    "start_time": "2022-11-20T03:50:55.499Z"
   },
   {
    "duration": 3,
    "start_time": "2022-11-20T03:50:58.465Z"
   },
   {
    "duration": 17,
    "start_time": "2022-11-20T03:51:05.453Z"
   },
   {
    "duration": 14,
    "start_time": "2022-11-20T06:38:41.844Z"
   },
   {
    "duration": 7,
    "start_time": "2022-11-20T06:38:55.782Z"
   },
   {
    "duration": 7,
    "start_time": "2022-11-20T06:39:12.110Z"
   },
   {
    "duration": 4,
    "start_time": "2022-11-20T06:39:27.332Z"
   },
   {
    "duration": 5,
    "start_time": "2022-11-20T06:41:20.290Z"
   },
   {
    "duration": 7,
    "start_time": "2022-11-20T06:41:20.485Z"
   },
   {
    "duration": 2,
    "start_time": "2022-11-20T06:41:23.264Z"
   },
   {
    "duration": 8,
    "start_time": "2022-11-20T06:41:23.507Z"
   },
   {
    "duration": 6,
    "start_time": "2022-11-20T06:41:24.511Z"
   },
   {
    "duration": 9,
    "start_time": "2022-11-20T06:41:35.497Z"
   },
   {
    "duration": 10,
    "start_time": "2022-11-20T06:41:36.713Z"
   },
   {
    "duration": 4,
    "start_time": "2022-11-20T06:41:37.596Z"
   },
   {
    "duration": 4,
    "start_time": "2022-11-20T07:45:05.663Z"
   },
   {
    "duration": 6,
    "start_time": "2022-11-20T07:45:05.917Z"
   },
   {
    "duration": 3,
    "start_time": "2022-11-20T07:45:08.600Z"
   },
   {
    "duration": 6,
    "start_time": "2022-11-20T07:45:08.909Z"
   },
   {
    "duration": 5,
    "start_time": "2022-11-20T07:45:11.899Z"
   },
   {
    "duration": 3,
    "start_time": "2022-11-20T07:45:12.173Z"
   },
   {
    "duration": 10,
    "start_time": "2022-11-20T07:45:12.452Z"
   },
   {
    "duration": 9,
    "start_time": "2022-11-20T07:45:12.871Z"
   },
   {
    "duration": 5,
    "start_time": "2022-11-20T07:45:17.454Z"
   },
   {
    "duration": 9,
    "start_time": "2022-11-20T07:45:29.054Z"
   },
   {
    "duration": 4,
    "start_time": "2022-11-20T07:45:29.458Z"
   },
   {
    "duration": 13,
    "start_time": "2022-11-20T07:45:33.309Z"
   },
   {
    "duration": 5,
    "start_time": "2022-11-20T07:45:40.053Z"
   },
   {
    "duration": 4,
    "start_time": "2022-11-20T07:49:23.589Z"
   },
   {
    "duration": 13,
    "start_time": "2022-11-20T07:49:28.452Z"
   },
   {
    "duration": 4,
    "start_time": "2022-11-20T07:49:33.610Z"
   },
   {
    "duration": 5,
    "start_time": "2022-11-20T07:49:33.908Z"
   },
   {
    "duration": 4,
    "start_time": "2022-11-20T07:49:34.152Z"
   },
   {
    "duration": 7,
    "start_time": "2022-11-20T07:49:34.526Z"
   },
   {
    "duration": 5,
    "start_time": "2022-11-20T07:49:34.797Z"
   },
   {
    "duration": 3,
    "start_time": "2022-11-20T07:49:35.091Z"
   },
   {
    "duration": 9,
    "start_time": "2022-11-20T07:49:35.402Z"
   },
   {
    "duration": 13,
    "start_time": "2022-11-20T07:49:35.836Z"
   },
   {
    "duration": 5,
    "start_time": "2022-11-20T07:49:38.752Z"
   },
   {
    "duration": 4,
    "start_time": "2022-11-20T07:50:25.914Z"
   },
   {
    "duration": 4,
    "start_time": "2022-11-20T07:50:56.741Z"
   },
   {
    "duration": 12,
    "start_time": "2022-11-20T07:50:57.525Z"
   },
   {
    "duration": 3,
    "start_time": "2022-11-20T07:50:57.712Z"
   },
   {
    "duration": 7,
    "start_time": "2022-11-20T07:50:57.904Z"
   },
   {
    "duration": 4,
    "start_time": "2022-11-20T07:51:01.516Z"
   },
   {
    "duration": 2,
    "start_time": "2022-11-20T07:51:02.927Z"
   },
   {
    "duration": 6,
    "start_time": "2022-11-20T07:51:03.229Z"
   },
   {
    "duration": 6,
    "start_time": "2022-11-20T07:51:03.849Z"
   },
   {
    "duration": 2,
    "start_time": "2022-11-20T07:51:04.540Z"
   },
   {
    "duration": 8,
    "start_time": "2022-11-20T07:51:04.880Z"
   },
   {
    "duration": 18,
    "start_time": "2022-11-20T07:51:06.015Z"
   },
   {
    "duration": 4,
    "start_time": "2022-11-20T07:52:29.849Z"
   },
   {
    "duration": 3,
    "start_time": "2022-11-20T07:52:30.052Z"
   },
   {
    "duration": 6,
    "start_time": "2022-11-20T07:52:30.236Z"
   },
   {
    "duration": 5,
    "start_time": "2022-11-20T07:52:30.422Z"
   },
   {
    "duration": 3,
    "start_time": "2022-11-20T07:52:30.648Z"
   },
   {
    "duration": 8,
    "start_time": "2022-11-20T07:52:30.859Z"
   },
   {
    "duration": 13,
    "start_time": "2022-11-20T07:52:31.328Z"
   },
   {
    "duration": 4,
    "start_time": "2022-11-20T07:52:43.167Z"
   },
   {
    "duration": 2,
    "start_time": "2022-11-20T07:52:43.393Z"
   },
   {
    "duration": 6,
    "start_time": "2022-11-20T07:52:43.603Z"
   },
   {
    "duration": 5,
    "start_time": "2022-11-20T07:52:43.877Z"
   },
   {
    "duration": 2,
    "start_time": "2022-11-20T07:52:44.096Z"
   },
   {
    "duration": 8,
    "start_time": "2022-11-20T07:52:44.342Z"
   },
   {
    "duration": 13,
    "start_time": "2022-11-20T07:52:44.797Z"
   },
   {
    "duration": 5,
    "start_time": "2022-11-20T07:53:19.609Z"
   },
   {
    "duration": 3,
    "start_time": "2022-11-20T07:53:19.996Z"
   },
   {
    "duration": 3,
    "start_time": "2022-11-20T07:53:24.141Z"
   },
   {
    "duration": 3,
    "start_time": "2022-11-20T07:53:45.429Z"
   },
   {
    "duration": 4,
    "start_time": "2022-11-20T07:53:48.075Z"
   },
   {
    "duration": 11,
    "start_time": "2022-11-20T07:53:48.268Z"
   },
   {
    "duration": 7,
    "start_time": "2022-11-20T07:53:49.027Z"
   },
   {
    "duration": 10,
    "start_time": "2022-11-20T07:53:51.722Z"
   },
   {
    "duration": 15,
    "start_time": "2022-11-20T07:53:52.236Z"
   },
   {
    "duration": 4,
    "start_time": "2022-11-20T07:53:56.092Z"
   },
   {
    "duration": 3,
    "start_time": "2022-11-20T07:54:21.780Z"
   },
   {
    "duration": 5,
    "start_time": "2022-11-20T07:54:27.206Z"
   },
   {
    "duration": 3,
    "start_time": "2022-11-20T07:54:30.312Z"
   },
   {
    "duration": 8,
    "start_time": "2022-11-20T07:54:41.462Z"
   },
   {
    "duration": 8,
    "start_time": "2022-11-20T07:54:42.158Z"
   },
   {
    "duration": 13,
    "start_time": "2022-11-20T07:54:44.718Z"
   },
   {
    "duration": 22,
    "start_time": "2022-11-20T07:55:07.497Z"
   },
   {
    "duration": 5,
    "start_time": "2022-11-20T07:55:39.229Z"
   },
   {
    "duration": 7,
    "start_time": "2022-11-20T07:56:02.276Z"
   },
   {
    "duration": 7,
    "start_time": "2022-11-20T07:56:36.951Z"
   },
   {
    "duration": 3,
    "start_time": "2022-11-20T07:56:54.762Z"
   },
   {
    "duration": 17,
    "start_time": "2022-11-20T07:57:05.960Z"
   },
   {
    "duration": 19,
    "start_time": "2022-11-20T07:57:10.722Z"
   },
   {
    "duration": 22,
    "start_time": "2022-11-20T07:57:49.146Z"
   },
   {
    "duration": 10,
    "start_time": "2022-11-20T07:57:57.296Z"
   },
   {
    "duration": 18,
    "start_time": "2022-11-20T07:58:05.613Z"
   },
   {
    "duration": 13,
    "start_time": "2022-11-20T07:58:31.178Z"
   },
   {
    "duration": 22,
    "start_time": "2022-11-20T07:58:39.390Z"
   },
   {
    "duration": 7,
    "start_time": "2022-11-20T07:59:09.374Z"
   },
   {
    "duration": 10,
    "start_time": "2022-11-20T07:59:20.923Z"
   },
   {
    "duration": 7,
    "start_time": "2022-11-20T07:59:34.354Z"
   },
   {
    "duration": 20,
    "start_time": "2022-11-20T07:59:46.666Z"
   },
   {
    "duration": 4,
    "start_time": "2022-11-20T07:59:55.606Z"
   },
   {
    "duration": 3,
    "start_time": "2022-11-20T08:00:11.489Z"
   },
   {
    "duration": 4,
    "start_time": "2022-11-20T08:00:14.619Z"
   },
   {
    "duration": 3,
    "start_time": "2022-11-20T08:00:34.642Z"
   },
   {
    "duration": 12,
    "start_time": "2022-11-20T08:00:47.032Z"
   },
   {
    "duration": 8,
    "start_time": "2022-11-20T08:01:16.004Z"
   },
   {
    "duration": 8,
    "start_time": "2022-11-20T08:01:29.385Z"
   },
   {
    "duration": 5,
    "start_time": "2022-11-20T08:01:37.938Z"
   },
   {
    "duration": 8,
    "start_time": "2022-11-20T08:01:50.934Z"
   },
   {
    "duration": 11,
    "start_time": "2022-11-20T08:01:51.109Z"
   },
   {
    "duration": 7,
    "start_time": "2022-11-20T08:01:51.541Z"
   },
   {
    "duration": 3,
    "start_time": "2022-11-20T08:01:51.837Z"
   },
   {
    "duration": 3,
    "start_time": "2022-11-20T08:01:52.262Z"
   },
   {
    "duration": 12,
    "start_time": "2022-11-20T08:01:52.491Z"
   },
   {
    "duration": 17,
    "start_time": "2022-11-20T08:01:52.970Z"
   },
   {
    "duration": 13,
    "start_time": "2022-11-20T08:01:53.954Z"
   },
   {
    "duration": 4,
    "start_time": "2022-11-20T08:01:54.193Z"
   },
   {
    "duration": 5,
    "start_time": "2022-11-20T08:03:47.838Z"
   },
   {
    "duration": 7,
    "start_time": "2022-11-20T08:03:52.847Z"
   },
   {
    "duration": 8,
    "start_time": "2022-11-20T08:03:52.973Z"
   },
   {
    "duration": 6,
    "start_time": "2022-11-20T08:03:53.319Z"
   },
   {
    "duration": 3,
    "start_time": "2022-11-20T08:03:53.467Z"
   },
   {
    "duration": 3,
    "start_time": "2022-11-20T08:03:53.615Z"
   },
   {
    "duration": 8,
    "start_time": "2022-11-20T08:03:53.763Z"
   },
   {
    "duration": 13,
    "start_time": "2022-11-20T08:03:54.044Z"
   },
   {
    "duration": 12,
    "start_time": "2022-11-20T08:03:54.246Z"
   },
   {
    "duration": 4,
    "start_time": "2022-11-20T08:03:54.406Z"
   },
   {
    "duration": 4,
    "start_time": "2022-11-20T08:15:07.241Z"
   },
   {
    "duration": 41,
    "start_time": "2022-11-20T08:15:07.297Z"
   },
   {
    "duration": 7,
    "start_time": "2022-11-20T08:15:07.340Z"
   },
   {
    "duration": 4,
    "start_time": "2022-11-20T08:15:07.385Z"
   },
   {
    "duration": 2,
    "start_time": "2022-11-20T08:15:07.419Z"
   },
   {
    "duration": 7,
    "start_time": "2022-11-20T08:15:07.447Z"
   },
   {
    "duration": 116,
    "start_time": "2022-11-20T08:15:07.476Z"
   },
   {
    "duration": 96,
    "start_time": "2022-11-20T08:15:07.594Z"
   },
   {
    "duration": 6,
    "start_time": "2022-11-20T08:15:07.692Z"
   },
   {
    "duration": 135,
    "start_time": "2022-11-20T08:15:07.700Z"
   },
   {
    "duration": 6,
    "start_time": "2022-11-20T08:15:07.836Z"
   },
   {
    "duration": 107,
    "start_time": "2022-11-20T08:15:07.844Z"
   },
   {
    "duration": 4,
    "start_time": "2022-11-20T08:15:07.953Z"
   },
   {
    "duration": 6,
    "start_time": "2022-11-20T08:15:07.959Z"
   },
   {
    "duration": 8,
    "start_time": "2022-11-20T08:15:07.966Z"
   },
   {
    "duration": 12,
    "start_time": "2022-11-20T08:15:07.975Z"
   },
   {
    "duration": 7,
    "start_time": "2022-11-20T08:15:08.076Z"
   },
   {
    "duration": 3,
    "start_time": "2022-11-20T08:15:08.103Z"
   },
   {
    "duration": 5,
    "start_time": "2022-11-20T08:15:08.126Z"
   },
   {
    "duration": 3,
    "start_time": "2022-11-20T08:15:08.157Z"
   },
   {
    "duration": 5,
    "start_time": "2022-11-20T08:15:08.193Z"
   },
   {
    "duration": 5,
    "start_time": "2022-11-20T08:15:08.212Z"
   },
   {
    "duration": 5,
    "start_time": "2022-11-20T08:15:08.249Z"
   },
   {
    "duration": 6,
    "start_time": "2022-11-20T08:15:08.306Z"
   },
   {
    "duration": 26453,
    "start_time": "2022-11-20T08:15:08.368Z"
   },
   {
    "duration": 4,
    "start_time": "2022-11-20T08:15:34.823Z"
   },
   {
    "duration": 5,
    "start_time": "2022-11-20T08:15:34.835Z"
   },
   {
    "duration": 16,
    "start_time": "2022-11-20T08:15:34.842Z"
   },
   {
    "duration": 18,
    "start_time": "2022-11-20T08:15:34.860Z"
   },
   {
    "duration": 19,
    "start_time": "2022-11-20T08:15:34.879Z"
   },
   {
    "duration": 26,
    "start_time": "2022-11-20T08:15:34.900Z"
   },
   {
    "duration": 273,
    "start_time": "2022-11-20T08:15:34.928Z"
   },
   {
    "duration": 7,
    "start_time": "2022-11-20T08:15:35.203Z"
   },
   {
    "duration": 13,
    "start_time": "2022-11-20T08:15:35.212Z"
   },
   {
    "duration": 17,
    "start_time": "2022-11-20T08:15:35.227Z"
   },
   {
    "duration": 16,
    "start_time": "2022-11-20T08:15:35.246Z"
   },
   {
    "duration": 21,
    "start_time": "2022-11-20T08:15:35.264Z"
   },
   {
    "duration": 21,
    "start_time": "2022-11-20T08:15:35.286Z"
   },
   {
    "duration": 37,
    "start_time": "2022-11-20T08:15:35.309Z"
   },
   {
    "duration": 90,
    "start_time": "2022-11-20T08:15:35.347Z"
   },
   {
    "duration": 103,
    "start_time": "2022-11-20T08:15:35.439Z"
   },
   {
    "duration": 26,
    "start_time": "2022-11-20T08:15:35.544Z"
   },
   {
    "duration": 21,
    "start_time": "2022-11-20T08:15:41.842Z"
   },
   {
    "duration": 4,
    "start_time": "2022-11-20T08:16:09.929Z"
   },
   {
    "duration": 6,
    "start_time": "2022-11-20T08:18:20.596Z"
   },
   {
    "duration": 4,
    "start_time": "2022-11-20T08:19:03.922Z"
   },
   {
    "duration": 6,
    "start_time": "2022-11-20T08:19:36.300Z"
   },
   {
    "duration": 5,
    "start_time": "2022-11-20T08:19:39.506Z"
   },
   {
    "duration": 6,
    "start_time": "2022-11-20T08:19:39.803Z"
   },
   {
    "duration": 6,
    "start_time": "2022-11-20T08:19:40.854Z"
   },
   {
    "duration": 4,
    "start_time": "2022-11-20T08:19:43.823Z"
   },
   {
    "duration": 4,
    "start_time": "2022-11-20T08:20:04.601Z"
   },
   {
    "duration": 7,
    "start_time": "2022-11-20T08:20:05.011Z"
   },
   {
    "duration": 11,
    "start_time": "2022-11-20T08:20:05.019Z"
   },
   {
    "duration": 4,
    "start_time": "2022-11-20T08:20:05.414Z"
   },
   {
    "duration": 11,
    "start_time": "2022-11-20T08:22:57.821Z"
   },
   {
    "duration": 9,
    "start_time": "2022-11-20T08:23:08.299Z"
   },
   {
    "duration": 5,
    "start_time": "2022-11-20T08:23:12.959Z"
   },
   {
    "duration": 5,
    "start_time": "2022-11-20T08:23:18.956Z"
   },
   {
    "duration": 4,
    "start_time": "2022-11-20T08:26:10.430Z"
   },
   {
    "duration": 5,
    "start_time": "2022-11-20T08:26:44.008Z"
   },
   {
    "duration": 3,
    "start_time": "2022-11-20T08:27:20.426Z"
   },
   {
    "duration": 19,
    "start_time": "2022-11-20T08:27:23.383Z"
   },
   {
    "duration": 19,
    "start_time": "2022-11-20T08:27:55.989Z"
   },
   {
    "duration": 5,
    "start_time": "2022-11-20T08:29:43.801Z"
   },
   {
    "duration": 11,
    "start_time": "2022-11-20T08:29:44.390Z"
   },
   {
    "duration": 5,
    "start_time": "2022-11-20T08:29:47.795Z"
   },
   {
    "duration": 5,
    "start_time": "2022-11-20T08:29:58.770Z"
   },
   {
    "duration": 10,
    "start_time": "2022-11-20T08:30:11.484Z"
   },
   {
    "duration": 6,
    "start_time": "2022-11-20T08:30:14.543Z"
   },
   {
    "duration": 5,
    "start_time": "2022-11-20T08:30:28.443Z"
   },
   {
    "duration": 11,
    "start_time": "2022-11-20T08:30:28.500Z"
   },
   {
    "duration": 6,
    "start_time": "2022-11-20T08:30:29.040Z"
   },
   {
    "duration": 5,
    "start_time": "2022-11-20T08:30:37.079Z"
   },
   {
    "duration": 13,
    "start_time": "2022-11-20T08:30:37.292Z"
   },
   {
    "duration": 6,
    "start_time": "2022-11-20T08:30:37.939Z"
   },
   {
    "duration": 16,
    "start_time": "2022-11-20T08:30:45.835Z"
   },
   {
    "duration": 6,
    "start_time": "2022-11-20T08:30:49.051Z"
   },
   {
    "duration": 6,
    "start_time": "2022-11-20T08:30:55.970Z"
   },
   {
    "duration": 5,
    "start_time": "2022-11-20T08:30:59.761Z"
   },
   {
    "duration": 20,
    "start_time": "2022-11-20T08:31:06.739Z"
   },
   {
    "duration": 5,
    "start_time": "2022-11-20T08:31:10.408Z"
   },
   {
    "duration": 1548,
    "start_time": "2022-11-23T03:32:57.158Z"
   },
   {
    "duration": 164,
    "start_time": "2022-11-23T03:32:58.708Z"
   },
   {
    "duration": 11,
    "start_time": "2022-11-23T03:32:58.874Z"
   },
   {
    "duration": 5,
    "start_time": "2022-11-23T03:32:58.887Z"
   },
   {
    "duration": 4,
    "start_time": "2022-11-23T03:32:58.894Z"
   },
   {
    "duration": 9,
    "start_time": "2022-11-23T03:32:58.900Z"
   },
   {
    "duration": 143,
    "start_time": "2022-11-23T03:32:58.911Z"
   },
   {
    "duration": 116,
    "start_time": "2022-11-23T03:32:59.057Z"
   },
   {
    "duration": 8,
    "start_time": "2022-11-23T03:32:59.175Z"
   },
   {
    "duration": 148,
    "start_time": "2022-11-23T03:32:59.186Z"
   },
   {
    "duration": 5,
    "start_time": "2022-11-23T03:32:59.336Z"
   },
   {
    "duration": 196,
    "start_time": "2022-11-23T03:32:59.343Z"
   },
   {
    "duration": 4,
    "start_time": "2022-11-23T03:32:59.541Z"
   },
   {
    "duration": 6,
    "start_time": "2022-11-23T03:32:59.547Z"
   },
   {
    "duration": 5,
    "start_time": "2022-11-23T03:32:59.554Z"
   },
   {
    "duration": 13,
    "start_time": "2022-11-23T03:32:59.560Z"
   },
   {
    "duration": 9,
    "start_time": "2022-11-23T03:32:59.575Z"
   },
   {
    "duration": 4,
    "start_time": "2022-11-23T03:32:59.586Z"
   },
   {
    "duration": 5,
    "start_time": "2022-11-23T03:32:59.623Z"
   },
   {
    "duration": 6,
    "start_time": "2022-11-23T03:32:59.630Z"
   },
   {
    "duration": 5,
    "start_time": "2022-11-23T03:32:59.638Z"
   },
   {
    "duration": 6,
    "start_time": "2022-11-23T03:32:59.645Z"
   },
   {
    "duration": 5,
    "start_time": "2022-11-23T03:32:59.653Z"
   },
   {
    "duration": 28091,
    "start_time": "2022-11-23T03:32:59.660Z"
   },
   {
    "duration": 4,
    "start_time": "2022-11-23T03:33:27.753Z"
   },
   {
    "duration": 9,
    "start_time": "2022-11-23T03:33:27.759Z"
   },
   {
    "duration": 8,
    "start_time": "2022-11-23T03:33:27.769Z"
   },
   {
    "duration": 8,
    "start_time": "2022-11-23T03:33:27.780Z"
   },
   {
    "duration": 7,
    "start_time": "2022-11-23T03:33:27.790Z"
   },
   {
    "duration": 24,
    "start_time": "2022-11-23T03:33:27.799Z"
   },
   {
    "duration": 250,
    "start_time": "2022-11-23T03:33:27.826Z"
   },
   {
    "duration": 4,
    "start_time": "2022-11-23T03:33:28.078Z"
   },
   {
    "duration": 13,
    "start_time": "2022-11-23T03:33:28.084Z"
   },
   {
    "duration": 9,
    "start_time": "2022-11-23T03:33:28.099Z"
   },
   {
    "duration": 13,
    "start_time": "2022-11-23T03:33:28.109Z"
   },
   {
    "duration": 4,
    "start_time": "2022-11-23T03:33:28.124Z"
   },
   {
    "duration": 4,
    "start_time": "2022-11-23T03:33:28.130Z"
   },
   {
    "duration": 30,
    "start_time": "2022-11-23T03:33:28.136Z"
   },
   {
    "duration": 7,
    "start_time": "2022-11-23T03:33:28.167Z"
   },
   {
    "duration": 103,
    "start_time": "2022-11-23T03:33:28.222Z"
   },
   {
    "duration": 5,
    "start_time": "2022-11-23T03:33:28.326Z"
   },
   {
    "duration": 8,
    "start_time": "2022-11-23T03:33:28.332Z"
   },
   {
    "duration": 5,
    "start_time": "2022-11-23T03:33:28.342Z"
   },
   {
    "duration": 5,
    "start_time": "2022-11-23T03:33:28.348Z"
   },
   {
    "duration": 8,
    "start_time": "2022-11-23T03:33:28.355Z"
   },
   {
    "duration": 22,
    "start_time": "2022-11-23T03:33:28.364Z"
   },
   {
    "duration": 35,
    "start_time": "2022-11-23T03:33:28.388Z"
   },
   {
    "duration": 13,
    "start_time": "2022-11-23T03:33:28.425Z"
   },
   {
    "duration": 15,
    "start_time": "2022-11-23T03:33:28.440Z"
   },
   {
    "duration": 11,
    "start_time": "2022-11-23T03:34:01.096Z"
   },
   {
    "duration": 16,
    "start_time": "2022-11-23T03:34:01.621Z"
   },
   {
    "duration": 4,
    "start_time": "2022-11-23T03:34:20.112Z"
   },
   {
    "duration": 3,
    "start_time": "2022-11-23T03:34:29.028Z"
   },
   {
    "duration": 4,
    "start_time": "2022-11-23T03:34:34.547Z"
   },
   {
    "duration": 4,
    "start_time": "2022-11-23T03:34:38.046Z"
   },
   {
    "duration": 5,
    "start_time": "2022-11-23T03:39:21.534Z"
   },
   {
    "duration": 2,
    "start_time": "2022-11-23T03:39:34.745Z"
   },
   {
    "duration": 95,
    "start_time": "2022-11-23T03:41:33.462Z"
   },
   {
    "duration": 11,
    "start_time": "2022-11-23T03:42:02.153Z"
   },
   {
    "duration": 4,
    "start_time": "2022-11-23T03:42:40.701Z"
   },
   {
    "duration": 4,
    "start_time": "2022-11-23T03:42:44.272Z"
   },
   {
    "duration": 5,
    "start_time": "2022-11-23T03:43:01.194Z"
   },
   {
    "duration": 4,
    "start_time": "2022-11-23T03:43:05.595Z"
   },
   {
    "duration": 78,
    "start_time": "2022-11-23T03:43:35.737Z"
   },
   {
    "duration": 113,
    "start_time": "2022-11-23T03:44:41.799Z"
   },
   {
    "duration": 9,
    "start_time": "2022-11-23T03:44:52.877Z"
   },
   {
    "duration": 6,
    "start_time": "2022-11-23T03:45:00.437Z"
   },
   {
    "duration": 5,
    "start_time": "2022-11-23T03:45:05.021Z"
   },
   {
    "duration": 1493,
    "start_time": "2022-11-23T15:55:27.982Z"
   },
   {
    "duration": 92,
    "start_time": "2022-11-23T15:55:29.477Z"
   },
   {
    "duration": 12,
    "start_time": "2022-11-23T15:55:29.570Z"
   },
   {
    "duration": 5,
    "start_time": "2022-11-23T15:55:29.584Z"
   },
   {
    "duration": 7,
    "start_time": "2022-11-23T15:55:29.590Z"
   },
   {
    "duration": 14,
    "start_time": "2022-11-23T15:55:29.599Z"
   },
   {
    "duration": 141,
    "start_time": "2022-11-23T15:55:29.614Z"
   },
   {
    "duration": 110,
    "start_time": "2022-11-23T15:55:29.756Z"
   },
   {
    "duration": 6,
    "start_time": "2022-11-23T15:55:29.867Z"
   },
   {
    "duration": 140,
    "start_time": "2022-11-23T15:55:29.875Z"
   },
   {
    "duration": 5,
    "start_time": "2022-11-23T15:55:30.017Z"
   },
   {
    "duration": 199,
    "start_time": "2022-11-23T15:55:30.024Z"
   },
   {
    "duration": 4,
    "start_time": "2022-11-23T15:55:30.225Z"
   },
   {
    "duration": 26,
    "start_time": "2022-11-23T15:55:30.230Z"
   },
   {
    "duration": 19,
    "start_time": "2022-11-23T15:55:30.258Z"
   },
   {
    "duration": 28,
    "start_time": "2022-11-23T15:55:30.279Z"
   },
   {
    "duration": 14,
    "start_time": "2022-11-23T15:55:30.309Z"
   },
   {
    "duration": 12,
    "start_time": "2022-11-23T15:55:30.325Z"
   },
   {
    "duration": 32,
    "start_time": "2022-11-23T15:55:30.338Z"
   },
   {
    "duration": 24,
    "start_time": "2022-11-23T15:55:30.372Z"
   },
   {
    "duration": 24,
    "start_time": "2022-11-23T15:55:30.397Z"
   },
   {
    "duration": 9,
    "start_time": "2022-11-23T15:55:30.422Z"
   },
   {
    "duration": 11,
    "start_time": "2022-11-23T15:55:30.433Z"
   },
   {
    "duration": 26307,
    "start_time": "2022-11-23T15:55:30.445Z"
   },
   {
    "duration": 5,
    "start_time": "2022-11-23T15:55:56.754Z"
   },
   {
    "duration": 5,
    "start_time": "2022-11-23T15:55:56.760Z"
   },
   {
    "duration": 12,
    "start_time": "2022-11-23T15:55:56.766Z"
   },
   {
    "duration": 17,
    "start_time": "2022-11-23T15:55:56.781Z"
   },
   {
    "duration": 6,
    "start_time": "2022-11-23T15:55:56.799Z"
   },
   {
    "duration": 9,
    "start_time": "2022-11-23T15:55:56.806Z"
   },
   {
    "duration": 239,
    "start_time": "2022-11-23T15:55:56.816Z"
   },
   {
    "duration": 4,
    "start_time": "2022-11-23T15:55:57.057Z"
   },
   {
    "duration": 8,
    "start_time": "2022-11-23T15:55:57.063Z"
   },
   {
    "duration": 7,
    "start_time": "2022-11-23T15:55:57.072Z"
   },
   {
    "duration": 17,
    "start_time": "2022-11-23T15:55:57.080Z"
   },
   {
    "duration": 6,
    "start_time": "2022-11-23T15:55:57.099Z"
   },
   {
    "duration": 5,
    "start_time": "2022-11-23T15:55:57.107Z"
   },
   {
    "duration": 27,
    "start_time": "2022-11-23T15:55:57.114Z"
   },
   {
    "duration": 9,
    "start_time": "2022-11-23T15:55:57.144Z"
   },
   {
    "duration": 107,
    "start_time": "2022-11-23T15:55:57.198Z"
   },
   {
    "duration": 8,
    "start_time": "2022-11-23T15:55:57.307Z"
   },
   {
    "duration": 9,
    "start_time": "2022-11-23T15:55:57.317Z"
   },
   {
    "duration": 5,
    "start_time": "2022-11-23T15:55:57.328Z"
   },
   {
    "duration": 5,
    "start_time": "2022-11-23T15:55:57.334Z"
   },
   {
    "duration": 7,
    "start_time": "2022-11-23T15:55:57.341Z"
   },
   {
    "duration": 27,
    "start_time": "2022-11-23T15:55:57.349Z"
   },
   {
    "duration": 21,
    "start_time": "2022-11-23T15:55:57.377Z"
   },
   {
    "duration": 16,
    "start_time": "2022-11-23T15:55:57.400Z"
   },
   {
    "duration": 112,
    "start_time": "2022-11-23T15:55:57.418Z"
   },
   {
    "duration": 0,
    "start_time": "2022-11-23T15:55:57.531Z"
   },
   {
    "duration": 0,
    "start_time": "2022-11-23T15:55:57.532Z"
   },
   {
    "duration": 0,
    "start_time": "2022-11-23T15:55:57.534Z"
   },
   {
    "duration": 0,
    "start_time": "2022-11-23T15:55:57.535Z"
   },
   {
    "duration": 0,
    "start_time": "2022-11-23T15:55:57.536Z"
   },
   {
    "duration": 0,
    "start_time": "2022-11-23T15:55:57.537Z"
   },
   {
    "duration": 0,
    "start_time": "2022-11-23T15:55:57.538Z"
   },
   {
    "duration": 0,
    "start_time": "2022-11-23T15:55:57.539Z"
   },
   {
    "duration": 10,
    "start_time": "2022-11-23T15:56:15.412Z"
   },
   {
    "duration": 9,
    "start_time": "2022-11-23T15:56:15.812Z"
   },
   {
    "duration": 4,
    "start_time": "2022-11-23T15:56:38.785Z"
   },
   {
    "duration": 106,
    "start_time": "2022-11-23T15:56:39.020Z"
   },
   {
    "duration": 10,
    "start_time": "2022-11-23T15:56:39.240Z"
   },
   {
    "duration": 3,
    "start_time": "2022-11-23T15:56:39.480Z"
   },
   {
    "duration": 4,
    "start_time": "2022-11-23T15:56:39.719Z"
   },
   {
    "duration": 4,
    "start_time": "2022-11-23T15:56:39.959Z"
   },
   {
    "duration": 3,
    "start_time": "2022-11-23T15:56:40.532Z"
   },
   {
    "duration": 4,
    "start_time": "2022-11-23T16:05:57.532Z"
   },
   {
    "duration": 4,
    "start_time": "2022-11-23T16:06:06.212Z"
   },
   {
    "duration": 5,
    "start_time": "2022-11-23T16:10:33.582Z"
   },
   {
    "duration": 8,
    "start_time": "2022-11-23T16:11:55.433Z"
   },
   {
    "duration": 18,
    "start_time": "2022-11-23T16:12:06.053Z"
   },
   {
    "duration": 4,
    "start_time": "2022-11-23T16:12:24.472Z"
   },
   {
    "duration": 10,
    "start_time": "2022-11-23T16:12:25.412Z"
   },
   {
    "duration": 17,
    "start_time": "2022-11-23T16:12:31.133Z"
   },
   {
    "duration": 3,
    "start_time": "2022-11-23T16:12:36.288Z"
   },
   {
    "duration": 3,
    "start_time": "2022-11-23T16:12:42.143Z"
   },
   {
    "duration": 5,
    "start_time": "2022-11-23T16:12:46.883Z"
   },
   {
    "duration": 4,
    "start_time": "2022-11-23T16:12:52.101Z"
   },
   {
    "duration": 44,
    "start_time": "2022-11-23T16:14:18.133Z"
   },
   {
    "duration": 4,
    "start_time": "2022-11-23T16:14:24.932Z"
   },
   {
    "duration": 4,
    "start_time": "2022-11-23T16:14:30.086Z"
   },
   {
    "duration": 3,
    "start_time": "2022-11-23T16:37:26.137Z"
   },
   {
    "duration": 4,
    "start_time": "2022-11-23T16:37:46.882Z"
   },
   {
    "duration": 4,
    "start_time": "2022-11-23T16:38:13.194Z"
   },
   {
    "duration": 3,
    "start_time": "2022-11-23T16:38:40.963Z"
   },
   {
    "duration": 5,
    "start_time": "2022-11-23T16:38:44.564Z"
   },
   {
    "duration": 4,
    "start_time": "2022-11-23T16:38:47.802Z"
   },
   {
    "duration": 3,
    "start_time": "2022-11-23T16:38:50.475Z"
   },
   {
    "duration": 4,
    "start_time": "2022-11-23T16:38:52.907Z"
   },
   {
    "duration": 3,
    "start_time": "2022-11-23T16:46:50.924Z"
   },
   {
    "duration": 3,
    "start_time": "2022-11-23T16:47:56.754Z"
   },
   {
    "duration": 5,
    "start_time": "2022-11-23T16:48:04.634Z"
   },
   {
    "duration": 4,
    "start_time": "2022-11-23T16:48:11.074Z"
   },
   {
    "duration": 3,
    "start_time": "2022-11-23T16:48:45.293Z"
   },
   {
    "duration": 4,
    "start_time": "2022-11-23T16:48:51.554Z"
   },
   {
    "duration": 4,
    "start_time": "2022-11-23T16:51:33.914Z"
   },
   {
    "duration": 3,
    "start_time": "2022-11-23T16:52:25.872Z"
   },
   {
    "duration": 3,
    "start_time": "2022-11-23T16:52:38.364Z"
   },
   {
    "duration": 3,
    "start_time": "2022-11-23T16:52:47.834Z"
   },
   {
    "duration": 3,
    "start_time": "2022-11-23T16:53:36.394Z"
   },
   {
    "duration": 4,
    "start_time": "2022-11-23T16:54:16.954Z"
   },
   {
    "duration": 4,
    "start_time": "2022-11-23T16:54:21.065Z"
   },
   {
    "duration": 4,
    "start_time": "2022-11-23T16:57:13.083Z"
   },
   {
    "duration": 5,
    "start_time": "2022-11-23T17:04:47.922Z"
   },
   {
    "duration": 1593,
    "start_time": "2022-11-24T13:45:53.525Z"
   },
   {
    "duration": 93,
    "start_time": "2022-11-24T13:45:55.120Z"
   },
   {
    "duration": 10,
    "start_time": "2022-11-24T13:45:55.215Z"
   },
   {
    "duration": 17,
    "start_time": "2022-11-24T13:45:55.227Z"
   },
   {
    "duration": 6,
    "start_time": "2022-11-24T13:45:55.245Z"
   },
   {
    "duration": 12,
    "start_time": "2022-11-24T13:45:55.253Z"
   },
   {
    "duration": 135,
    "start_time": "2022-11-24T13:45:55.267Z"
   },
   {
    "duration": 108,
    "start_time": "2022-11-24T13:45:55.404Z"
   },
   {
    "duration": 6,
    "start_time": "2022-11-24T13:45:55.514Z"
   },
   {
    "duration": 193,
    "start_time": "2022-11-24T13:45:55.537Z"
   },
   {
    "duration": 6,
    "start_time": "2022-11-24T13:45:55.734Z"
   },
   {
    "duration": 108,
    "start_time": "2022-11-24T13:45:55.741Z"
   },
   {
    "duration": 5,
    "start_time": "2022-11-24T13:45:55.850Z"
   },
   {
    "duration": 21,
    "start_time": "2022-11-24T13:45:55.856Z"
   },
   {
    "duration": 7,
    "start_time": "2022-11-24T13:45:55.878Z"
   },
   {
    "duration": 24,
    "start_time": "2022-11-24T13:45:55.887Z"
   },
   {
    "duration": 8,
    "start_time": "2022-11-24T13:45:55.912Z"
   },
   {
    "duration": 8,
    "start_time": "2022-11-24T13:45:55.922Z"
   },
   {
    "duration": 8,
    "start_time": "2022-11-24T13:45:55.932Z"
   },
   {
    "duration": 14,
    "start_time": "2022-11-24T13:45:55.941Z"
   },
   {
    "duration": 10,
    "start_time": "2022-11-24T13:45:55.956Z"
   },
   {
    "duration": 23,
    "start_time": "2022-11-24T13:45:55.967Z"
   },
   {
    "duration": 18,
    "start_time": "2022-11-24T13:45:55.991Z"
   },
   {
    "duration": 27930,
    "start_time": "2022-11-24T13:45:56.011Z"
   },
   {
    "duration": 5,
    "start_time": "2022-11-24T13:46:23.943Z"
   },
   {
    "duration": 22,
    "start_time": "2022-11-24T13:46:23.949Z"
   },
   {
    "duration": 21,
    "start_time": "2022-11-24T13:46:23.973Z"
   },
   {
    "duration": 10,
    "start_time": "2022-11-24T13:46:23.997Z"
   },
   {
    "duration": 12,
    "start_time": "2022-11-24T13:46:24.009Z"
   },
   {
    "duration": 8,
    "start_time": "2022-11-24T13:46:24.023Z"
   },
   {
    "duration": 253,
    "start_time": "2022-11-24T13:46:24.033Z"
   },
   {
    "duration": 5,
    "start_time": "2022-11-24T13:46:24.288Z"
   },
   {
    "duration": 15,
    "start_time": "2022-11-24T13:46:24.295Z"
   },
   {
    "duration": 13,
    "start_time": "2022-11-24T13:46:24.311Z"
   },
   {
    "duration": 10,
    "start_time": "2022-11-24T13:46:24.325Z"
   },
   {
    "duration": 11,
    "start_time": "2022-11-24T13:46:24.337Z"
   },
   {
    "duration": 23,
    "start_time": "2022-11-24T13:46:24.350Z"
   },
   {
    "duration": 58,
    "start_time": "2022-11-24T13:46:24.375Z"
   },
   {
    "duration": 10,
    "start_time": "2022-11-24T13:46:24.434Z"
   },
   {
    "duration": 185,
    "start_time": "2022-11-24T13:46:24.453Z"
   },
   {
    "duration": 13,
    "start_time": "2022-11-24T13:46:24.640Z"
   },
   {
    "duration": 22,
    "start_time": "2022-11-24T13:46:24.655Z"
   },
   {
    "duration": 20,
    "start_time": "2022-11-24T13:46:24.678Z"
   },
   {
    "duration": 38,
    "start_time": "2022-11-24T13:46:24.700Z"
   },
   {
    "duration": 28,
    "start_time": "2022-11-24T13:46:24.739Z"
   },
   {
    "duration": 30,
    "start_time": "2022-11-24T13:46:24.769Z"
   },
   {
    "duration": 13,
    "start_time": "2022-11-24T13:46:24.800Z"
   },
   {
    "duration": 20,
    "start_time": "2022-11-24T13:46:24.814Z"
   },
   {
    "duration": 118,
    "start_time": "2022-11-24T13:46:24.836Z"
   },
   {
    "duration": 4,
    "start_time": "2022-11-24T13:46:24.956Z"
   },
   {
    "duration": 29,
    "start_time": "2022-11-24T13:46:24.961Z"
   },
   {
    "duration": 13,
    "start_time": "2022-11-24T13:46:24.992Z"
   },
   {
    "duration": 30,
    "start_time": "2022-11-24T13:46:25.006Z"
   },
   {
    "duration": 21,
    "start_time": "2022-11-24T13:46:25.038Z"
   },
   {
    "duration": 18,
    "start_time": "2022-11-24T13:46:25.061Z"
   },
   {
    "duration": 23,
    "start_time": "2022-11-24T13:46:25.080Z"
   },
   {
    "duration": 72,
    "start_time": "2022-11-24T13:46:25.105Z"
   },
   {
    "duration": 4,
    "start_time": "2022-11-24T13:46:25.179Z"
   },
   {
    "duration": 17,
    "start_time": "2022-11-24T13:46:25.185Z"
   },
   {
    "duration": 1481,
    "start_time": "2022-11-26T05:26:21.578Z"
   },
   {
    "duration": 76,
    "start_time": "2022-11-26T05:26:23.061Z"
   },
   {
    "duration": 10,
    "start_time": "2022-11-26T05:26:23.139Z"
   },
   {
    "duration": 6,
    "start_time": "2022-11-26T05:26:23.150Z"
   },
   {
    "duration": 6,
    "start_time": "2022-11-26T05:26:23.157Z"
   },
   {
    "duration": 9,
    "start_time": "2022-11-26T05:26:23.164Z"
   },
   {
    "duration": 133,
    "start_time": "2022-11-26T05:26:23.175Z"
   },
   {
    "duration": 104,
    "start_time": "2022-11-26T05:26:23.309Z"
   },
   {
    "duration": 6,
    "start_time": "2022-11-26T05:26:23.420Z"
   },
   {
    "duration": 129,
    "start_time": "2022-11-26T05:26:23.428Z"
   },
   {
    "duration": 5,
    "start_time": "2022-11-26T05:26:23.559Z"
   },
   {
    "duration": 178,
    "start_time": "2022-11-26T05:26:23.565Z"
   },
   {
    "duration": 4,
    "start_time": "2022-11-26T05:26:23.745Z"
   },
   {
    "duration": 6,
    "start_time": "2022-11-26T05:26:23.750Z"
   },
   {
    "duration": 5,
    "start_time": "2022-11-26T05:26:23.758Z"
   },
   {
    "duration": 13,
    "start_time": "2022-11-26T05:26:23.764Z"
   },
   {
    "duration": 6,
    "start_time": "2022-11-26T05:26:23.778Z"
   },
   {
    "duration": 6,
    "start_time": "2022-11-26T05:26:23.785Z"
   },
   {
    "duration": 29,
    "start_time": "2022-11-26T05:26:23.792Z"
   },
   {
    "duration": 5,
    "start_time": "2022-11-26T05:26:23.822Z"
   },
   {
    "duration": 7,
    "start_time": "2022-11-26T05:26:23.828Z"
   },
   {
    "duration": 6,
    "start_time": "2022-11-26T05:26:23.837Z"
   },
   {
    "duration": 5,
    "start_time": "2022-11-26T05:26:23.845Z"
   },
   {
    "duration": 27403,
    "start_time": "2022-11-26T05:26:23.851Z"
   },
   {
    "duration": 5,
    "start_time": "2022-11-26T05:26:51.256Z"
   },
   {
    "duration": 8,
    "start_time": "2022-11-26T05:26:51.263Z"
   },
   {
    "duration": 10,
    "start_time": "2022-11-26T05:26:51.272Z"
   },
   {
    "duration": 3,
    "start_time": "2022-11-26T05:26:51.286Z"
   },
   {
    "duration": 4,
    "start_time": "2022-11-26T05:26:51.291Z"
   },
   {
    "duration": 26,
    "start_time": "2022-11-26T05:26:51.296Z"
   },
   {
    "duration": 264,
    "start_time": "2022-11-26T05:26:51.323Z"
   },
   {
    "duration": 5,
    "start_time": "2022-11-26T05:26:51.589Z"
   },
   {
    "duration": 7,
    "start_time": "2022-11-26T05:26:51.595Z"
   },
   {
    "duration": 5,
    "start_time": "2022-11-26T05:26:51.603Z"
   },
   {
    "duration": 6,
    "start_time": "2022-11-26T05:26:51.626Z"
   },
   {
    "duration": 9,
    "start_time": "2022-11-26T05:26:51.634Z"
   },
   {
    "duration": 5,
    "start_time": "2022-11-26T05:26:51.645Z"
   },
   {
    "duration": 26,
    "start_time": "2022-11-26T05:26:51.652Z"
   },
   {
    "duration": 45,
    "start_time": "2022-11-26T05:26:51.679Z"
   },
   {
    "duration": 97,
    "start_time": "2022-11-26T05:26:51.726Z"
   },
   {
    "duration": 14,
    "start_time": "2022-11-26T05:26:51.825Z"
   },
   {
    "duration": 10,
    "start_time": "2022-11-26T05:26:51.841Z"
   },
   {
    "duration": 4,
    "start_time": "2022-11-26T05:26:51.853Z"
   },
   {
    "duration": 6,
    "start_time": "2022-11-26T05:26:51.859Z"
   },
   {
    "duration": 7,
    "start_time": "2022-11-26T05:26:51.866Z"
   },
   {
    "duration": 54,
    "start_time": "2022-11-26T05:26:51.874Z"
   },
   {
    "duration": 4,
    "start_time": "2022-11-26T05:26:51.930Z"
   },
   {
    "duration": 15,
    "start_time": "2022-11-26T05:26:51.936Z"
   },
   {
    "duration": 115,
    "start_time": "2022-11-26T05:26:51.952Z"
   },
   {
    "duration": 4,
    "start_time": "2022-11-26T05:26:52.068Z"
   },
   {
    "duration": 6,
    "start_time": "2022-11-26T05:26:52.073Z"
   },
   {
    "duration": 5,
    "start_time": "2022-11-26T05:26:52.080Z"
   },
   {
    "duration": 10,
    "start_time": "2022-11-26T05:26:52.087Z"
   },
   {
    "duration": 4,
    "start_time": "2022-11-26T05:26:52.098Z"
   },
   {
    "duration": 4,
    "start_time": "2022-11-26T05:26:52.122Z"
   },
   {
    "duration": 19,
    "start_time": "2022-11-26T05:26:52.128Z"
   },
   {
    "duration": 51,
    "start_time": "2022-11-26T05:26:52.149Z"
   },
   {
    "duration": 4,
    "start_time": "2022-11-26T05:26:52.201Z"
   },
   {
    "duration": 29,
    "start_time": "2022-11-26T05:26:52.206Z"
   },
   {
    "duration": 118,
    "start_time": "2022-11-26T05:28:31.148Z"
   },
   {
    "duration": 6,
    "start_time": "2022-11-26T05:30:26.343Z"
   },
   {
    "duration": 15,
    "start_time": "2022-11-26T05:30:32.526Z"
   },
   {
    "duration": 80,
    "start_time": "2022-11-26T05:33:50.298Z"
   },
   {
    "duration": 4,
    "start_time": "2022-11-26T05:33:57.435Z"
   },
   {
    "duration": 79,
    "start_time": "2022-11-26T05:34:06.361Z"
   },
   {
    "duration": 3,
    "start_time": "2022-11-26T05:34:06.643Z"
   },
   {
    "duration": 5,
    "start_time": "2022-11-26T05:35:07.562Z"
   },
   {
    "duration": 46,
    "start_time": "2022-11-26T05:36:25.097Z"
   },
   {
    "duration": 4,
    "start_time": "2022-11-26T05:36:25.541Z"
   },
   {
    "duration": 4,
    "start_time": "2022-11-26T05:36:25.893Z"
   },
   {
    "duration": 49,
    "start_time": "2022-11-26T05:36:44.336Z"
   },
   {
    "duration": 3,
    "start_time": "2022-11-26T05:36:44.548Z"
   },
   {
    "duration": 4,
    "start_time": "2022-11-26T05:36:44.757Z"
   },
   {
    "duration": 3,
    "start_time": "2022-11-26T05:37:34.168Z"
   },
   {
    "duration": 19,
    "start_time": "2022-11-26T05:37:44.341Z"
   },
   {
    "duration": 15,
    "start_time": "2022-11-26T05:40:31.195Z"
   },
   {
    "duration": 4,
    "start_time": "2022-11-26T05:40:39.556Z"
   },
   {
    "duration": 81,
    "start_time": "2022-11-26T05:41:02.706Z"
   },
   {
    "duration": 4,
    "start_time": "2022-11-26T05:41:03.092Z"
   },
   {
    "duration": 4,
    "start_time": "2022-11-26T05:41:04.633Z"
   },
   {
    "duration": 3,
    "start_time": "2022-11-26T05:41:05.055Z"
   },
   {
    "duration": 15,
    "start_time": "2022-11-26T05:42:14.184Z"
   },
   {
    "duration": 76,
    "start_time": "2022-11-26T05:42:41.923Z"
   },
   {
    "duration": 4,
    "start_time": "2022-11-26T05:42:42.265Z"
   },
   {
    "duration": 4,
    "start_time": "2022-11-26T05:42:42.623Z"
   },
   {
    "duration": 118,
    "start_time": "2022-11-26T05:45:44.217Z"
   },
   {
    "duration": 4,
    "start_time": "2022-11-26T05:45:44.570Z"
   },
   {
    "duration": 4,
    "start_time": "2022-11-26T05:45:45.416Z"
   },
   {
    "duration": 180,
    "start_time": "2022-11-26T05:46:03.183Z"
   },
   {
    "duration": 3,
    "start_time": "2022-11-26T05:46:03.504Z"
   },
   {
    "duration": 4,
    "start_time": "2022-11-26T05:46:04.309Z"
   },
   {
    "duration": 182,
    "start_time": "2022-11-26T05:46:11.889Z"
   },
   {
    "duration": 3,
    "start_time": "2022-11-26T05:46:12.194Z"
   },
   {
    "duration": 4,
    "start_time": "2022-11-26T05:46:12.978Z"
   },
   {
    "duration": 106,
    "start_time": "2022-11-26T05:46:23.552Z"
   },
   {
    "duration": 3,
    "start_time": "2022-11-26T05:46:23.813Z"
   },
   {
    "duration": 3,
    "start_time": "2022-11-26T05:46:24.183Z"
   },
   {
    "duration": 16,
    "start_time": "2022-11-26T06:00:39.446Z"
   },
   {
    "duration": 5,
    "start_time": "2022-11-26T06:01:09.234Z"
   },
   {
    "duration": 4,
    "start_time": "2022-11-26T06:01:17.184Z"
   },
   {
    "duration": 5,
    "start_time": "2022-11-26T06:08:24.838Z"
   },
   {
    "duration": 8,
    "start_time": "2022-11-26T06:08:52.427Z"
   },
   {
    "duration": 4,
    "start_time": "2022-11-26T06:08:55.052Z"
   },
   {
    "duration": 6,
    "start_time": "2022-11-26T06:08:55.661Z"
   },
   {
    "duration": 96,
    "start_time": "2022-11-26T06:09:17.047Z"
   },
   {
    "duration": 4,
    "start_time": "2022-11-26T06:09:18.185Z"
   },
   {
    "duration": 4,
    "start_time": "2022-11-26T06:09:18.841Z"
   },
   {
    "duration": 3,
    "start_time": "2022-11-26T06:10:38.723Z"
   },
   {
    "duration": 4,
    "start_time": "2022-11-26T06:10:51.447Z"
   },
   {
    "duration": 98,
    "start_time": "2022-11-26T06:10:51.666Z"
   },
   {
    "duration": 4,
    "start_time": "2022-11-26T06:10:51.973Z"
   },
   {
    "duration": 102,
    "start_time": "2022-11-26T06:11:09.554Z"
   },
   {
    "duration": 6,
    "start_time": "2022-11-26T06:11:10.213Z"
   },
   {
    "duration": 4,
    "start_time": "2022-11-26T06:12:44.418Z"
   },
   {
    "duration": 6,
    "start_time": "2022-11-26T06:14:58.664Z"
   },
   {
    "duration": 4,
    "start_time": "2022-11-26T06:14:58.864Z"
   },
   {
    "duration": 6,
    "start_time": "2022-11-26T06:14:59.041Z"
   },
   {
    "duration": 111,
    "start_time": "2022-11-26T06:14:59.247Z"
   },
   {
    "duration": 5,
    "start_time": "2022-11-26T06:14:59.472Z"
   },
   {
    "duration": 5,
    "start_time": "2022-11-26T06:15:02.145Z"
   },
   {
    "duration": 4,
    "start_time": "2022-11-26T06:15:09.499Z"
   },
   {
    "duration": 180,
    "start_time": "2022-11-26T06:15:22.751Z"
   },
   {
    "duration": 5,
    "start_time": "2022-11-26T06:15:23.072Z"
   },
   {
    "duration": 8,
    "start_time": "2022-11-26T06:16:12.780Z"
   },
   {
    "duration": 4,
    "start_time": "2022-11-26T06:16:14.536Z"
   },
   {
    "duration": 4,
    "start_time": "2022-11-26T06:16:15.398Z"
   },
   {
    "duration": 105,
    "start_time": "2022-11-26T06:16:16.716Z"
   },
   {
    "duration": 4,
    "start_time": "2022-11-26T06:16:16.999Z"
   },
   {
    "duration": 107,
    "start_time": "2022-11-26T06:16:37.564Z"
   },
   {
    "duration": 3,
    "start_time": "2022-11-26T06:16:37.767Z"
   },
   {
    "duration": 103,
    "start_time": "2022-11-26T06:16:49.693Z"
   },
   {
    "duration": 3,
    "start_time": "2022-11-26T06:16:50.183Z"
   },
   {
    "duration": 8,
    "start_time": "2022-11-26T06:17:47.343Z"
   },
   {
    "duration": 4,
    "start_time": "2022-11-26T06:17:47.893Z"
   },
   {
    "duration": 4,
    "start_time": "2022-11-26T06:17:48.309Z"
   },
   {
    "duration": 100,
    "start_time": "2022-11-26T06:17:48.591Z"
   },
   {
    "duration": 4,
    "start_time": "2022-11-26T06:17:49.122Z"
   },
   {
    "duration": 3,
    "start_time": "2022-11-26T06:17:49.517Z"
   },
   {
    "duration": 107,
    "start_time": "2022-11-26T06:18:03.965Z"
   },
   {
    "duration": 4,
    "start_time": "2022-11-26T06:18:04.294Z"
   },
   {
    "duration": 170,
    "start_time": "2022-11-26T06:18:20.297Z"
   },
   {
    "duration": 3,
    "start_time": "2022-11-26T06:18:20.777Z"
   },
   {
    "duration": 98,
    "start_time": "2022-11-26T06:18:30.791Z"
   },
   {
    "duration": 4,
    "start_time": "2022-11-26T06:18:31.093Z"
   },
   {
    "duration": 96,
    "start_time": "2022-11-26T06:18:36.144Z"
   },
   {
    "duration": 3,
    "start_time": "2022-11-26T06:18:36.372Z"
   },
   {
    "duration": 97,
    "start_time": "2022-11-26T06:18:40.317Z"
   },
   {
    "duration": 4,
    "start_time": "2022-11-26T06:18:40.713Z"
   },
   {
    "duration": 96,
    "start_time": "2022-11-26T06:18:46.473Z"
   },
   {
    "duration": 4,
    "start_time": "2022-11-26T06:18:46.793Z"
   },
   {
    "duration": 97,
    "start_time": "2022-11-26T06:18:49.592Z"
   },
   {
    "duration": 3,
    "start_time": "2022-11-26T06:18:49.802Z"
   },
   {
    "duration": 103,
    "start_time": "2022-11-26T06:18:52.959Z"
   },
   {
    "duration": 4,
    "start_time": "2022-11-26T06:18:53.326Z"
   },
   {
    "duration": 94,
    "start_time": "2022-11-26T06:18:55.882Z"
   },
   {
    "duration": 4,
    "start_time": "2022-11-26T06:18:56.081Z"
   },
   {
    "duration": 90,
    "start_time": "2022-11-26T06:18:58.585Z"
   },
   {
    "duration": 4,
    "start_time": "2022-11-26T06:18:58.850Z"
   },
   {
    "duration": 91,
    "start_time": "2022-11-26T06:19:00.835Z"
   },
   {
    "duration": 4,
    "start_time": "2022-11-26T06:19:01.008Z"
   },
   {
    "duration": 95,
    "start_time": "2022-11-26T06:19:03.042Z"
   },
   {
    "duration": 4,
    "start_time": "2022-11-26T06:19:03.215Z"
   },
   {
    "duration": 115,
    "start_time": "2022-11-26T06:19:33.628Z"
   },
   {
    "duration": 3,
    "start_time": "2022-11-26T06:19:33.933Z"
   },
   {
    "duration": 3,
    "start_time": "2022-11-26T06:19:54.298Z"
   },
   {
    "duration": 3,
    "start_time": "2022-11-26T06:19:57.106Z"
   },
   {
    "duration": 133,
    "start_time": "2022-11-26T06:54:26.473Z"
   },
   {
    "duration": 3,
    "start_time": "2022-11-26T06:54:26.936Z"
   },
   {
    "duration": 118,
    "start_time": "2022-11-26T06:54:30.657Z"
   },
   {
    "duration": 4,
    "start_time": "2022-11-26T06:54:30.922Z"
   },
   {
    "duration": 26606,
    "start_time": "2022-11-26T07:01:52.293Z"
   },
   {
    "duration": 7,
    "start_time": "2022-11-26T07:12:36.109Z"
   },
   {
    "duration": 51,
    "start_time": "2022-11-26T07:12:44.371Z"
   },
   {
    "duration": 54,
    "start_time": "2022-11-26T07:12:49.445Z"
   },
   {
    "duration": 28,
    "start_time": "2022-11-26T07:12:52.896Z"
   },
   {
    "duration": 5,
    "start_time": "2022-11-26T07:12:53.380Z"
   },
   {
    "duration": 7,
    "start_time": "2022-11-26T07:32:09.509Z"
   },
   {
    "duration": 5,
    "start_time": "2022-11-26T07:32:09.720Z"
   },
   {
    "duration": 3,
    "start_time": "2022-11-26T07:32:13.598Z"
   },
   {
    "duration": 11,
    "start_time": "2022-11-26T07:32:34.936Z"
   },
   {
    "duration": 129,
    "start_time": "2022-11-26T07:35:45.192Z"
   },
   {
    "duration": 4,
    "start_time": "2022-11-26T07:35:45.585Z"
   },
   {
    "duration": 3,
    "start_time": "2022-11-26T07:35:46.718Z"
   },
   {
    "duration": 17,
    "start_time": "2022-11-26T07:36:15.165Z"
   },
   {
    "duration": 4,
    "start_time": "2022-11-26T07:37:32.917Z"
   },
   {
    "duration": 38,
    "start_time": "2022-11-26T07:37:32.990Z"
   },
   {
    "duration": 8,
    "start_time": "2022-11-26T07:37:33.029Z"
   },
   {
    "duration": 4,
    "start_time": "2022-11-26T07:37:33.070Z"
   },
   {
    "duration": 3,
    "start_time": "2022-11-26T07:37:33.097Z"
   },
   {
    "duration": 7,
    "start_time": "2022-11-26T07:37:33.139Z"
   },
   {
    "duration": 114,
    "start_time": "2022-11-26T07:37:33.167Z"
   },
   {
    "duration": 95,
    "start_time": "2022-11-26T07:37:33.284Z"
   },
   {
    "duration": 5,
    "start_time": "2022-11-26T07:37:33.382Z"
   },
   {
    "duration": 120,
    "start_time": "2022-11-26T07:37:33.389Z"
   },
   {
    "duration": 13,
    "start_time": "2022-11-26T07:37:33.511Z"
   },
   {
    "duration": 102,
    "start_time": "2022-11-26T07:37:33.526Z"
   },
   {
    "duration": 4,
    "start_time": "2022-11-26T07:37:34.251Z"
   },
   {
    "duration": 2,
    "start_time": "2022-11-26T07:37:34.311Z"
   },
   {
    "duration": 10,
    "start_time": "2022-11-26T07:37:34.366Z"
   },
   {
    "duration": 12,
    "start_time": "2022-11-26T07:37:34.457Z"
   },
   {
    "duration": 26315,
    "start_time": "2022-11-26T07:37:36.812Z"
   },
   {
    "duration": 4,
    "start_time": "2022-11-26T07:38:03.129Z"
   },
   {
    "duration": 22,
    "start_time": "2022-11-26T07:38:03.134Z"
   },
   {
    "duration": 11,
    "start_time": "2022-11-26T07:38:03.158Z"
   },
   {
    "duration": 5,
    "start_time": "2022-11-26T07:38:03.171Z"
   },
   {
    "duration": 9,
    "start_time": "2022-11-26T07:38:03.178Z"
   },
   {
    "duration": 12,
    "start_time": "2022-11-26T07:38:03.188Z"
   },
   {
    "duration": 251,
    "start_time": "2022-11-26T07:38:03.202Z"
   },
   {
    "duration": 3,
    "start_time": "2022-11-26T07:38:03.455Z"
   },
   {
    "duration": 9,
    "start_time": "2022-11-26T07:38:03.460Z"
   },
   {
    "duration": 58,
    "start_time": "2022-11-26T07:38:03.470Z"
   },
   {
    "duration": 6,
    "start_time": "2022-11-26T07:38:03.530Z"
   },
   {
    "duration": 2,
    "start_time": "2022-11-26T07:38:59.855Z"
   },
   {
    "duration": 14,
    "start_time": "2022-11-26T07:40:02.798Z"
   },
   {
    "duration": 101,
    "start_time": "2022-11-26T07:40:03.245Z"
   },
   {
    "duration": 4,
    "start_time": "2022-11-26T07:40:06.803Z"
   },
   {
    "duration": 3,
    "start_time": "2022-11-26T07:40:07.485Z"
   },
   {
    "duration": 46,
    "start_time": "2022-11-26T07:43:12.231Z"
   },
   {
    "duration": 4,
    "start_time": "2022-11-26T07:43:12.835Z"
   },
   {
    "duration": 4,
    "start_time": "2022-11-26T07:43:13.485Z"
   },
   {
    "duration": 117,
    "start_time": "2022-11-26T07:46:40.729Z"
   },
   {
    "duration": 3,
    "start_time": "2022-11-26T07:46:41.145Z"
   },
   {
    "duration": 3,
    "start_time": "2022-11-26T07:46:42.134Z"
   },
   {
    "duration": 117,
    "start_time": "2022-11-26T07:46:56.113Z"
   },
   {
    "duration": 5,
    "start_time": "2022-11-26T07:46:56.635Z"
   },
   {
    "duration": 121,
    "start_time": "2022-11-26T07:47:04.255Z"
   },
   {
    "duration": 4,
    "start_time": "2022-11-26T07:47:04.557Z"
   },
   {
    "duration": 3,
    "start_time": "2022-11-26T07:47:05.138Z"
   },
   {
    "duration": 1645,
    "start_time": "2022-11-27T05:27:51.842Z"
   },
   {
    "duration": 84,
    "start_time": "2022-11-27T05:27:53.489Z"
   },
   {
    "duration": 27,
    "start_time": "2022-11-27T05:27:59.873Z"
   },
   {
    "duration": 2,
    "start_time": "2022-11-27T05:56:47.395Z"
   },
   {
    "duration": 21,
    "start_time": "2022-11-27T05:57:50.481Z"
   },
   {
    "duration": 5,
    "start_time": "2022-11-27T05:58:48.132Z"
   },
   {
    "duration": 37,
    "start_time": "2022-11-27T05:58:48.247Z"
   },
   {
    "duration": 127,
    "start_time": "2022-11-27T06:00:13.980Z"
   },
   {
    "duration": 15,
    "start_time": "2022-11-27T06:00:18.575Z"
   },
   {
    "duration": 25,
    "start_time": "2022-11-27T06:00:22.047Z"
   },
   {
    "duration": 6,
    "start_time": "2022-11-27T06:01:44.056Z"
   },
   {
    "duration": 18,
    "start_time": "2022-11-27T06:01:56.832Z"
   },
   {
    "duration": 4,
    "start_time": "2022-11-27T06:02:08.649Z"
   },
   {
    "duration": 18,
    "start_time": "2022-11-27T06:02:40.551Z"
   },
   {
    "duration": 3,
    "start_time": "2022-11-27T06:02:42.492Z"
   },
   {
    "duration": 11,
    "start_time": "2022-11-27T06:05:16.233Z"
   },
   {
    "duration": 3,
    "start_time": "2022-11-27T06:05:23.467Z"
   },
   {
    "duration": 14,
    "start_time": "2022-11-27T06:05:23.709Z"
   },
   {
    "duration": 21,
    "start_time": "2022-11-27T06:05:42.391Z"
   },
   {
    "duration": 18,
    "start_time": "2022-11-27T06:06:16.664Z"
   },
   {
    "duration": 12,
    "start_time": "2022-11-27T06:07:26.473Z"
   },
   {
    "duration": 216,
    "start_time": "2022-11-27T06:08:07.204Z"
   },
   {
    "duration": 203,
    "start_time": "2022-11-27T06:08:20.249Z"
   },
   {
    "duration": 5,
    "start_time": "2022-11-27T06:08:26.149Z"
   },
   {
    "duration": 4,
    "start_time": "2022-11-27T06:08:45.666Z"
   },
   {
    "duration": 5,
    "start_time": "2022-11-27T06:08:48.623Z"
   },
   {
    "duration": 5,
    "start_time": "2022-11-27T06:09:51.386Z"
   },
   {
    "duration": 5,
    "start_time": "2022-11-27T06:10:16.681Z"
   },
   {
    "duration": 8,
    "start_time": "2022-11-27T06:10:30.174Z"
   },
   {
    "duration": 7,
    "start_time": "2022-11-27T06:11:43.670Z"
   },
   {
    "duration": 4,
    "start_time": "2022-11-27T06:11:59.539Z"
   },
   {
    "duration": 9,
    "start_time": "2022-11-27T06:12:24.615Z"
   },
   {
    "duration": 7,
    "start_time": "2022-11-27T06:12:24.863Z"
   },
   {
    "duration": 5,
    "start_time": "2022-11-27T06:12:34.731Z"
   },
   {
    "duration": 5,
    "start_time": "2022-11-27T06:12:46.993Z"
   },
   {
    "duration": 5,
    "start_time": "2022-11-27T06:12:52.508Z"
   },
   {
    "duration": 9,
    "start_time": "2022-11-27T06:13:54.174Z"
   },
   {
    "duration": 4,
    "start_time": "2022-11-27T06:13:55.719Z"
   },
   {
    "duration": 5,
    "start_time": "2022-11-27T06:14:03.276Z"
   },
   {
    "duration": 5,
    "start_time": "2022-11-27T06:14:07.127Z"
   },
   {
    "duration": 5,
    "start_time": "2022-11-27T06:14:12.969Z"
   },
   {
    "duration": 220,
    "start_time": "2022-11-27T06:14:30.389Z"
   },
   {
    "duration": 10,
    "start_time": "2022-11-27T06:14:30.611Z"
   },
   {
    "duration": 22,
    "start_time": "2022-11-27T06:14:44.213Z"
   },
   {
    "duration": 22,
    "start_time": "2022-11-27T06:15:27.619Z"
   },
   {
    "duration": 260,
    "start_time": "2022-11-27T06:15:55.867Z"
   },
   {
    "duration": 99,
    "start_time": "2022-11-27T06:15:56.189Z"
   },
   {
    "duration": 27,
    "start_time": "2022-11-27T06:15:56.552Z"
   },
   {
    "duration": 5,
    "start_time": "2022-11-27T06:16:34.143Z"
   },
   {
    "duration": 3,
    "start_time": "2022-11-27T06:16:41.822Z"
   },
   {
    "duration": 62,
    "start_time": "2022-11-27T06:16:48.968Z"
   },
   {
    "duration": 16,
    "start_time": "2022-11-27T06:17:27.493Z"
   },
   {
    "duration": 7944,
    "start_time": "2022-11-27T06:17:39.388Z"
   },
   {
    "duration": 36,
    "start_time": "2022-11-27T06:17:55.470Z"
   },
   {
    "duration": 3558,
    "start_time": "2022-11-27T06:18:43.627Z"
   },
   {
    "duration": 4,
    "start_time": "2022-11-27T06:30:32.953Z"
   },
   {
    "duration": 41,
    "start_time": "2022-11-27T06:30:48.083Z"
   },
   {
    "duration": 3,
    "start_time": "2022-11-27T06:31:45.979Z"
   },
   {
    "duration": 21,
    "start_time": "2022-11-27T06:31:49.902Z"
   },
   {
    "duration": 5,
    "start_time": "2022-11-27T06:32:21.285Z"
   },
   {
    "duration": 4,
    "start_time": "2022-11-27T06:32:37.821Z"
   },
   {
    "duration": 9,
    "start_time": "2022-11-27T06:32:51.364Z"
   },
   {
    "duration": 13,
    "start_time": "2022-11-27T06:32:51.481Z"
   },
   {
    "duration": 8,
    "start_time": "2022-11-27T06:32:51.842Z"
   },
   {
    "duration": 3,
    "start_time": "2022-11-27T06:32:55.482Z"
   },
   {
    "duration": 37,
    "start_time": "2022-11-27T06:32:55.847Z"
   },
   {
    "duration": 19,
    "start_time": "2022-11-27T06:32:56.595Z"
   },
   {
    "duration": 42,
    "start_time": "2022-11-27T06:36:48.579Z"
   },
   {
    "duration": 27,
    "start_time": "2022-11-27T06:37:11.340Z"
   },
   {
    "duration": 26,
    "start_time": "2022-11-27T06:40:14.910Z"
   },
   {
    "duration": 24,
    "start_time": "2022-11-27T06:40:21.654Z"
   },
   {
    "duration": 4,
    "start_time": "2022-11-27T06:40:31.586Z"
   },
   {
    "duration": 111,
    "start_time": "2022-11-27T06:48:35.650Z"
   },
   {
    "duration": 53,
    "start_time": "2022-11-27T06:58:46.343Z"
   },
   {
    "duration": 15,
    "start_time": "2022-11-27T06:59:39.600Z"
   },
   {
    "duration": 12,
    "start_time": "2022-11-27T06:59:59.113Z"
   },
   {
    "duration": 13594,
    "start_time": "2022-11-27T07:00:45.900Z"
   },
   {
    "duration": 6,
    "start_time": "2022-11-27T07:01:43.676Z"
   },
   {
    "duration": 5,
    "start_time": "2022-11-27T07:01:55.714Z"
   },
   {
    "duration": 13,
    "start_time": "2022-11-27T07:06:50.848Z"
   },
   {
    "duration": 12,
    "start_time": "2022-11-27T07:06:56.978Z"
   },
   {
    "duration": 29753,
    "start_time": "2022-11-27T07:06:58.364Z"
   },
   {
    "duration": 11,
    "start_time": "2022-11-27T07:08:20.958Z"
   },
   {
    "duration": 4,
    "start_time": "2022-11-27T07:08:23.183Z"
   }
  ],
  "kernelspec": {
   "display_name": "Python 3 (ipykernel)",
   "language": "python",
   "name": "python3"
  },
  "language_info": {
   "codemirror_mode": {
    "name": "ipython",
    "version": 3
   },
   "file_extension": ".py",
   "mimetype": "text/x-python",
   "name": "python",
   "nbconvert_exporter": "python",
   "pygments_lexer": "ipython3",
   "version": "3.9.5"
  },
  "toc": {
   "base_numbering": 1,
   "nav_menu": {},
   "number_sections": true,
   "sideBar": true,
   "skip_h1_title": true,
   "title_cell": "Содержание",
   "title_sidebar": "Contents",
   "toc_cell": true,
   "toc_position": {},
   "toc_section_display": true,
   "toc_window_display": true
  }
 },
 "nbformat": 4,
 "nbformat_minor": 2
}
